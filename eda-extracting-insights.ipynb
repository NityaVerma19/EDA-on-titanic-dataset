{
 "cells": [
  {
   "cell_type": "code",
   "execution_count": 1,
   "id": "d9e71844",
   "metadata": {
    "_cell_guid": "b1076dfc-b9ad-4769-8c92-a6c4dae69d19",
    "_uuid": "8f2839f25d086af736a60e9eeb907d3b93b6e0e5",
    "execution": {
     "iopub.execute_input": "2024-05-22T06:30:33.836368Z",
     "iopub.status.busy": "2024-05-22T06:30:33.835904Z",
     "iopub.status.idle": "2024-05-22T06:30:34.687848Z",
     "shell.execute_reply": "2024-05-22T06:30:34.686607Z"
    },
    "papermill": {
     "duration": 0.869072,
     "end_time": "2024-05-22T06:30:34.691584",
     "exception": false,
     "start_time": "2024-05-22T06:30:33.822512",
     "status": "completed"
    },
    "tags": []
   },
   "outputs": [
    {
     "name": "stdout",
     "output_type": "stream",
     "text": [
      "/kaggle/input/titanic/train.csv\n",
      "/kaggle/input/titanic/test.csv\n",
      "/kaggle/input/titanic/gender_submission.csv\n"
     ]
    }
   ],
   "source": [
    "# This Python 3 environment comes with many helpful analytics libraries installed\n",
    "# It is defined by the kaggle/python Docker image: https://github.com/kaggle/docker-python\n",
    "# For example, here's several helpful packages to load\n",
    "\n",
    "import numpy as np # linear algebra\n",
    "import pandas as pd # data processing, CSV file I/O (e.g. pd.read_csv)\n",
    "\n",
    "# Input data files are available in the read-only \"../input/\" directory\n",
    "# For example, running this (by clicking run or pressing Shift+Enter) will list all files under the input directory\n",
    "\n",
    "import os\n",
    "for dirname, _, filenames in os.walk('/kaggle/input'):\n",
    "    for filename in filenames:\n",
    "        print(os.path.join(dirname, filename))\n",
    "\n",
    "# You can write up to 20GB to the current directory (/kaggle/working/) that gets preserved as output when you create a version using \"Save & Run All\" \n",
    "# You can also write temporary files to /kaggle/temp/, but they won't be saved outside of the current session"
   ]
  },
  {
   "cell_type": "code",
   "execution_count": 2,
   "id": "b0bba05e",
   "metadata": {
    "execution": {
     "iopub.execute_input": "2024-05-22T06:30:34.717352Z",
     "iopub.status.busy": "2024-05-22T06:30:34.716789Z",
     "iopub.status.idle": "2024-05-22T06:30:34.739445Z",
     "shell.execute_reply": "2024-05-22T06:30:34.738125Z"
    },
    "papermill": {
     "duration": 0.038186,
     "end_time": "2024-05-22T06:30:34.742345",
     "exception": false,
     "start_time": "2024-05-22T06:30:34.704159",
     "status": "completed"
    },
    "tags": []
   },
   "outputs": [],
   "source": [
    "df = pd.read_csv('/kaggle/input/titanic/train.csv')"
   ]
  },
  {
   "cell_type": "code",
   "execution_count": 3,
   "id": "2a85c9a1",
   "metadata": {
    "execution": {
     "iopub.execute_input": "2024-05-22T06:30:34.768461Z",
     "iopub.status.busy": "2024-05-22T06:30:34.768069Z",
     "iopub.status.idle": "2024-05-22T06:30:34.796719Z",
     "shell.execute_reply": "2024-05-22T06:30:34.795499Z"
    },
    "papermill": {
     "duration": 0.045473,
     "end_time": "2024-05-22T06:30:34.799490",
     "exception": false,
     "start_time": "2024-05-22T06:30:34.754017",
     "status": "completed"
    },
    "tags": []
   },
   "outputs": [
    {
     "data": {
      "text/html": [
       "<div>\n",
       "<style scoped>\n",
       "    .dataframe tbody tr th:only-of-type {\n",
       "        vertical-align: middle;\n",
       "    }\n",
       "\n",
       "    .dataframe tbody tr th {\n",
       "        vertical-align: top;\n",
       "    }\n",
       "\n",
       "    .dataframe thead th {\n",
       "        text-align: right;\n",
       "    }\n",
       "</style>\n",
       "<table border=\"1\" class=\"dataframe\">\n",
       "  <thead>\n",
       "    <tr style=\"text-align: right;\">\n",
       "      <th></th>\n",
       "      <th>PassengerId</th>\n",
       "      <th>Survived</th>\n",
       "      <th>Pclass</th>\n",
       "      <th>Name</th>\n",
       "      <th>Sex</th>\n",
       "      <th>Age</th>\n",
       "      <th>SibSp</th>\n",
       "      <th>Parch</th>\n",
       "      <th>Ticket</th>\n",
       "      <th>Fare</th>\n",
       "      <th>Cabin</th>\n",
       "      <th>Embarked</th>\n",
       "    </tr>\n",
       "  </thead>\n",
       "  <tbody>\n",
       "    <tr>\n",
       "      <th>0</th>\n",
       "      <td>1</td>\n",
       "      <td>0</td>\n",
       "      <td>3</td>\n",
       "      <td>Braund, Mr. Owen Harris</td>\n",
       "      <td>male</td>\n",
       "      <td>22.0</td>\n",
       "      <td>1</td>\n",
       "      <td>0</td>\n",
       "      <td>A/5 21171</td>\n",
       "      <td>7.2500</td>\n",
       "      <td>NaN</td>\n",
       "      <td>S</td>\n",
       "    </tr>\n",
       "    <tr>\n",
       "      <th>1</th>\n",
       "      <td>2</td>\n",
       "      <td>1</td>\n",
       "      <td>1</td>\n",
       "      <td>Cumings, Mrs. John Bradley (Florence Briggs Th...</td>\n",
       "      <td>female</td>\n",
       "      <td>38.0</td>\n",
       "      <td>1</td>\n",
       "      <td>0</td>\n",
       "      <td>PC 17599</td>\n",
       "      <td>71.2833</td>\n",
       "      <td>C85</td>\n",
       "      <td>C</td>\n",
       "    </tr>\n",
       "    <tr>\n",
       "      <th>2</th>\n",
       "      <td>3</td>\n",
       "      <td>1</td>\n",
       "      <td>3</td>\n",
       "      <td>Heikkinen, Miss. Laina</td>\n",
       "      <td>female</td>\n",
       "      <td>26.0</td>\n",
       "      <td>0</td>\n",
       "      <td>0</td>\n",
       "      <td>STON/O2. 3101282</td>\n",
       "      <td>7.9250</td>\n",
       "      <td>NaN</td>\n",
       "      <td>S</td>\n",
       "    </tr>\n",
       "    <tr>\n",
       "      <th>3</th>\n",
       "      <td>4</td>\n",
       "      <td>1</td>\n",
       "      <td>1</td>\n",
       "      <td>Futrelle, Mrs. Jacques Heath (Lily May Peel)</td>\n",
       "      <td>female</td>\n",
       "      <td>35.0</td>\n",
       "      <td>1</td>\n",
       "      <td>0</td>\n",
       "      <td>113803</td>\n",
       "      <td>53.1000</td>\n",
       "      <td>C123</td>\n",
       "      <td>S</td>\n",
       "    </tr>\n",
       "    <tr>\n",
       "      <th>4</th>\n",
       "      <td>5</td>\n",
       "      <td>0</td>\n",
       "      <td>3</td>\n",
       "      <td>Allen, Mr. William Henry</td>\n",
       "      <td>male</td>\n",
       "      <td>35.0</td>\n",
       "      <td>0</td>\n",
       "      <td>0</td>\n",
       "      <td>373450</td>\n",
       "      <td>8.0500</td>\n",
       "      <td>NaN</td>\n",
       "      <td>S</td>\n",
       "    </tr>\n",
       "  </tbody>\n",
       "</table>\n",
       "</div>"
      ],
      "text/plain": [
       "   PassengerId  Survived  Pclass  \\\n",
       "0            1         0       3   \n",
       "1            2         1       1   \n",
       "2            3         1       3   \n",
       "3            4         1       1   \n",
       "4            5         0       3   \n",
       "\n",
       "                                                Name     Sex   Age  SibSp  \\\n",
       "0                            Braund, Mr. Owen Harris    male  22.0      1   \n",
       "1  Cumings, Mrs. John Bradley (Florence Briggs Th...  female  38.0      1   \n",
       "2                             Heikkinen, Miss. Laina  female  26.0      0   \n",
       "3       Futrelle, Mrs. Jacques Heath (Lily May Peel)  female  35.0      1   \n",
       "4                           Allen, Mr. William Henry    male  35.0      0   \n",
       "\n",
       "   Parch            Ticket     Fare Cabin Embarked  \n",
       "0      0         A/5 21171   7.2500   NaN        S  \n",
       "1      0          PC 17599  71.2833   C85        C  \n",
       "2      0  STON/O2. 3101282   7.9250   NaN        S  \n",
       "3      0            113803  53.1000  C123        S  \n",
       "4      0            373450   8.0500   NaN        S  "
      ]
     },
     "execution_count": 3,
     "metadata": {},
     "output_type": "execute_result"
    }
   ],
   "source": [
    "df.head()"
   ]
  },
  {
   "cell_type": "markdown",
   "id": "1c4359ab",
   "metadata": {
    "papermill": {
     "duration": 0.011611,
     "end_time": "2024-05-22T06:30:34.823010",
     "exception": false,
     "start_time": "2024-05-22T06:30:34.811399",
     "status": "completed"
    },
    "tags": []
   },
   "source": [
    "# Univariate Analysis on Numerical Column"
   ]
  },
  {
   "cell_type": "markdown",
   "id": "7993ce41",
   "metadata": {
    "papermill": {
     "duration": 0.013803,
     "end_time": "2024-05-22T06:30:34.852240",
     "exception": false,
     "start_time": "2024-05-22T06:30:34.838437",
     "status": "completed"
    },
    "tags": []
   },
   "source": [
    "## Age\n",
    "\n",
    "***Conclusions***\n",
    "\n",
    " - Age is almost normally distributed\n",
    " - Around 20% of the values are missing\n",
    " - There are some outliers present "
   ]
  },
  {
   "cell_type": "code",
   "execution_count": 4,
   "id": "342e451d",
   "metadata": {
    "execution": {
     "iopub.execute_input": "2024-05-22T06:30:34.879435Z",
     "iopub.status.busy": "2024-05-22T06:30:34.879032Z",
     "iopub.status.idle": "2024-05-22T06:30:34.896077Z",
     "shell.execute_reply": "2024-05-22T06:30:34.894789Z"
    },
    "papermill": {
     "duration": 0.032779,
     "end_time": "2024-05-22T06:30:34.898696",
     "exception": false,
     "start_time": "2024-05-22T06:30:34.865917",
     "status": "completed"
    },
    "tags": []
   },
   "outputs": [
    {
     "data": {
      "text/plain": [
       "count    714.000000\n",
       "mean      29.699118\n",
       "std       14.526497\n",
       "min        0.420000\n",
       "25%       20.125000\n",
       "50%       28.000000\n",
       "75%       38.000000\n",
       "max       80.000000\n",
       "Name: Age, dtype: float64"
      ]
     },
     "execution_count": 4,
     "metadata": {},
     "output_type": "execute_result"
    }
   ],
   "source": [
    "#Summary statistic\n",
    "df['Age'].describe()"
   ]
  },
  {
   "cell_type": "code",
   "execution_count": 5,
   "id": "3f92b98e",
   "metadata": {
    "execution": {
     "iopub.execute_input": "2024-05-22T06:30:34.926072Z",
     "iopub.status.busy": "2024-05-22T06:30:34.925478Z",
     "iopub.status.idle": "2024-05-22T06:30:35.263714Z",
     "shell.execute_reply": "2024-05-22T06:30:35.262656Z"
    },
    "papermill": {
     "duration": 0.355332,
     "end_time": "2024-05-22T06:30:35.266044",
     "exception": false,
     "start_time": "2024-05-22T06:30:34.910712",
     "status": "completed"
    },
    "tags": []
   },
   "outputs": [
    {
     "data": {
      "text/plain": [
       "<Axes: ylabel='Frequency'>"
      ]
     },
     "execution_count": 5,
     "metadata": {},
     "output_type": "execute_result"
    },
    {
     "data": {
      "image/png": "[encoded data removed]",
      "text/plain": [
       "<Figure size 640x480 with 1 Axes>"
      ]
     },
     "metadata": {},
     "output_type": "display_data"
    }
   ],
   "source": [
    "#Histogram\n",
    "df['Age'].plot(kind = \"hist\", bins = 20)"
   ]
  },
  {
   "cell_type": "markdown",
   "id": "af8b88dd",
   "metadata": {
    "papermill": {
     "duration": 0.011931,
     "end_time": "2024-05-22T06:30:35.290893",
     "exception": false,
     "start_time": "2024-05-22T06:30:35.278962",
     "status": "completed"
    },
    "tags": []
   },
   "source": [
    "*Most passengers are of the age group 20-40*"
   ]
  },
  {
   "cell_type": "code",
   "execution_count": 6,
   "id": "d3f36783",
   "metadata": {
    "execution": {
     "iopub.execute_input": "2024-05-22T06:30:35.317715Z",
     "iopub.status.busy": "2024-05-22T06:30:35.317349Z",
     "iopub.status.idle": "2024-05-22T06:30:36.577148Z",
     "shell.execute_reply": "2024-05-22T06:30:36.576003Z"
    },
    "papermill": {
     "duration": 1.276073,
     "end_time": "2024-05-22T06:30:36.579697",
     "exception": false,
     "start_time": "2024-05-22T06:30:35.303624",
     "status": "completed"
    },
    "tags": []
   },
   "outputs": [
    {
     "data": {
      "text/plain": [
       "<Axes: ylabel='Density'>"
      ]
     },
     "execution_count": 6,
     "metadata": {},
     "output_type": "execute_result"
    },
    {
     "data": {
      "image/png": "[encoded data removed]",
      "text/plain": [
       "<Figure size 640x480 with 1 Axes>"
      ]
     },
     "metadata": {},
     "output_type": "display_data"
    }
   ],
   "source": [
    "#The distribution of the data\n",
    "df['Age'].plot(kind = \"kde\")"
   ]
  },
  {
   "cell_type": "code",
   "execution_count": 7,
   "id": "cbac2e87",
   "metadata": {
    "execution": {
     "iopub.execute_input": "2024-05-22T06:30:36.606824Z",
     "iopub.status.busy": "2024-05-22T06:30:36.606436Z",
     "iopub.status.idle": "2024-05-22T06:30:36.613707Z",
     "shell.execute_reply": "2024-05-22T06:30:36.612640Z"
    },
    "papermill": {
     "duration": 0.023376,
     "end_time": "2024-05-22T06:30:36.615722",
     "exception": false,
     "start_time": "2024-05-22T06:30:36.592346",
     "status": "completed"
    },
    "tags": []
   },
   "outputs": [
    {
     "data": {
      "text/plain": [
       "0.38910778230082704"
      ]
     },
     "execution_count": 7,
     "metadata": {},
     "output_type": "execute_result"
    }
   ],
   "source": [
    "#Skewness\n",
    "df['Age'].skew()"
   ]
  },
  {
   "cell_type": "markdown",
   "id": "e09abed9",
   "metadata": {
    "papermill": {
     "duration": 0.012463,
     "end_time": "2024-05-22T06:30:36.640904",
     "exception": false,
     "start_time": "2024-05-22T06:30:36.628441",
     "status": "completed"
    },
    "tags": []
   },
   "source": [
    "*as skewness is closer to 0, we can say that the data is almost normally distributed*"
   ]
  },
  {
   "cell_type": "code",
   "execution_count": 8,
   "id": "28b6d1f5",
   "metadata": {
    "execution": {
     "iopub.execute_input": "2024-05-22T06:30:36.668394Z",
     "iopub.status.busy": "2024-05-22T06:30:36.667972Z",
     "iopub.status.idle": "2024-05-22T06:30:36.884501Z",
     "shell.execute_reply": "2024-05-22T06:30:36.883378Z"
    },
    "papermill": {
     "duration": 0.23335,
     "end_time": "2024-05-22T06:30:36.886830",
     "exception": false,
     "start_time": "2024-05-22T06:30:36.653480",
     "status": "completed"
    },
    "tags": []
   },
   "outputs": [
    {
     "data": {
      "text/plain": [
       "<Axes: >"
      ]
     },
     "execution_count": 8,
     "metadata": {},
     "output_type": "execute_result"
    },
    {
     "data": {
      "image/png": "[encoded data removed]",
      "text/plain": [
       "<Figure size 640x480 with 1 Axes>"
      ]
     },
     "metadata": {},
     "output_type": "display_data"
    }
   ],
   "source": [
    "#Boxp;ot\n",
    "df['Age'].plot(kind = \"box\")"
   ]
  },
  {
   "cell_type": "markdown",
   "id": "c77f08ea",
   "metadata": {
    "papermill": {
     "duration": 0.012885,
     "end_time": "2024-05-22T06:30:36.913502",
     "exception": false,
     "start_time": "2024-05-22T06:30:36.900617",
     "status": "completed"
    },
    "tags": []
   },
   "source": [
    "*Outliers are present above 65*"
   ]
  },
  {
   "cell_type": "code",
   "execution_count": 9,
   "id": "ef34e16c",
   "metadata": {
    "execution": {
     "iopub.execute_input": "2024-05-22T06:30:36.941351Z",
     "iopub.status.busy": "2024-05-22T06:30:36.940953Z",
     "iopub.status.idle": "2024-05-22T06:30:36.961950Z",
     "shell.execute_reply": "2024-05-22T06:30:36.960758Z"
    },
    "papermill": {
     "duration": 0.037566,
     "end_time": "2024-05-22T06:30:36.964198",
     "exception": false,
     "start_time": "2024-05-22T06:30:36.926632",
     "status": "completed"
    },
    "tags": []
   },
   "outputs": [
    {
     "data": {
      "text/html": [
       "<div>\n",
       "<style scoped>\n",
       "    .dataframe tbody tr th:only-of-type {\n",
       "        vertical-align: middle;\n",
       "    }\n",
       "\n",
       "    .dataframe tbody tr th {\n",
       "        vertical-align: top;\n",
       "    }\n",
       "\n",
       "    .dataframe thead th {\n",
       "        text-align: right;\n",
       "    }\n",
       "</style>\n",
       "<table border=\"1\" class=\"dataframe\">\n",
       "  <thead>\n",
       "    <tr style=\"text-align: right;\">\n",
       "      <th></th>\n",
       "      <th>PassengerId</th>\n",
       "      <th>Survived</th>\n",
       "      <th>Pclass</th>\n",
       "      <th>Name</th>\n",
       "      <th>Sex</th>\n",
       "      <th>Age</th>\n",
       "      <th>SibSp</th>\n",
       "      <th>Parch</th>\n",
       "      <th>Ticket</th>\n",
       "      <th>Fare</th>\n",
       "      <th>Cabin</th>\n",
       "      <th>Embarked</th>\n",
       "    </tr>\n",
       "  </thead>\n",
       "  <tbody>\n",
       "    <tr>\n",
       "      <th>33</th>\n",
       "      <td>34</td>\n",
       "      <td>0</td>\n",
       "      <td>2</td>\n",
       "      <td>Wheadon, Mr. Edward H</td>\n",
       "      <td>male</td>\n",
       "      <td>66.0</td>\n",
       "      <td>0</td>\n",
       "      <td>0</td>\n",
       "      <td>C.A. 24579</td>\n",
       "      <td>10.5000</td>\n",
       "      <td>NaN</td>\n",
       "      <td>S</td>\n",
       "    </tr>\n",
       "    <tr>\n",
       "      <th>96</th>\n",
       "      <td>97</td>\n",
       "      <td>0</td>\n",
       "      <td>1</td>\n",
       "      <td>Goldschmidt, Mr. George B</td>\n",
       "      <td>male</td>\n",
       "      <td>71.0</td>\n",
       "      <td>0</td>\n",
       "      <td>0</td>\n",
       "      <td>PC 17754</td>\n",
       "      <td>34.6542</td>\n",
       "      <td>A5</td>\n",
       "      <td>C</td>\n",
       "    </tr>\n",
       "    <tr>\n",
       "      <th>116</th>\n",
       "      <td>117</td>\n",
       "      <td>0</td>\n",
       "      <td>3</td>\n",
       "      <td>Connors, Mr. Patrick</td>\n",
       "      <td>male</td>\n",
       "      <td>70.5</td>\n",
       "      <td>0</td>\n",
       "      <td>0</td>\n",
       "      <td>370369</td>\n",
       "      <td>7.7500</td>\n",
       "      <td>NaN</td>\n",
       "      <td>Q</td>\n",
       "    </tr>\n",
       "    <tr>\n",
       "      <th>493</th>\n",
       "      <td>494</td>\n",
       "      <td>0</td>\n",
       "      <td>1</td>\n",
       "      <td>Artagaveytia, Mr. Ramon</td>\n",
       "      <td>male</td>\n",
       "      <td>71.0</td>\n",
       "      <td>0</td>\n",
       "      <td>0</td>\n",
       "      <td>PC 17609</td>\n",
       "      <td>49.5042</td>\n",
       "      <td>NaN</td>\n",
       "      <td>C</td>\n",
       "    </tr>\n",
       "    <tr>\n",
       "      <th>630</th>\n",
       "      <td>631</td>\n",
       "      <td>1</td>\n",
       "      <td>1</td>\n",
       "      <td>Barkworth, Mr. Algernon Henry Wilson</td>\n",
       "      <td>male</td>\n",
       "      <td>80.0</td>\n",
       "      <td>0</td>\n",
       "      <td>0</td>\n",
       "      <td>27042</td>\n",
       "      <td>30.0000</td>\n",
       "      <td>A23</td>\n",
       "      <td>S</td>\n",
       "    </tr>\n",
       "    <tr>\n",
       "      <th>672</th>\n",
       "      <td>673</td>\n",
       "      <td>0</td>\n",
       "      <td>2</td>\n",
       "      <td>Mitchell, Mr. Henry Michael</td>\n",
       "      <td>male</td>\n",
       "      <td>70.0</td>\n",
       "      <td>0</td>\n",
       "      <td>0</td>\n",
       "      <td>C.A. 24580</td>\n",
       "      <td>10.5000</td>\n",
       "      <td>NaN</td>\n",
       "      <td>S</td>\n",
       "    </tr>\n",
       "    <tr>\n",
       "      <th>745</th>\n",
       "      <td>746</td>\n",
       "      <td>0</td>\n",
       "      <td>1</td>\n",
       "      <td>Crosby, Capt. Edward Gifford</td>\n",
       "      <td>male</td>\n",
       "      <td>70.0</td>\n",
       "      <td>1</td>\n",
       "      <td>1</td>\n",
       "      <td>WE/P 5735</td>\n",
       "      <td>71.0000</td>\n",
       "      <td>B22</td>\n",
       "      <td>S</td>\n",
       "    </tr>\n",
       "    <tr>\n",
       "      <th>851</th>\n",
       "      <td>852</td>\n",
       "      <td>0</td>\n",
       "      <td>3</td>\n",
       "      <td>Svensson, Mr. Johan</td>\n",
       "      <td>male</td>\n",
       "      <td>74.0</td>\n",
       "      <td>0</td>\n",
       "      <td>0</td>\n",
       "      <td>347060</td>\n",
       "      <td>7.7750</td>\n",
       "      <td>NaN</td>\n",
       "      <td>S</td>\n",
       "    </tr>\n",
       "  </tbody>\n",
       "</table>\n",
       "</div>"
      ],
      "text/plain": [
       "     PassengerId  Survived  Pclass                                  Name  \\\n",
       "33            34         0       2                 Wheadon, Mr. Edward H   \n",
       "96            97         0       1             Goldschmidt, Mr. George B   \n",
       "116          117         0       3                  Connors, Mr. Patrick   \n",
       "493          494         0       1               Artagaveytia, Mr. Ramon   \n",
       "630          631         1       1  Barkworth, Mr. Algernon Henry Wilson   \n",
       "672          673         0       2           Mitchell, Mr. Henry Michael   \n",
       "745          746         0       1          Crosby, Capt. Edward Gifford   \n",
       "851          852         0       3                   Svensson, Mr. Johan   \n",
       "\n",
       "      Sex   Age  SibSp  Parch      Ticket     Fare Cabin Embarked  \n",
       "33   male  66.0      0      0  C.A. 24579  10.5000   NaN        S  \n",
       "96   male  71.0      0      0    PC 17754  34.6542    A5        C  \n",
       "116  male  70.5      0      0      370369   7.7500   NaN        Q  \n",
       "493  male  71.0      0      0    PC 17609  49.5042   NaN        C  \n",
       "630  male  80.0      0      0       27042  30.0000   A23        S  \n",
       "672  male  70.0      0      0  C.A. 24580  10.5000   NaN        S  \n",
       "745  male  70.0      1      1   WE/P 5735  71.0000   B22        S  \n",
       "851  male  74.0      0      0      347060   7.7750   NaN        S  "
      ]
     },
     "execution_count": 9,
     "metadata": {},
     "output_type": "execute_result"
    }
   ],
   "source": [
    "#are the outliers part of the data?\n",
    "df[df['Age'] > 65]"
   ]
  },
  {
   "cell_type": "code",
   "execution_count": 10,
   "id": "88ccc74d",
   "metadata": {
    "execution": {
     "iopub.execute_input": "2024-05-22T06:30:36.993267Z",
     "iopub.status.busy": "2024-05-22T06:30:36.992840Z",
     "iopub.status.idle": "2024-05-22T06:30:37.000360Z",
     "shell.execute_reply": "2024-05-22T06:30:36.999307Z"
    },
    "papermill": {
     "duration": 0.025021,
     "end_time": "2024-05-22T06:30:37.002671",
     "exception": false,
     "start_time": "2024-05-22T06:30:36.977650",
     "status": "completed"
    },
    "tags": []
   },
   "outputs": [
    {
     "data": {
      "text/plain": [
       "177"
      ]
     },
     "execution_count": 10,
     "metadata": {},
     "output_type": "execute_result"
    }
   ],
   "source": [
    "#Missing values\n",
    "\n",
    "df['Age'].isnull().sum()"
   ]
  },
  {
   "cell_type": "code",
   "execution_count": 11,
   "id": "d1b1d4b6",
   "metadata": {
    "execution": {
     "iopub.execute_input": "2024-05-22T06:30:37.032582Z",
     "iopub.status.busy": "2024-05-22T06:30:37.032181Z",
     "iopub.status.idle": "2024-05-22T06:30:37.039837Z",
     "shell.execute_reply": "2024-05-22T06:30:37.038762Z"
    },
    "papermill": {
     "duration": 0.024962,
     "end_time": "2024-05-22T06:30:37.041911",
     "exception": false,
     "start_time": "2024-05-22T06:30:37.016949",
     "status": "completed"
    },
    "tags": []
   },
   "outputs": [
    {
     "data": {
      "text/plain": [
       "0.19865319865319866"
      ]
     },
     "execution_count": 11,
     "metadata": {},
     "output_type": "execute_result"
    }
   ],
   "source": [
    "#Proportion of missing values\n",
    "\n",
    "df['Age'].isnull().sum()/len(df['Age'])"
   ]
  },
  {
   "cell_type": "markdown",
   "id": "e83975f6",
   "metadata": {
    "papermill": {
     "duration": 0.014285,
     "end_time": "2024-05-22T06:30:37.069887",
     "exception": false,
     "start_time": "2024-05-22T06:30:37.055602",
     "status": "completed"
    },
    "tags": []
   },
   "source": [
    "## Fare\n",
    "\n",
    "***Conclusions***\n",
    "\n",
    "- Fare column is positvely skewed\n",
    "- Fare column contains grouped fare and not individual fare. \n",
    "- We need to create a new columns \n"
   ]
  },
  {
   "cell_type": "code",
   "execution_count": 12,
   "id": "b147af9e",
   "metadata": {
    "execution": {
     "iopub.execute_input": "2024-05-22T06:30:37.099094Z",
     "iopub.status.busy": "2024-05-22T06:30:37.098721Z",
     "iopub.status.idle": "2024-05-22T06:30:37.109807Z",
     "shell.execute_reply": "2024-05-22T06:30:37.108609Z"
    },
    "papermill": {
     "duration": 0.028663,
     "end_time": "2024-05-22T06:30:37.112403",
     "exception": false,
     "start_time": "2024-05-22T06:30:37.083740",
     "status": "completed"
    },
    "tags": []
   },
   "outputs": [
    {
     "data": {
      "text/plain": [
       "count    891.000000\n",
       "mean      32.204208\n",
       "std       49.693429\n",
       "min        0.000000\n",
       "25%        7.910400\n",
       "50%       14.454200\n",
       "75%       31.000000\n",
       "max      512.329200\n",
       "Name: Fare, dtype: float64"
      ]
     },
     "execution_count": 12,
     "metadata": {},
     "output_type": "execute_result"
    }
   ],
   "source": [
    "#Summary statistic\n",
    "\n",
    "df['Fare'].describe()"
   ]
  },
  {
   "cell_type": "code",
   "execution_count": 13,
   "id": "5a2bb644",
   "metadata": {
    "execution": {
     "iopub.execute_input": "2024-05-22T06:30:37.142587Z",
     "iopub.status.busy": "2024-05-22T06:30:37.142183Z",
     "iopub.status.idle": "2024-05-22T06:30:37.390300Z",
     "shell.execute_reply": "2024-05-22T06:30:37.389157Z"
    },
    "papermill": {
     "duration": 0.266197,
     "end_time": "2024-05-22T06:30:37.392817",
     "exception": false,
     "start_time": "2024-05-22T06:30:37.126620",
     "status": "completed"
    },
    "tags": []
   },
   "outputs": [
    {
     "data": {
      "text/plain": [
       "<Axes: ylabel='Frequency'>"
      ]
     },
     "execution_count": 13,
     "metadata": {},
     "output_type": "execute_result"
    },
    {
     "data": {
      "image/png": "[encoded data removed]",
      "text/plain": [
       "<Figure size 640x480 with 1 Axes>"
      ]
     },
     "metadata": {},
     "output_type": "display_data"
    }
   ],
   "source": [
    "# Histogram\n",
    "\n",
    "df[\"Fare\"].plot(kind = \"hist\")"
   ]
  },
  {
   "cell_type": "code",
   "execution_count": 14,
   "id": "66dffc6d",
   "metadata": {
    "execution": {
     "iopub.execute_input": "2024-05-22T06:30:37.424207Z",
     "iopub.status.busy": "2024-05-22T06:30:37.423834Z",
     "iopub.status.idle": "2024-05-22T06:30:37.773297Z",
     "shell.execute_reply": "2024-05-22T06:30:37.772087Z"
    },
    "papermill": {
     "duration": 0.368023,
     "end_time": "2024-05-22T06:30:37.775717",
     "exception": false,
     "start_time": "2024-05-22T06:30:37.407694",
     "status": "completed"
    },
    "tags": []
   },
   "outputs": [
    {
     "data": {
      "text/plain": [
       "<Axes: ylabel='Density'>"
      ]
     },
     "execution_count": 14,
     "metadata": {},
     "output_type": "execute_result"
    },
    {
     "data": {
      "image/png": "[encoded data removed]",
      "text/plain": [
       "<Figure size 640x480 with 1 Axes>"
      ]
     },
     "metadata": {},
     "output_type": "display_data"
    }
   ],
   "source": [
    "#Distribution of the data\n",
    "\n",
    "df['Fare'].plot(kind = \"kde\")"
   ]
  },
  {
   "cell_type": "code",
   "execution_count": 15,
   "id": "e39d26a5",
   "metadata": {
    "execution": {
     "iopub.execute_input": "2024-05-22T06:30:37.806560Z",
     "iopub.status.busy": "2024-05-22T06:30:37.806163Z",
     "iopub.status.idle": "2024-05-22T06:30:37.813746Z",
     "shell.execute_reply": "2024-05-22T06:30:37.812742Z"
    },
    "papermill": {
     "duration": 0.025512,
     "end_time": "2024-05-22T06:30:37.815857",
     "exception": false,
     "start_time": "2024-05-22T06:30:37.790345",
     "status": "completed"
    },
    "tags": []
   },
   "outputs": [
    {
     "data": {
      "text/plain": [
       "4.787316519674893"
      ]
     },
     "execution_count": 15,
     "metadata": {},
     "output_type": "execute_result"
    }
   ],
   "source": [
    "#Skewness of the data\n",
    "\n",
    "df['Fare'].skew()"
   ]
  },
  {
   "cell_type": "markdown",
   "id": "bc4447dd",
   "metadata": {
    "papermill": {
     "duration": 0.014957,
     "end_time": "2024-05-22T06:30:37.904000",
     "exception": false,
     "start_time": "2024-05-22T06:30:37.889043",
     "status": "completed"
    },
    "tags": []
   },
   "source": [
    "*The data is highly positively skewed*"
   ]
  },
  {
   "cell_type": "code",
   "execution_count": 16,
   "id": "778685e8",
   "metadata": {
    "execution": {
     "iopub.execute_input": "2024-05-22T06:30:37.935748Z",
     "iopub.status.busy": "2024-05-22T06:30:37.935378Z",
     "iopub.status.idle": "2024-05-22T06:30:38.085974Z",
     "shell.execute_reply": "2024-05-22T06:30:38.084750Z"
    },
    "papermill": {
     "duration": 0.169486,
     "end_time": "2024-05-22T06:30:38.088528",
     "exception": false,
     "start_time": "2024-05-22T06:30:37.919042",
     "status": "completed"
    },
    "tags": []
   },
   "outputs": [
    {
     "data": {
      "text/plain": [
       "<Axes: >"
      ]
     },
     "execution_count": 16,
     "metadata": {},
     "output_type": "execute_result"
    },
    {
     "data": {
      "image/png": "[encoded data removed]",
      "text/plain": [
       "<Figure size 640x480 with 1 Axes>"
      ]
     },
     "metadata": {},
     "output_type": "display_data"
    }
   ],
   "source": [
    "#Detecting outliers using boxplot\n",
    "\n",
    "df['Fare'].plot(kind = 'box')"
   ]
  },
  {
   "cell_type": "code",
   "execution_count": 17,
   "id": "48641fbd",
   "metadata": {
    "execution": {
     "iopub.execute_input": "2024-05-22T06:30:38.122183Z",
     "iopub.status.busy": "2024-05-22T06:30:38.121001Z",
     "iopub.status.idle": "2024-05-22T06:30:38.137635Z",
     "shell.execute_reply": "2024-05-22T06:30:38.136368Z"
    },
    "papermill": {
     "duration": 0.035938,
     "end_time": "2024-05-22T06:30:38.139979",
     "exception": false,
     "start_time": "2024-05-22T06:30:38.104041",
     "status": "completed"
    },
    "tags": []
   },
   "outputs": [
    {
     "data": {
      "text/html": [
       "<div>\n",
       "<style scoped>\n",
       "    .dataframe tbody tr th:only-of-type {\n",
       "        vertical-align: middle;\n",
       "    }\n",
       "\n",
       "    .dataframe tbody tr th {\n",
       "        vertical-align: top;\n",
       "    }\n",
       "\n",
       "    .dataframe thead th {\n",
       "        text-align: right;\n",
       "    }\n",
       "</style>\n",
       "<table border=\"1\" class=\"dataframe\">\n",
       "  <thead>\n",
       "    <tr style=\"text-align: right;\">\n",
       "      <th></th>\n",
       "      <th>PassengerId</th>\n",
       "      <th>Survived</th>\n",
       "      <th>Pclass</th>\n",
       "      <th>Name</th>\n",
       "      <th>Sex</th>\n",
       "      <th>Age</th>\n",
       "      <th>SibSp</th>\n",
       "      <th>Parch</th>\n",
       "      <th>Ticket</th>\n",
       "      <th>Fare</th>\n",
       "      <th>Cabin</th>\n",
       "      <th>Embarked</th>\n",
       "    </tr>\n",
       "  </thead>\n",
       "  <tbody>\n",
       "    <tr>\n",
       "      <th>258</th>\n",
       "      <td>259</td>\n",
       "      <td>1</td>\n",
       "      <td>1</td>\n",
       "      <td>Ward, Miss. Anna</td>\n",
       "      <td>female</td>\n",
       "      <td>35.0</td>\n",
       "      <td>0</td>\n",
       "      <td>0</td>\n",
       "      <td>PC 17755</td>\n",
       "      <td>512.3292</td>\n",
       "      <td>NaN</td>\n",
       "      <td>C</td>\n",
       "    </tr>\n",
       "    <tr>\n",
       "      <th>679</th>\n",
       "      <td>680</td>\n",
       "      <td>1</td>\n",
       "      <td>1</td>\n",
       "      <td>Cardeza, Mr. Thomas Drake Martinez</td>\n",
       "      <td>male</td>\n",
       "      <td>36.0</td>\n",
       "      <td>0</td>\n",
       "      <td>1</td>\n",
       "      <td>PC 17755</td>\n",
       "      <td>512.3292</td>\n",
       "      <td>B51 B53 B55</td>\n",
       "      <td>C</td>\n",
       "    </tr>\n",
       "    <tr>\n",
       "      <th>737</th>\n",
       "      <td>738</td>\n",
       "      <td>1</td>\n",
       "      <td>1</td>\n",
       "      <td>Lesurer, Mr. Gustave J</td>\n",
       "      <td>male</td>\n",
       "      <td>35.0</td>\n",
       "      <td>0</td>\n",
       "      <td>0</td>\n",
       "      <td>PC 17755</td>\n",
       "      <td>512.3292</td>\n",
       "      <td>B101</td>\n",
       "      <td>C</td>\n",
       "    </tr>\n",
       "  </tbody>\n",
       "</table>\n",
       "</div>"
      ],
      "text/plain": [
       "     PassengerId  Survived  Pclass                                Name  \\\n",
       "258          259         1       1                    Ward, Miss. Anna   \n",
       "679          680         1       1  Cardeza, Mr. Thomas Drake Martinez   \n",
       "737          738         1       1              Lesurer, Mr. Gustave J   \n",
       "\n",
       "        Sex   Age  SibSp  Parch    Ticket      Fare        Cabin Embarked  \n",
       "258  female  35.0      0      0  PC 17755  512.3292          NaN        C  \n",
       "679    male  36.0      0      1  PC 17755  512.3292  B51 B53 B55        C  \n",
       "737    male  35.0      0      0  PC 17755  512.3292         B101        C  "
      ]
     },
     "execution_count": 17,
     "metadata": {},
     "output_type": "execute_result"
    }
   ],
   "source": [
    "#Are outliers a part of the data?\n",
    "\n",
    "df[df['Fare']> 300]"
   ]
  },
  {
   "cell_type": "markdown",
   "id": "64fd73c0",
   "metadata": {
    "papermill": {
     "duration": 0.0152,
     "end_time": "2024-05-22T06:30:38.171227",
     "exception": false,
     "start_time": "2024-05-22T06:30:38.156027",
     "status": "completed"
    },
    "tags": []
   },
   "source": [
    "*Three passengers have fare greater than 300, but their ticket is the same. This means that in the fare column, the whole family's accumulated fare is given, i.e. individual fare of the passengers are not given*"
   ]
  },
  {
   "cell_type": "code",
   "execution_count": 18,
   "id": "7b133ec0",
   "metadata": {
    "execution": {
     "iopub.execute_input": "2024-05-22T06:30:38.204794Z",
     "iopub.status.busy": "2024-05-22T06:30:38.204437Z",
     "iopub.status.idle": "2024-05-22T06:30:38.211733Z",
     "shell.execute_reply": "2024-05-22T06:30:38.210682Z"
    },
    "papermill": {
     "duration": 0.027412,
     "end_time": "2024-05-22T06:30:38.214246",
     "exception": false,
     "start_time": "2024-05-22T06:30:38.186834",
     "status": "completed"
    },
    "tags": []
   },
   "outputs": [
    {
     "data": {
      "text/plain": [
       "0"
      ]
     },
     "execution_count": 18,
     "metadata": {},
     "output_type": "execute_result"
    }
   ],
   "source": [
    "#Missing values\n",
    "\n",
    "df['Fare'].isnull().sum()"
   ]
  },
  {
   "cell_type": "markdown",
   "id": "78bd1093",
   "metadata": {
    "papermill": {
     "duration": 0.015608,
     "end_time": "2024-05-22T06:30:38.245589",
     "exception": false,
     "start_time": "2024-05-22T06:30:38.229981",
     "status": "completed"
    },
    "tags": []
   },
   "source": [
    "# Univariate Analysis on Cateogircal Column"
   ]
  },
  {
   "cell_type": "markdown",
   "id": "c13c487d",
   "metadata": {
    "papermill": {
     "duration": 0.015515,
     "end_time": "2024-05-22T06:30:38.276922",
     "exception": false,
     "start_time": "2024-05-22T06:30:38.261407",
     "status": "completed"
    },
    "tags": []
   },
   "source": [
    "### Survived\n",
    "\n",
    "***Conclusions***\n",
    "\n",
    "- Out of 891 passengers, 549 passengers died and 342 survived\n",
    "- The accident can be termed as \"severe\" as more than half of the passengers died "
   ]
  },
  {
   "cell_type": "code",
   "execution_count": 19,
   "id": "073ec5cf",
   "metadata": {
    "execution": {
     "iopub.execute_input": "2024-05-22T06:30:38.310004Z",
     "iopub.status.busy": "2024-05-22T06:30:38.309615Z",
     "iopub.status.idle": "2024-05-22T06:30:38.316971Z",
     "shell.execute_reply": "2024-05-22T06:30:38.315577Z"
    },
    "papermill": {
     "duration": 0.027113,
     "end_time": "2024-05-22T06:30:38.319634",
     "exception": false,
     "start_time": "2024-05-22T06:30:38.292521",
     "status": "completed"
    },
    "tags": []
   },
   "outputs": [
    {
     "data": {
      "text/plain": [
       "(891,)"
      ]
     },
     "execution_count": 19,
     "metadata": {},
     "output_type": "execute_result"
    }
   ],
   "source": [
    "df['Survived'].shape"
   ]
  },
  {
   "cell_type": "code",
   "execution_count": 20,
   "id": "4e64cca1",
   "metadata": {
    "execution": {
     "iopub.execute_input": "2024-05-22T06:30:38.353163Z",
     "iopub.status.busy": "2024-05-22T06:30:38.352774Z",
     "iopub.status.idle": "2024-05-22T06:30:38.366819Z",
     "shell.execute_reply": "2024-05-22T06:30:38.365676Z"
    },
    "papermill": {
     "duration": 0.033524,
     "end_time": "2024-05-22T06:30:38.369223",
     "exception": false,
     "start_time": "2024-05-22T06:30:38.335699",
     "status": "completed"
    },
    "tags": []
   },
   "outputs": [
    {
     "data": {
      "text/plain": [
       "Survived\n",
       "0    549\n",
       "1    342\n",
       "Name: count, dtype: int64"
      ]
     },
     "execution_count": 20,
     "metadata": {},
     "output_type": "execute_result"
    }
   ],
   "source": [
    "df['Survived'].value_counts()"
   ]
  },
  {
   "cell_type": "markdown",
   "id": "8fc95545",
   "metadata": {
    "papermill": {
     "duration": 0.015587,
     "end_time": "2024-05-22T06:30:38.401341",
     "exception": false,
     "start_time": "2024-05-22T06:30:38.385754",
     "status": "completed"
    },
    "tags": []
   },
   "source": [
    "*Only 342 survived*"
   ]
  },
  {
   "cell_type": "code",
   "execution_count": 21,
   "id": "c768b81f",
   "metadata": {
    "execution": {
     "iopub.execute_input": "2024-05-22T06:30:38.434659Z",
     "iopub.status.busy": "2024-05-22T06:30:38.434226Z",
     "iopub.status.idle": "2024-05-22T06:30:38.639524Z",
     "shell.execute_reply": "2024-05-22T06:30:38.638448Z"
    },
    "papermill": {
     "duration": 0.224876,
     "end_time": "2024-05-22T06:30:38.642080",
     "exception": false,
     "start_time": "2024-05-22T06:30:38.417204",
     "status": "completed"
    },
    "tags": []
   },
   "outputs": [
    {
     "data": {
      "text/plain": [
       "<Axes: xlabel='Survived'>"
      ]
     },
     "execution_count": 21,
     "metadata": {},
     "output_type": "execute_result"
    },
    {
     "data": {
      "image/png": "[encoded data removed]",
      "text/plain": [
       "<Figure size 640x480 with 1 Axes>"
      ]
     },
     "metadata": {},
     "output_type": "display_data"
    }
   ],
   "source": [
    "#Visualizing the people who survived or died'\n",
    "df['Survived'].value_counts().plot(kind = \"bar\")"
   ]
  },
  {
   "cell_type": "code",
   "execution_count": 22,
   "id": "541833ca",
   "metadata": {
    "execution": {
     "iopub.execute_input": "2024-05-22T06:30:38.676807Z",
     "iopub.status.busy": "2024-05-22T06:30:38.676434Z",
     "iopub.status.idle": "2024-05-22T06:30:38.791109Z",
     "shell.execute_reply": "2024-05-22T06:30:38.789773Z"
    },
    "papermill": {
     "duration": 0.13563,
     "end_time": "2024-05-22T06:30:38.794249",
     "exception": false,
     "start_time": "2024-05-22T06:30:38.658619",
     "status": "completed"
    },
    "tags": []
   },
   "outputs": [
    {
     "data": {
      "text/plain": [
       "<Axes: ylabel='count'>"
      ]
     },
     "execution_count": 22,
     "metadata": {},
     "output_type": "execute_result"
    },
    {
     "data": {
      "image/png": "[encoded data removed]",
      "text/plain": [
       "<Figure size 640x480 with 1 Axes>"
      ]
     },
     "metadata": {},
     "output_type": "display_data"
    }
   ],
   "source": [
    "#Percentage of people who survived and died\n",
    "df['Survived'].value_counts().plot(kind = \"pie\", autopct = \"%0.1f%%\")"
   ]
  },
  {
   "cell_type": "markdown",
   "id": "1b13bd05",
   "metadata": {
    "papermill": {
     "duration": 0.027937,
     "end_time": "2024-05-22T06:30:38.850652",
     "exception": false,
     "start_time": "2024-05-22T06:30:38.822715",
     "status": "completed"
    },
    "tags": []
   },
   "source": [
    "*more than 50% of the passengers dies hence we can conclude that it was a deadly accident*"
   ]
  },
  {
   "cell_type": "code",
   "execution_count": 23,
   "id": "6b6bc4dd",
   "metadata": {
    "execution": {
     "iopub.execute_input": "2024-05-22T06:30:38.900938Z",
     "iopub.status.busy": "2024-05-22T06:30:38.900561Z",
     "iopub.status.idle": "2024-05-22T06:30:38.908235Z",
     "shell.execute_reply": "2024-05-22T06:30:38.907225Z"
    },
    "papermill": {
     "duration": 0.030742,
     "end_time": "2024-05-22T06:30:38.910566",
     "exception": false,
     "start_time": "2024-05-22T06:30:38.879824",
     "status": "completed"
    },
    "tags": []
   },
   "outputs": [
    {
     "data": {
      "text/plain": [
       "0"
      ]
     },
     "execution_count": 23,
     "metadata": {},
     "output_type": "execute_result"
    }
   ],
   "source": [
    "df['Survived'].isnull().sum()"
   ]
  },
  {
   "cell_type": "markdown",
   "id": "2a0da601",
   "metadata": {
    "papermill": {
     "duration": 0.016527,
     "end_time": "2024-05-22T06:30:38.944394",
     "exception": false,
     "start_time": "2024-05-22T06:30:38.927867",
     "status": "completed"
    },
    "tags": []
   },
   "source": [
    "### PClass - Passnger class\n",
    "\n",
    "***Conclusions***\n",
    "\n",
    "- 491 passengers are travelling in the first class which is the maximum.\n",
    "- Interestingly, 1st class has the second second highest number of passengers as opposed to the 2nd class which has the least number of passengers travelling"
   ]
  },
  {
   "cell_type": "code",
   "execution_count": 24,
   "id": "da478acc",
   "metadata": {
    "execution": {
     "iopub.execute_input": "2024-05-22T06:30:38.980350Z",
     "iopub.status.busy": "2024-05-22T06:30:38.979936Z",
     "iopub.status.idle": "2024-05-22T06:30:38.986810Z",
     "shell.execute_reply": "2024-05-22T06:30:38.985817Z"
    },
    "papermill": {
     "duration": 0.027873,
     "end_time": "2024-05-22T06:30:38.989315",
     "exception": false,
     "start_time": "2024-05-22T06:30:38.961442",
     "status": "completed"
    },
    "tags": []
   },
   "outputs": [
    {
     "data": {
      "text/plain": [
       "(891,)"
      ]
     },
     "execution_count": 24,
     "metadata": {},
     "output_type": "execute_result"
    }
   ],
   "source": [
    "df['Pclass'].shape"
   ]
  },
  {
   "cell_type": "code",
   "execution_count": 25,
   "id": "d1f3f360",
   "metadata": {
    "execution": {
     "iopub.execute_input": "2024-05-22T06:30:39.026141Z",
     "iopub.status.busy": "2024-05-22T06:30:39.025309Z",
     "iopub.status.idle": "2024-05-22T06:30:39.033507Z",
     "shell.execute_reply": "2024-05-22T06:30:39.032336Z"
    },
    "papermill": {
     "duration": 0.029123,
     "end_time": "2024-05-22T06:30:39.035734",
     "exception": false,
     "start_time": "2024-05-22T06:30:39.006611",
     "status": "completed"
    },
    "tags": []
   },
   "outputs": [
    {
     "data": {
      "text/plain": [
       "Pclass\n",
       "3    491\n",
       "1    216\n",
       "2    184\n",
       "Name: count, dtype: int64"
      ]
     },
     "execution_count": 25,
     "metadata": {},
     "output_type": "execute_result"
    }
   ],
   "source": [
    "df['Pclass'].value_counts()"
   ]
  },
  {
   "cell_type": "markdown",
   "id": "7c757a9b",
   "metadata": {
    "papermill": {
     "duration": 0.017139,
     "end_time": "2024-05-22T06:30:39.070015",
     "exception": false,
     "start_time": "2024-05-22T06:30:39.052876",
     "status": "completed"
    },
    "tags": []
   },
   "source": [
    "*Maximum passengers are from the third class*"
   ]
  },
  {
   "cell_type": "code",
   "execution_count": 26,
   "id": "0128a22e",
   "metadata": {
    "execution": {
     "iopub.execute_input": "2024-05-22T06:30:39.105617Z",
     "iopub.status.busy": "2024-05-22T06:30:39.105227Z",
     "iopub.status.idle": "2024-05-22T06:30:39.313980Z",
     "shell.execute_reply": "2024-05-22T06:30:39.312815Z"
    },
    "papermill": {
     "duration": 0.22941,
     "end_time": "2024-05-22T06:30:39.316524",
     "exception": false,
     "start_time": "2024-05-22T06:30:39.087114",
     "status": "completed"
    },
    "tags": []
   },
   "outputs": [
    {
     "data": {
      "text/plain": [
       "<Axes: xlabel='Pclass'>"
      ]
     },
     "execution_count": 26,
     "metadata": {},
     "output_type": "execute_result"
    },
    {
     "data": {
      "image/png": "[encoded data removed]",
      "text/plain": [
       "<Figure size 640x480 with 1 Axes>"
      ]
     },
     "metadata": {},
     "output_type": "display_data"
    }
   ],
   "source": [
    "#visualizing the number of passengers from each class\n",
    "\n",
    "df['Pclass'].value_counts().plot(kind = \"bar\")"
   ]
  },
  {
   "cell_type": "code",
   "execution_count": 27,
   "id": "e1bbd5c8",
   "metadata": {
    "execution": {
     "iopub.execute_input": "2024-05-22T06:30:39.352788Z",
     "iopub.status.busy": "2024-05-22T06:30:39.352420Z",
     "iopub.status.idle": "2024-05-22T06:30:39.483196Z",
     "shell.execute_reply": "2024-05-22T06:30:39.481702Z"
    },
    "papermill": {
     "duration": 0.154191,
     "end_time": "2024-05-22T06:30:39.488103",
     "exception": false,
     "start_time": "2024-05-22T06:30:39.333912",
     "status": "completed"
    },
    "tags": []
   },
   "outputs": [
    {
     "data": {
      "text/plain": [
       "<Axes: ylabel='count'>"
      ]
     },
     "execution_count": 27,
     "metadata": {},
     "output_type": "execute_result"
    },
    {
     "data": {
      "image/png": "[encoded data removed]",
      "text/plain": [
       "<Figure size 640x480 with 1 Axes>"
      ]
     },
     "metadata": {},
     "output_type": "display_data"
    }
   ],
   "source": [
    "df['Pclass'].value_counts().plot(kind = \"pie\", autopct = \"%0.1f%%\")"
   ]
  },
  {
   "cell_type": "markdown",
   "id": "28bcd147",
   "metadata": {
    "papermill": {
     "duration": 0.030406,
     "end_time": "2024-05-22T06:30:39.549224",
     "exception": false,
     "start_time": "2024-05-22T06:30:39.518818",
     "status": "completed"
    },
    "tags": []
   },
   "source": [
    "### Sex\n",
    "\n",
    "***Conclusions***\n",
    "\n",
    "- Male passengers are more than the female passengers"
   ]
  },
  {
   "cell_type": "code",
   "execution_count": 28,
   "id": "eb94c23f",
   "metadata": {
    "execution": {
     "iopub.execute_input": "2024-05-22T06:30:39.591737Z",
     "iopub.status.busy": "2024-05-22T06:30:39.591363Z",
     "iopub.status.idle": "2024-05-22T06:30:39.599632Z",
     "shell.execute_reply": "2024-05-22T06:30:39.598631Z"
    },
    "papermill": {
     "duration": 0.030281,
     "end_time": "2024-05-22T06:30:39.601857",
     "exception": false,
     "start_time": "2024-05-22T06:30:39.571576",
     "status": "completed"
    },
    "tags": []
   },
   "outputs": [
    {
     "data": {
      "text/plain": [
       "Sex\n",
       "male      577\n",
       "female    314\n",
       "Name: count, dtype: int64"
      ]
     },
     "execution_count": 28,
     "metadata": {},
     "output_type": "execute_result"
    }
   ],
   "source": [
    "df['Sex'].value_counts()"
   ]
  },
  {
   "cell_type": "code",
   "execution_count": 29,
   "id": "f180fdf3",
   "metadata": {
    "execution": {
     "iopub.execute_input": "2024-05-22T06:30:39.639356Z",
     "iopub.status.busy": "2024-05-22T06:30:39.638873Z",
     "iopub.status.idle": "2024-05-22T06:30:39.855370Z",
     "shell.execute_reply": "2024-05-22T06:30:39.854087Z"
    },
    "papermill": {
     "duration": 0.238079,
     "end_time": "2024-05-22T06:30:39.857768",
     "exception": false,
     "start_time": "2024-05-22T06:30:39.619689",
     "status": "completed"
    },
    "tags": []
   },
   "outputs": [
    {
     "data": {
      "text/plain": [
       "<Axes: xlabel='Sex'>"
      ]
     },
     "execution_count": 29,
     "metadata": {},
     "output_type": "execute_result"
    },
    {
     "data": {
      "image/png": "[encoded data removed]",
      "text/plain": [
       "<Figure size 640x480 with 1 Axes>"
      ]
     },
     "metadata": {},
     "output_type": "display_data"
    }
   ],
   "source": [
    "df['Sex'].value_counts().plot(kind = \"bar\")"
   ]
  },
  {
   "cell_type": "code",
   "execution_count": 30,
   "id": "e36e36e7",
   "metadata": {
    "execution": {
     "iopub.execute_input": "2024-05-22T06:30:39.897713Z",
     "iopub.status.busy": "2024-05-22T06:30:39.897313Z",
     "iopub.status.idle": "2024-05-22T06:30:40.007985Z",
     "shell.execute_reply": "2024-05-22T06:30:40.006862Z"
    },
    "papermill": {
     "duration": 0.134679,
     "end_time": "2024-05-22T06:30:40.011388",
     "exception": false,
     "start_time": "2024-05-22T06:30:39.876709",
     "status": "completed"
    },
    "tags": []
   },
   "outputs": [
    {
     "data": {
      "text/plain": [
       "<Axes: ylabel='count'>"
      ]
     },
     "execution_count": 30,
     "metadata": {},
     "output_type": "execute_result"
    },
    {
     "data": {
      "image/png": "[encoded data removed]",
      "text/plain": [
       "<Figure size 640x480 with 1 Axes>"
      ]
     },
     "metadata": {},
     "output_type": "display_data"
    }
   ],
   "source": [
    "df['Sex'].value_counts().plot(kind = \"pie\", autopct = \"%0.1f%%\")"
   ]
  },
  {
   "cell_type": "markdown",
   "id": "6c2a00c2",
   "metadata": {
    "papermill": {
     "duration": 0.018976,
     "end_time": "2024-05-22T06:30:40.049716",
     "exception": false,
     "start_time": "2024-05-22T06:30:40.030740",
     "status": "completed"
    },
    "tags": []
   },
   "source": [
    "### SibSP - siblings and spouse\n",
    "\n",
    "***Conclusions***\n",
    "\n",
    "- most passengers are travelling alone"
   ]
  },
  {
   "cell_type": "code",
   "execution_count": 31,
   "id": "811955f2",
   "metadata": {
    "execution": {
     "iopub.execute_input": "2024-05-22T06:30:40.091638Z",
     "iopub.status.busy": "2024-05-22T06:30:40.090309Z",
     "iopub.status.idle": "2024-05-22T06:30:40.099305Z",
     "shell.execute_reply": "2024-05-22T06:30:40.098220Z"
    },
    "papermill": {
     "duration": 0.03146,
     "end_time": "2024-05-22T06:30:40.101533",
     "exception": false,
     "start_time": "2024-05-22T06:30:40.070073",
     "status": "completed"
    },
    "tags": []
   },
   "outputs": [
    {
     "data": {
      "text/plain": [
       "SibSp\n",
       "0    608\n",
       "1    209\n",
       "2     28\n",
       "4     18\n",
       "3     16\n",
       "8      7\n",
       "5      5\n",
       "Name: count, dtype: int64"
      ]
     },
     "execution_count": 31,
     "metadata": {},
     "output_type": "execute_result"
    }
   ],
   "source": [
    "df[\"SibSp\"].value_counts()"
   ]
  },
  {
   "cell_type": "code",
   "execution_count": 32,
   "id": "d0180127",
   "metadata": {
    "execution": {
     "iopub.execute_input": "2024-05-22T06:30:40.141774Z",
     "iopub.status.busy": "2024-05-22T06:30:40.140997Z",
     "iopub.status.idle": "2024-05-22T06:30:40.389578Z",
     "shell.execute_reply": "2024-05-22T06:30:40.388499Z"
    },
    "papermill": {
     "duration": 0.271275,
     "end_time": "2024-05-22T06:30:40.392158",
     "exception": false,
     "start_time": "2024-05-22T06:30:40.120883",
     "status": "completed"
    },
    "tags": []
   },
   "outputs": [
    {
     "data": {
      "text/plain": [
       "<Axes: xlabel='SibSp'>"
      ]
     },
     "execution_count": 32,
     "metadata": {},
     "output_type": "execute_result"
    },
    {
     "data": {
      "image/png": "[encoded data removed]",
      "text/plain": [
       "<Figure size 640x480 with 1 Axes>"
      ]
     },
     "metadata": {},
     "output_type": "display_data"
    }
   ],
   "source": [
    "df[\"SibSp\"].value_counts().plot(kind = \"bar\")"
   ]
  },
  {
   "cell_type": "code",
   "execution_count": 33,
   "id": "0c37b873",
   "metadata": {
    "execution": {
     "iopub.execute_input": "2024-05-22T06:30:40.432144Z",
     "iopub.status.busy": "2024-05-22T06:30:40.431767Z",
     "iopub.status.idle": "2024-05-22T06:30:40.439023Z",
     "shell.execute_reply": "2024-05-22T06:30:40.438000Z"
    },
    "papermill": {
     "duration": 0.030206,
     "end_time": "2024-05-22T06:30:40.441429",
     "exception": false,
     "start_time": "2024-05-22T06:30:40.411223",
     "status": "completed"
    },
    "tags": []
   },
   "outputs": [
    {
     "data": {
      "text/plain": [
       "0"
      ]
     },
     "execution_count": 33,
     "metadata": {},
     "output_type": "execute_result"
    }
   ],
   "source": [
    "df[\"SibSp\"].isnull().sum()"
   ]
  },
  {
   "cell_type": "markdown",
   "id": "270458c6",
   "metadata": {
    "papermill": {
     "duration": 0.019118,
     "end_time": "2024-05-22T06:30:40.479760",
     "exception": false,
     "start_time": "2024-05-22T06:30:40.460642",
     "status": "completed"
    },
    "tags": []
   },
   "source": [
    "### Parch - Parents and children\n",
    "\n",
    "***Conclusions***\n",
    "\n",
    "- most passengers are travelling alone\n",
    "- Parch and SibSp can be merged together to form a new columns called \"family_size\"\n",
    "- We can also create a new column for people who are travelling alone to get more insights"
   ]
  },
  {
   "cell_type": "code",
   "execution_count": 34,
   "id": "43bed7e6",
   "metadata": {
    "execution": {
     "iopub.execute_input": "2024-05-22T06:30:40.521012Z",
     "iopub.status.busy": "2024-05-22T06:30:40.520629Z",
     "iopub.status.idle": "2024-05-22T06:30:40.529430Z",
     "shell.execute_reply": "2024-05-22T06:30:40.528450Z"
    },
    "papermill": {
     "duration": 0.031995,
     "end_time": "2024-05-22T06:30:40.531609",
     "exception": false,
     "start_time": "2024-05-22T06:30:40.499614",
     "status": "completed"
    },
    "tags": []
   },
   "outputs": [
    {
     "data": {
      "text/plain": [
       "Parch\n",
       "0    678\n",
       "1    118\n",
       "2     80\n",
       "5      5\n",
       "3      5\n",
       "4      4\n",
       "6      1\n",
       "Name: count, dtype: int64"
      ]
     },
     "execution_count": 34,
     "metadata": {},
     "output_type": "execute_result"
    }
   ],
   "source": [
    "df[\"Parch\"].value_counts()"
   ]
  },
  {
   "cell_type": "code",
   "execution_count": 35,
   "id": "f120c736",
   "metadata": {
    "execution": {
     "iopub.execute_input": "2024-05-22T06:30:40.572854Z",
     "iopub.status.busy": "2024-05-22T06:30:40.572478Z",
     "iopub.status.idle": "2024-05-22T06:30:40.837355Z",
     "shell.execute_reply": "2024-05-22T06:30:40.836308Z"
    },
    "papermill": {
     "duration": 0.288438,
     "end_time": "2024-05-22T06:30:40.840016",
     "exception": false,
     "start_time": "2024-05-22T06:30:40.551578",
     "status": "completed"
    },
    "tags": []
   },
   "outputs": [
    {
     "data": {
      "text/plain": [
       "<Axes: xlabel='Parch'>"
      ]
     },
     "execution_count": 35,
     "metadata": {},
     "output_type": "execute_result"
    },
    {
     "data": {
      "image/png": "[encoded data removed]",
      "text/plain": [
       "<Figure size 640x480 with 1 Axes>"
      ]
     },
     "metadata": {},
     "output_type": "display_data"
    }
   ],
   "source": [
    "df[\"Parch\"].value_counts().plot(kind = \"bar\")"
   ]
  },
  {
   "cell_type": "code",
   "execution_count": 36,
   "id": "2d8da3b3",
   "metadata": {
    "execution": {
     "iopub.execute_input": "2024-05-22T06:30:40.886065Z",
     "iopub.status.busy": "2024-05-22T06:30:40.885681Z",
     "iopub.status.idle": "2024-05-22T06:30:40.892855Z",
     "shell.execute_reply": "2024-05-22T06:30:40.891845Z"
    },
    "papermill": {
     "duration": 0.030564,
     "end_time": "2024-05-22T06:30:40.894976",
     "exception": false,
     "start_time": "2024-05-22T06:30:40.864412",
     "status": "completed"
    },
    "tags": []
   },
   "outputs": [
    {
     "data": {
      "text/plain": [
       "0"
      ]
     },
     "execution_count": 36,
     "metadata": {},
     "output_type": "execute_result"
    }
   ],
   "source": [
    "df[\"Parch\"].isnull().sum()"
   ]
  },
  {
   "cell_type": "markdown",
   "id": "62adffb4",
   "metadata": {
    "papermill": {
     "duration": 0.019469,
     "end_time": "2024-05-22T06:30:40.934196",
     "exception": false,
     "start_time": "2024-05-22T06:30:40.914727",
     "status": "completed"
    },
    "tags": []
   },
   "source": [
    "### Embarked\n",
    "\n",
    "* S - South Hampton (the beginning of the voyage)\n",
    "* C - Cherbourg\n",
    "* Q - Queenstown (last stop before the accident)\n",
    "***Conclusions***\n",
    "\n",
    "- most passengers are travelling alone\n",
    "- Parch and SibSp can be merged together to form a new columns called \"family_size\"\n",
    "- We can also create a new column for people who are travelling alone to get more insights"
   ]
  },
  {
   "cell_type": "code",
   "execution_count": 37,
   "id": "6246e867",
   "metadata": {
    "execution": {
     "iopub.execute_input": "2024-05-22T06:30:40.975235Z",
     "iopub.status.busy": "2024-05-22T06:30:40.974864Z",
     "iopub.status.idle": "2024-05-22T06:30:40.983459Z",
     "shell.execute_reply": "2024-05-22T06:30:40.982274Z"
    },
    "papermill": {
     "duration": 0.032074,
     "end_time": "2024-05-22T06:30:40.985928",
     "exception": false,
     "start_time": "2024-05-22T06:30:40.953854",
     "status": "completed"
    },
    "tags": []
   },
   "outputs": [
    {
     "data": {
      "text/plain": [
       "Embarked\n",
       "S    644\n",
       "C    168\n",
       "Q     77\n",
       "Name: count, dtype: int64"
      ]
     },
     "execution_count": 37,
     "metadata": {},
     "output_type": "execute_result"
    }
   ],
   "source": [
    "df['Embarked'].value_counts()"
   ]
  },
  {
   "cell_type": "markdown",
   "id": "fe03c9ef",
   "metadata": {
    "papermill": {
     "duration": 0.020506,
     "end_time": "2024-05-22T06:30:41.027811",
     "exception": false,
     "start_time": "2024-05-22T06:30:41.007305",
     "status": "completed"
    },
    "tags": []
   },
   "source": [
    "*Most passengers aboarded the ship at the first stop*"
   ]
  },
  {
   "cell_type": "code",
   "execution_count": 38,
   "id": "435f1434",
   "metadata": {
    "execution": {
     "iopub.execute_input": "2024-05-22T06:30:41.069743Z",
     "iopub.status.busy": "2024-05-22T06:30:41.069352Z",
     "iopub.status.idle": "2024-05-22T06:30:41.288225Z",
     "shell.execute_reply": "2024-05-22T06:30:41.287078Z"
    },
    "papermill": {
     "duration": 0.242734,
     "end_time": "2024-05-22T06:30:41.290723",
     "exception": false,
     "start_time": "2024-05-22T06:30:41.047989",
     "status": "completed"
    },
    "tags": []
   },
   "outputs": [
    {
     "data": {
      "text/plain": [
       "<Axes: xlabel='Embarked'>"
      ]
     },
     "execution_count": 38,
     "metadata": {},
     "output_type": "execute_result"
    },
    {
     "data": {
      "image/png": "[encoded data removed]",
      "text/plain": [
       "<Figure size 640x480 with 1 Axes>"
      ]
     },
     "metadata": {},
     "output_type": "display_data"
    }
   ],
   "source": [
    "df['Embarked'].value_counts().plot(kind = \"bar\")"
   ]
  },
  {
   "cell_type": "code",
   "execution_count": 39,
   "id": "2829f22b",
   "metadata": {
    "execution": {
     "iopub.execute_input": "2024-05-22T06:30:41.333327Z",
     "iopub.status.busy": "2024-05-22T06:30:41.332933Z",
     "iopub.status.idle": "2024-05-22T06:30:41.443312Z",
     "shell.execute_reply": "2024-05-22T06:30:41.442198Z"
    },
    "papermill": {
     "duration": 0.134608,
     "end_time": "2024-05-22T06:30:41.445762",
     "exception": false,
     "start_time": "2024-05-22T06:30:41.311154",
     "status": "completed"
    },
    "tags": []
   },
   "outputs": [
    {
     "data": {
      "text/plain": [
       "<Axes: ylabel='count'>"
      ]
     },
     "execution_count": 39,
     "metadata": {},
     "output_type": "execute_result"
    },
    {
     "data": {
      "image/png": "[encoded data removed]",
      "text/plain": [
       "<Figure size 640x480 with 1 Axes>"
      ]
     },
     "metadata": {},
     "output_type": "display_data"
    }
   ],
   "source": [
    "df['Embarked'].value_counts().plot(kind = \"pie\", autopct = \"%0.1f%%\")"
   ]
  },
  {
   "cell_type": "markdown",
   "id": "5dc4ca48",
   "metadata": {
    "papermill": {
     "duration": 0.021066,
     "end_time": "2024-05-22T06:30:41.487511",
     "exception": false,
     "start_time": "2024-05-22T06:30:41.466445",
     "status": "completed"
    },
    "tags": []
   },
   "source": [
    "# Bivariate Analysis "
   ]
  }
 ],
 "metadata": {
  "kaggle": {
   "accelerator": "none",
   "dataSources": [
    {
     "databundleVersionId": 26502,
     "sourceId": 3136,
     "sourceType": "competition"
    }
   ],
   "dockerImageVersionId": 30698,
   "isGpuEnabled": false,
   "isInternetEnabled": true,
   "language": "python",
   "sourceType": "notebook"
  },
  "kernelspec": {
   "display_name": "Python 3",
   "language": "python",
   "name": "python3"
  },
  "language_info": {
   "codemirror_mode": {
    "name": "ipython",
    "version": 3
   },
   "file_extension": ".py",
   "mimetype": "text/x-python",
   "name": "python",
   "nbconvert_exporter": "python",
   "pygments_lexer": "ipython3",
   "version": "3.10.13"
  },
  "papermill": {
   "default_parameters": {},
   "duration": 11.081381,
   "end_time": "2024-05-22T06:30:42.129780",
   "environment_variables": {},
   "exception": null,
   "input_path": "__notebook__.ipynb",
   "output_path": "__notebook__.ipynb",
   "parameters": {},
   "start_time": "2024-05-22T06:30:31.048399",
   "version": "2.5.0"
  }
 },
 "nbformat": 4,
 "nbformat_minor": 5
}
