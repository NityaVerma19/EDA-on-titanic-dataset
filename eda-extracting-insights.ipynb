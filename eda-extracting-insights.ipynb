{
 "cells": [
  {
   "cell_type": "code",
   "execution_count": 1,
   "id": "a8c094c4",
   "metadata": {
    "_cell_guid": "b1076dfc-b9ad-4769-8c92-a6c4dae69d19",
    "_uuid": "8f2839f25d086af736a60e9eeb907d3b93b6e0e5",
    "execution": {
     "iopub.execute_input": "2024-05-22T10:36:03.458539Z",
     "iopub.status.busy": "2024-05-22T10:36:03.458110Z",
     "iopub.status.idle": "2024-05-22T10:36:06.125925Z",
     "shell.execute_reply": "2024-05-22T10:36:06.124319Z"
    },
    "papermill": {
     "duration": 2.703894,
     "end_time": "2024-05-22T10:36:06.128714",
     "exception": false,
     "start_time": "2024-05-22T10:36:03.424820",
     "status": "completed"
    },
    "tags": []
   },
   "outputs": [
    {
     "name": "stdout",
     "output_type": "stream",
     "text": [
      "/kaggle/input/titanic/train.csv\n",
      "/kaggle/input/titanic/test.csv\n",
      "/kaggle/input/titanic/gender_submission.csv\n"
     ]
    }
   ],
   "source": [
    "# This Python 3 environment comes with many helpful analytics libraries installed\n",
    "# It is defined by the kaggle/python Docker image: https://github.com/kaggle/docker-python\n",
    "# For example, here's several helpful packages to load\n",
    "\n",
    "import numpy as np # linear algebra\n",
    "import pandas as pd # data processing, CSV file I/O (e.g. pd.read_csv)\n",
    "import seaborn as sns\n",
    "import matplotlib.pyplot as plt\n",
    "\n",
    "# Input data files are available in the read-only \"../input/\" directory\n",
    "# For example, running this (by clicking run or pressing Shift+Enter) will list all files under the input directory\n",
    "\n",
    "import os\n",
    "for dirname, _, filenames in os.walk('/kaggle/input'):\n",
    "    for filename in filenames:\n",
    "        print(os.path.join(dirname, filename))\n",
    "\n",
    "# You can write up to 20GB to the current directory (/kaggle/working/) that gets preserved as output when you create a version using \"Save & Run All\" \n",
    "# You can also write temporary files to /kaggle/temp/, but they won't be saved outside of the current session"
   ]
  },
  {
   "cell_type": "code",
   "execution_count": 2,
   "id": "801dcfe4",
   "metadata": {
    "execution": {
     "iopub.execute_input": "2024-05-22T10:36:06.194809Z",
     "iopub.status.busy": "2024-05-22T10:36:06.194284Z",
     "iopub.status.idle": "2024-05-22T10:36:06.218231Z",
     "shell.execute_reply": "2024-05-22T10:36:06.217207Z"
    },
    "papermill": {
     "duration": 0.059514,
     "end_time": "2024-05-22T10:36:06.221378",
     "exception": false,
     "start_time": "2024-05-22T10:36:06.161864",
     "status": "completed"
    },
    "tags": []
   },
   "outputs": [],
   "source": [
    "df = pd.read_csv('/kaggle/input/titanic/train.csv')"
   ]
  },
  {
   "cell_type": "code",
   "execution_count": 3,
   "id": "07f5a393",
   "metadata": {
    "execution": {
     "iopub.execute_input": "2024-05-22T10:36:06.286136Z",
     "iopub.status.busy": "2024-05-22T10:36:06.285704Z",
     "iopub.status.idle": "2024-05-22T10:36:06.316174Z",
     "shell.execute_reply": "2024-05-22T10:36:06.314864Z"
    },
    "papermill": {
     "duration": 0.066381,
     "end_time": "2024-05-22T10:36:06.319639",
     "exception": false,
     "start_time": "2024-05-22T10:36:06.253258",
     "status": "completed"
    },
    "tags": []
   },
   "outputs": [
    {
     "data": {
      "text/html": [
       "<div>\n",
       "<style scoped>\n",
       "    .dataframe tbody tr th:only-of-type {\n",
       "        vertical-align: middle;\n",
       "    }\n",
       "\n",
       "    .dataframe tbody tr th {\n",
       "        vertical-align: top;\n",
       "    }\n",
       "\n",
       "    .dataframe thead th {\n",
       "        text-align: right;\n",
       "    }\n",
       "</style>\n",
       "<table border=\"1\" class=\"dataframe\">\n",
       "  <thead>\n",
       "    <tr style=\"text-align: right;\">\n",
       "      <th></th>\n",
       "      <th>PassengerId</th>\n",
       "      <th>Survived</th>\n",
       "      <th>Pclass</th>\n",
       "      <th>Name</th>\n",
       "      <th>Sex</th>\n",
       "      <th>Age</th>\n",
       "      <th>SibSp</th>\n",
       "      <th>Parch</th>\n",
       "      <th>Ticket</th>\n",
       "      <th>Fare</th>\n",
       "      <th>Cabin</th>\n",
       "      <th>Embarked</th>\n",
       "    </tr>\n",
       "  </thead>\n",
       "  <tbody>\n",
       "    <tr>\n",
       "      <th>0</th>\n",
       "      <td>1</td>\n",
       "      <td>0</td>\n",
       "      <td>3</td>\n",
       "      <td>Braund, Mr. Owen Harris</td>\n",
       "      <td>male</td>\n",
       "      <td>22.0</td>\n",
       "      <td>1</td>\n",
       "      <td>0</td>\n",
       "      <td>A/5 21171</td>\n",
       "      <td>7.2500</td>\n",
       "      <td>NaN</td>\n",
       "      <td>S</td>\n",
       "    </tr>\n",
       "    <tr>\n",
       "      <th>1</th>\n",
       "      <td>2</td>\n",
       "      <td>1</td>\n",
       "      <td>1</td>\n",
       "      <td>Cumings, Mrs. John Bradley (Florence Briggs Th...</td>\n",
       "      <td>female</td>\n",
       "      <td>38.0</td>\n",
       "      <td>1</td>\n",
       "      <td>0</td>\n",
       "      <td>PC 17599</td>\n",
       "      <td>71.2833</td>\n",
       "      <td>C85</td>\n",
       "      <td>C</td>\n",
       "    </tr>\n",
       "    <tr>\n",
       "      <th>2</th>\n",
       "      <td>3</td>\n",
       "      <td>1</td>\n",
       "      <td>3</td>\n",
       "      <td>Heikkinen, Miss. Laina</td>\n",
       "      <td>female</td>\n",
       "      <td>26.0</td>\n",
       "      <td>0</td>\n",
       "      <td>0</td>\n",
       "      <td>STON/O2. 3101282</td>\n",
       "      <td>7.9250</td>\n",
       "      <td>NaN</td>\n",
       "      <td>S</td>\n",
       "    </tr>\n",
       "    <tr>\n",
       "      <th>3</th>\n",
       "      <td>4</td>\n",
       "      <td>1</td>\n",
       "      <td>1</td>\n",
       "      <td>Futrelle, Mrs. Jacques Heath (Lily May Peel)</td>\n",
       "      <td>female</td>\n",
       "      <td>35.0</td>\n",
       "      <td>1</td>\n",
       "      <td>0</td>\n",
       "      <td>113803</td>\n",
       "      <td>53.1000</td>\n",
       "      <td>C123</td>\n",
       "      <td>S</td>\n",
       "    </tr>\n",
       "    <tr>\n",
       "      <th>4</th>\n",
       "      <td>5</td>\n",
       "      <td>0</td>\n",
       "      <td>3</td>\n",
       "      <td>Allen, Mr. William Henry</td>\n",
       "      <td>male</td>\n",
       "      <td>35.0</td>\n",
       "      <td>0</td>\n",
       "      <td>0</td>\n",
       "      <td>373450</td>\n",
       "      <td>8.0500</td>\n",
       "      <td>NaN</td>\n",
       "      <td>S</td>\n",
       "    </tr>\n",
       "  </tbody>\n",
       "</table>\n",
       "</div>"
      ],
      "text/plain": [
       "   PassengerId  Survived  Pclass  \\\n",
       "0            1         0       3   \n",
       "1            2         1       1   \n",
       "2            3         1       3   \n",
       "3            4         1       1   \n",
       "4            5         0       3   \n",
       "\n",
       "                                                Name     Sex   Age  SibSp  \\\n",
       "0                            Braund, Mr. Owen Harris    male  22.0      1   \n",
       "1  Cumings, Mrs. John Bradley (Florence Briggs Th...  female  38.0      1   \n",
       "2                             Heikkinen, Miss. Laina  female  26.0      0   \n",
       "3       Futrelle, Mrs. Jacques Heath (Lily May Peel)  female  35.0      1   \n",
       "4                           Allen, Mr. William Henry    male  35.0      0   \n",
       "\n",
       "   Parch            Ticket     Fare Cabin Embarked  \n",
       "0      0         A/5 21171   7.2500   NaN        S  \n",
       "1      0          PC 17599  71.2833   C85        C  \n",
       "2      0  STON/O2. 3101282   7.9250   NaN        S  \n",
       "3      0            113803  53.1000  C123        S  \n",
       "4      0            373450   8.0500   NaN        S  "
      ]
     },
     "execution_count": 3,
     "metadata": {},
     "output_type": "execute_result"
    }
   ],
   "source": [
    "df.head()"
   ]
  },
  {
   "cell_type": "markdown",
   "id": "35e2aefa",
   "metadata": {
    "papermill": {
     "duration": 0.032142,
     "end_time": "2024-05-22T10:36:06.387239",
     "exception": false,
     "start_time": "2024-05-22T10:36:06.355097",
     "status": "completed"
    },
    "tags": []
   },
   "source": [
    "# Univariate Analysis on Numerical Column"
   ]
  },
  {
   "cell_type": "markdown",
   "id": "41f20c40",
   "metadata": {
    "papermill": {
     "duration": 0.032334,
     "end_time": "2024-05-22T10:36:06.452238",
     "exception": false,
     "start_time": "2024-05-22T10:36:06.419904",
     "status": "completed"
    },
    "tags": []
   },
   "source": [
    "## Age\n",
    "\n",
    "***Conclusions***\n",
    "\n",
    " - Age is almost normally distributed\n",
    " - Around 20% of the values are missing\n",
    " - There are some outliers present "
   ]
  },
  {
   "cell_type": "code",
   "execution_count": 4,
   "id": "1425fbf1",
   "metadata": {
    "execution": {
     "iopub.execute_input": "2024-05-22T10:36:06.515889Z",
     "iopub.status.busy": "2024-05-22T10:36:06.515509Z",
     "iopub.status.idle": "2024-05-22T10:36:06.531028Z",
     "shell.execute_reply": "2024-05-22T10:36:06.529586Z"
    },
    "papermill": {
     "duration": 0.050397,
     "end_time": "2024-05-22T10:36:06.533633",
     "exception": false,
     "start_time": "2024-05-22T10:36:06.483236",
     "status": "completed"
    },
    "tags": []
   },
   "outputs": [
    {
     "data": {
      "text/plain": [
       "count    714.000000\n",
       "mean      29.699118\n",
       "std       14.526497\n",
       "min        0.420000\n",
       "25%       20.125000\n",
       "50%       28.000000\n",
       "75%       38.000000\n",
       "max       80.000000\n",
       "Name: Age, dtype: float64"
      ]
     },
     "execution_count": 4,
     "metadata": {},
     "output_type": "execute_result"
    }
   ],
   "source": [
    "#Summary statistic\n",
    "df['Age'].describe()"
   ]
  },
  {
   "cell_type": "code",
   "execution_count": 5,
   "id": "b1a8df35",
   "metadata": {
    "execution": {
     "iopub.execute_input": "2024-05-22T10:36:06.599313Z",
     "iopub.status.busy": "2024-05-22T10:36:06.598898Z",
     "iopub.status.idle": "2024-05-22T10:36:07.077068Z",
     "shell.execute_reply": "2024-05-22T10:36:07.075327Z"
    },
    "papermill": {
     "duration": 0.513553,
     "end_time": "2024-05-22T10:36:07.079728",
     "exception": false,
     "start_time": "2024-05-22T10:36:06.566175",
     "status": "completed"
    },
    "tags": []
   },
   "outputs": [
    {
     "data": {
      "text/plain": [
       "<Axes: ylabel='Frequency'>"
      ]
     },
     "execution_count": 5,
     "metadata": {},
     "output_type": "execute_result"
    },
    {
     "data": {
      "image/png": "[encoded data removed]",
      "text/plain": [
       "<Figure size 640x480 with 1 Axes>"
      ]
     },
     "metadata": {},
     "output_type": "display_data"
    }
   ],
   "source": [
    "#Histogram\n",
    "df['Age'].plot(kind = \"hist\", bins = 20)"
   ]
  },
  {
   "cell_type": "markdown",
   "id": "7ec3d426",
   "metadata": {
    "papermill": {
     "duration": 0.032514,
     "end_time": "2024-05-22T10:36:07.145429",
     "exception": false,
     "start_time": "2024-05-22T10:36:07.112915",
     "status": "completed"
    },
    "tags": []
   },
   "source": [
    "*Most passengers are of the age group 20-40*"
   ]
  },
  {
   "cell_type": "code",
   "execution_count": 6,
   "id": "41d1b760",
   "metadata": {
    "execution": {
     "iopub.execute_input": "2024-05-22T10:36:07.211232Z",
     "iopub.status.busy": "2024-05-22T10:36:07.210433Z",
     "iopub.status.idle": "2024-05-22T10:36:07.576248Z",
     "shell.execute_reply": "2024-05-22T10:36:07.575131Z"
    },
    "papermill": {
     "duration": 0.402063,
     "end_time": "2024-05-22T10:36:07.579077",
     "exception": false,
     "start_time": "2024-05-22T10:36:07.177014",
     "status": "completed"
    },
    "tags": []
   },
   "outputs": [
    {
     "data": {
      "text/plain": [
       "<Axes: ylabel='Density'>"
      ]
     },
     "execution_count": 6,
     "metadata": {},
     "output_type": "execute_result"
    },
    {
     "data": {
      "image/png": "[encoded data removed]",
      "text/plain": [
       "<Figure size 640x480 with 1 Axes>"
      ]
     },
     "metadata": {},
     "output_type": "display_data"
    }
   ],
   "source": [
    "#The distribution of the data\n",
    "df['Age'].plot(kind = \"kde\")"
   ]
  },
  {
   "cell_type": "code",
   "execution_count": 7,
   "id": "5cff0929",
   "metadata": {
    "execution": {
     "iopub.execute_input": "2024-05-22T10:36:07.715819Z",
     "iopub.status.busy": "2024-05-22T10:36:07.714880Z",
     "iopub.status.idle": "2024-05-22T10:36:07.722751Z",
     "shell.execute_reply": "2024-05-22T10:36:07.721313Z"
    },
    "papermill": {
     "duration": 0.111903,
     "end_time": "2024-05-22T10:36:07.725776",
     "exception": false,
     "start_time": "2024-05-22T10:36:07.613873",
     "status": "completed"
    },
    "tags": []
   },
   "outputs": [
    {
     "data": {
      "text/plain": [
       "0.38910778230082704"
      ]
     },
     "execution_count": 7,
     "metadata": {},
     "output_type": "execute_result"
    }
   ],
   "source": [
    "#Skewness\n",
    "df['Age'].skew()"
   ]
  },
  {
   "cell_type": "markdown",
   "id": "4f6e488b",
   "metadata": {
    "papermill": {
     "duration": 0.032947,
     "end_time": "2024-05-22T10:36:07.793554",
     "exception": false,
     "start_time": "2024-05-22T10:36:07.760607",
     "status": "completed"
    },
    "tags": []
   },
   "source": [
    "*as skewness is closer to 0, we can say that the data is almost normally distributed*"
   ]
  },
  {
   "cell_type": "code",
   "execution_count": 8,
   "id": "b9c3e1ee",
   "metadata": {
    "execution": {
     "iopub.execute_input": "2024-05-22T10:36:07.863425Z",
     "iopub.status.busy": "2024-05-22T10:36:07.862645Z",
     "iopub.status.idle": "2024-05-22T10:36:08.107977Z",
     "shell.execute_reply": "2024-05-22T10:36:08.106730Z"
    },
    "papermill": {
     "duration": 0.284296,
     "end_time": "2024-05-22T10:36:08.110732",
     "exception": false,
     "start_time": "2024-05-22T10:36:07.826436",
     "status": "completed"
    },
    "tags": []
   },
   "outputs": [
    {
     "data": {
      "text/plain": [
       "<Axes: >"
      ]
     },
     "execution_count": 8,
     "metadata": {},
     "output_type": "execute_result"
    },
    {
     "data": {
      "image/png": "[encoded data removed]",
      "text/plain": [
       "<Figure size 640x480 with 1 Axes>"
      ]
     },
     "metadata": {},
     "output_type": "display_data"
    }
   ],
   "source": [
    "#Boxp;ot\n",
    "df['Age'].plot(kind = \"box\")"
   ]
  },
  {
   "cell_type": "markdown",
   "id": "0012b374",
   "metadata": {
    "papermill": {
     "duration": 0.033126,
     "end_time": "2024-05-22T10:36:08.177657",
     "exception": false,
     "start_time": "2024-05-22T10:36:08.144531",
     "status": "completed"
    },
    "tags": []
   },
   "source": [
    "*Outliers are present above 65*"
   ]
  },
  {
   "cell_type": "code",
   "execution_count": 9,
   "id": "a4999632",
   "metadata": {
    "execution": {
     "iopub.execute_input": "2024-05-22T10:36:08.249539Z",
     "iopub.status.busy": "2024-05-22T10:36:08.249094Z",
     "iopub.status.idle": "2024-05-22T10:36:08.278680Z",
     "shell.execute_reply": "2024-05-22T10:36:08.276947Z"
    },
    "papermill": {
     "duration": 0.070043,
     "end_time": "2024-05-22T10:36:08.281367",
     "exception": false,
     "start_time": "2024-05-22T10:36:08.211324",
     "status": "completed"
    },
    "tags": []
   },
   "outputs": [
    {
     "data": {
      "text/html": [
       "<div>\n",
       "<style scoped>\n",
       "    .dataframe tbody tr th:only-of-type {\n",
       "        vertical-align: middle;\n",
       "    }\n",
       "\n",
       "    .dataframe tbody tr th {\n",
       "        vertical-align: top;\n",
       "    }\n",
       "\n",
       "    .dataframe thead th {\n",
       "        text-align: right;\n",
       "    }\n",
       "</style>\n",
       "<table border=\"1\" class=\"dataframe\">\n",
       "  <thead>\n",
       "    <tr style=\"text-align: right;\">\n",
       "      <th></th>\n",
       "      <th>PassengerId</th>\n",
       "      <th>Survived</th>\n",
       "      <th>Pclass</th>\n",
       "      <th>Name</th>\n",
       "      <th>Sex</th>\n",
       "      <th>Age</th>\n",
       "      <th>SibSp</th>\n",
       "      <th>Parch</th>\n",
       "      <th>Ticket</th>\n",
       "      <th>Fare</th>\n",
       "      <th>Cabin</th>\n",
       "      <th>Embarked</th>\n",
       "    </tr>\n",
       "  </thead>\n",
       "  <tbody>\n",
       "    <tr>\n",
       "      <th>33</th>\n",
       "      <td>34</td>\n",
       "      <td>0</td>\n",
       "      <td>2</td>\n",
       "      <td>Wheadon, Mr. Edward H</td>\n",
       "      <td>male</td>\n",
       "      <td>66.0</td>\n",
       "      <td>0</td>\n",
       "      <td>0</td>\n",
       "      <td>C.A. 24579</td>\n",
       "      <td>10.5000</td>\n",
       "      <td>NaN</td>\n",
       "      <td>S</td>\n",
       "    </tr>\n",
       "    <tr>\n",
       "      <th>96</th>\n",
       "      <td>97</td>\n",
       "      <td>0</td>\n",
       "      <td>1</td>\n",
       "      <td>Goldschmidt, Mr. George B</td>\n",
       "      <td>male</td>\n",
       "      <td>71.0</td>\n",
       "      <td>0</td>\n",
       "      <td>0</td>\n",
       "      <td>PC 17754</td>\n",
       "      <td>34.6542</td>\n",
       "      <td>A5</td>\n",
       "      <td>C</td>\n",
       "    </tr>\n",
       "    <tr>\n",
       "      <th>116</th>\n",
       "      <td>117</td>\n",
       "      <td>0</td>\n",
       "      <td>3</td>\n",
       "      <td>Connors, Mr. Patrick</td>\n",
       "      <td>male</td>\n",
       "      <td>70.5</td>\n",
       "      <td>0</td>\n",
       "      <td>0</td>\n",
       "      <td>370369</td>\n",
       "      <td>7.7500</td>\n",
       "      <td>NaN</td>\n",
       "      <td>Q</td>\n",
       "    </tr>\n",
       "    <tr>\n",
       "      <th>493</th>\n",
       "      <td>494</td>\n",
       "      <td>0</td>\n",
       "      <td>1</td>\n",
       "      <td>Artagaveytia, Mr. Ramon</td>\n",
       "      <td>male</td>\n",
       "      <td>71.0</td>\n",
       "      <td>0</td>\n",
       "      <td>0</td>\n",
       "      <td>PC 17609</td>\n",
       "      <td>49.5042</td>\n",
       "      <td>NaN</td>\n",
       "      <td>C</td>\n",
       "    </tr>\n",
       "    <tr>\n",
       "      <th>630</th>\n",
       "      <td>631</td>\n",
       "      <td>1</td>\n",
       "      <td>1</td>\n",
       "      <td>Barkworth, Mr. Algernon Henry Wilson</td>\n",
       "      <td>male</td>\n",
       "      <td>80.0</td>\n",
       "      <td>0</td>\n",
       "      <td>0</td>\n",
       "      <td>27042</td>\n",
       "      <td>30.0000</td>\n",
       "      <td>A23</td>\n",
       "      <td>S</td>\n",
       "    </tr>\n",
       "    <tr>\n",
       "      <th>672</th>\n",
       "      <td>673</td>\n",
       "      <td>0</td>\n",
       "      <td>2</td>\n",
       "      <td>Mitchell, Mr. Henry Michael</td>\n",
       "      <td>male</td>\n",
       "      <td>70.0</td>\n",
       "      <td>0</td>\n",
       "      <td>0</td>\n",
       "      <td>C.A. 24580</td>\n",
       "      <td>10.5000</td>\n",
       "      <td>NaN</td>\n",
       "      <td>S</td>\n",
       "    </tr>\n",
       "    <tr>\n",
       "      <th>745</th>\n",
       "      <td>746</td>\n",
       "      <td>0</td>\n",
       "      <td>1</td>\n",
       "      <td>Crosby, Capt. Edward Gifford</td>\n",
       "      <td>male</td>\n",
       "      <td>70.0</td>\n",
       "      <td>1</td>\n",
       "      <td>1</td>\n",
       "      <td>WE/P 5735</td>\n",
       "      <td>71.0000</td>\n",
       "      <td>B22</td>\n",
       "      <td>S</td>\n",
       "    </tr>\n",
       "    <tr>\n",
       "      <th>851</th>\n",
       "      <td>852</td>\n",
       "      <td>0</td>\n",
       "      <td>3</td>\n",
       "      <td>Svensson, Mr. Johan</td>\n",
       "      <td>male</td>\n",
       "      <td>74.0</td>\n",
       "      <td>0</td>\n",
       "      <td>0</td>\n",
       "      <td>347060</td>\n",
       "      <td>7.7750</td>\n",
       "      <td>NaN</td>\n",
       "      <td>S</td>\n",
       "    </tr>\n",
       "  </tbody>\n",
       "</table>\n",
       "</div>"
      ],
      "text/plain": [
       "     PassengerId  Survived  Pclass                                  Name  \\\n",
       "33            34         0       2                 Wheadon, Mr. Edward H   \n",
       "96            97         0       1             Goldschmidt, Mr. George B   \n",
       "116          117         0       3                  Connors, Mr. Patrick   \n",
       "493          494         0       1               Artagaveytia, Mr. Ramon   \n",
       "630          631         1       1  Barkworth, Mr. Algernon Henry Wilson   \n",
       "672          673         0       2           Mitchell, Mr. Henry Michael   \n",
       "745          746         0       1          Crosby, Capt. Edward Gifford   \n",
       "851          852         0       3                   Svensson, Mr. Johan   \n",
       "\n",
       "      Sex   Age  SibSp  Parch      Ticket     Fare Cabin Embarked  \n",
       "33   male  66.0      0      0  C.A. 24579  10.5000   NaN        S  \n",
       "96   male  71.0      0      0    PC 17754  34.6542    A5        C  \n",
       "116  male  70.5      0      0      370369   7.7500   NaN        Q  \n",
       "493  male  71.0      0      0    PC 17609  49.5042   NaN        C  \n",
       "630  male  80.0      0      0       27042  30.0000   A23        S  \n",
       "672  male  70.0      0      0  C.A. 24580  10.5000   NaN        S  \n",
       "745  male  70.0      1      1   WE/P 5735  71.0000   B22        S  \n",
       "851  male  74.0      0      0      347060   7.7750   NaN        S  "
      ]
     },
     "execution_count": 9,
     "metadata": {},
     "output_type": "execute_result"
    }
   ],
   "source": [
    "#are the outliers part of the data?\n",
    "df[df['Age'] > 65]"
   ]
  },
  {
   "cell_type": "code",
   "execution_count": 10,
   "id": "f1f4e251",
   "metadata": {
    "execution": {
     "iopub.execute_input": "2024-05-22T10:36:08.352440Z",
     "iopub.status.busy": "2024-05-22T10:36:08.352000Z",
     "iopub.status.idle": "2024-05-22T10:36:08.360416Z",
     "shell.execute_reply": "2024-05-22T10:36:08.359137Z"
    },
    "papermill": {
     "duration": 0.047096,
     "end_time": "2024-05-22T10:36:08.362970",
     "exception": false,
     "start_time": "2024-05-22T10:36:08.315874",
     "status": "completed"
    },
    "tags": []
   },
   "outputs": [
    {
     "data": {
      "text/plain": [
       "177"
      ]
     },
     "execution_count": 10,
     "metadata": {},
     "output_type": "execute_result"
    }
   ],
   "source": [
    "#Missing values\n",
    "\n",
    "df['Age'].isnull().sum()"
   ]
  },
  {
   "cell_type": "code",
   "execution_count": 11,
   "id": "472ea202",
   "metadata": {
    "execution": {
     "iopub.execute_input": "2024-05-22T10:36:08.439579Z",
     "iopub.status.busy": "2024-05-22T10:36:08.439172Z",
     "iopub.status.idle": "2024-05-22T10:36:08.447660Z",
     "shell.execute_reply": "2024-05-22T10:36:08.446393Z"
    },
    "papermill": {
     "duration": 0.050023,
     "end_time": "2024-05-22T10:36:08.449948",
     "exception": false,
     "start_time": "2024-05-22T10:36:08.399925",
     "status": "completed"
    },
    "tags": []
   },
   "outputs": [
    {
     "data": {
      "text/plain": [
       "0.19865319865319866"
      ]
     },
     "execution_count": 11,
     "metadata": {},
     "output_type": "execute_result"
    }
   ],
   "source": [
    "#Proportion of missing values\n",
    "\n",
    "df['Age'].isnull().sum()/len(df['Age'])"
   ]
  },
  {
   "cell_type": "markdown",
   "id": "2c34da60",
   "metadata": {
    "papermill": {
     "duration": 0.035092,
     "end_time": "2024-05-22T10:36:08.520639",
     "exception": false,
     "start_time": "2024-05-22T10:36:08.485547",
     "status": "completed"
    },
    "tags": []
   },
   "source": [
    "## Fare\n",
    "\n",
    "***Conclusions***\n",
    "\n",
    "- Fare column is positvely skewed\n",
    "- Fare column contains grouped fare and not individual fare. \n",
    "- We need to create a new columns \n"
   ]
  },
  {
   "cell_type": "code",
   "execution_count": 12,
   "id": "beae79ae",
   "metadata": {
    "execution": {
     "iopub.execute_input": "2024-05-22T10:36:08.596118Z",
     "iopub.status.busy": "2024-05-22T10:36:08.595703Z",
     "iopub.status.idle": "2024-05-22T10:36:08.608640Z",
     "shell.execute_reply": "2024-05-22T10:36:08.607249Z"
    },
    "papermill": {
     "duration": 0.052907,
     "end_time": "2024-05-22T10:36:08.611281",
     "exception": false,
     "start_time": "2024-05-22T10:36:08.558374",
     "status": "completed"
    },
    "tags": []
   },
   "outputs": [
    {
     "data": {
      "text/plain": [
       "count    891.000000\n",
       "mean      32.204208\n",
       "std       49.693429\n",
       "min        0.000000\n",
       "25%        7.910400\n",
       "50%       14.454200\n",
       "75%       31.000000\n",
       "max      512.329200\n",
       "Name: Fare, dtype: float64"
      ]
     },
     "execution_count": 12,
     "metadata": {},
     "output_type": "execute_result"
    }
   ],
   "source": [
    "#Summary statistic\n",
    "\n",
    "df['Fare'].describe()"
   ]
  },
  {
   "cell_type": "code",
   "execution_count": 13,
   "id": "a59d040f",
   "metadata": {
    "execution": {
     "iopub.execute_input": "2024-05-22T10:36:08.684078Z",
     "iopub.status.busy": "2024-05-22T10:36:08.683655Z",
     "iopub.status.idle": "2024-05-22T10:36:09.033163Z",
     "shell.execute_reply": "2024-05-22T10:36:09.031341Z"
    },
    "papermill": {
     "duration": 0.389409,
     "end_time": "2024-05-22T10:36:09.036504",
     "exception": false,
     "start_time": "2024-05-22T10:36:08.647095",
     "status": "completed"
    },
    "tags": []
   },
   "outputs": [
    {
     "data": {
      "text/plain": [
       "<Axes: ylabel='Frequency'>"
      ]
     },
     "execution_count": 13,
     "metadata": {},
     "output_type": "execute_result"
    },
    {
     "data": {
      "image/png": "[encoded data removed]",
      "text/plain": [
       "<Figure size 640x480 with 1 Axes>"
      ]
     },
     "metadata": {},
     "output_type": "display_data"
    }
   ],
   "source": [
    "# Histogram\n",
    "\n",
    "df[\"Fare\"].plot(kind = \"hist\")"
   ]
  },
  {
   "cell_type": "code",
   "execution_count": 14,
   "id": "e6065bc9",
   "metadata": {
    "execution": {
     "iopub.execute_input": "2024-05-22T10:36:09.114081Z",
     "iopub.status.busy": "2024-05-22T10:36:09.112996Z",
     "iopub.status.idle": "2024-05-22T10:36:09.432640Z",
     "shell.execute_reply": "2024-05-22T10:36:09.431739Z"
    },
    "papermill": {
     "duration": 0.358107,
     "end_time": "2024-05-22T10:36:09.434906",
     "exception": false,
     "start_time": "2024-05-22T10:36:09.076799",
     "status": "completed"
    },
    "tags": []
   },
   "outputs": [
    {
     "data": {
      "text/plain": [
       "<Axes: ylabel='Density'>"
      ]
     },
     "execution_count": 14,
     "metadata": {},
     "output_type": "execute_result"
    },
    {
     "data": {
      "image/png": "[encoded data removed]",
      "text/plain": [
       "<Figure size 640x480 with 1 Axes>"
      ]
     },
     "metadata": {},
     "output_type": "display_data"
    }
   ],
   "source": [
    "#Distribution of the data\n",
    "\n",
    "df['Fare'].plot(kind = \"kde\")"
   ]
  },
  {
   "cell_type": "code",
   "execution_count": 15,
   "id": "24129598",
   "metadata": {
    "execution": {
     "iopub.execute_input": "2024-05-22T10:36:09.510831Z",
     "iopub.status.busy": "2024-05-22T10:36:09.509801Z",
     "iopub.status.idle": "2024-05-22T10:36:09.517272Z",
     "shell.execute_reply": "2024-05-22T10:36:09.516471Z"
    },
    "papermill": {
     "duration": 0.049104,
     "end_time": "2024-05-22T10:36:09.519750",
     "exception": false,
     "start_time": "2024-05-22T10:36:09.470646",
     "status": "completed"
    },
    "tags": []
   },
   "outputs": [
    {
     "data": {
      "text/plain": [
       "4.787316519674893"
      ]
     },
     "execution_count": 15,
     "metadata": {},
     "output_type": "execute_result"
    }
   ],
   "source": [
    "#Skewness of the data\n",
    "\n",
    "df['Fare'].skew()"
   ]
  },
  {
   "cell_type": "markdown",
   "id": "884c2e22",
   "metadata": {
    "papermill": {
     "duration": 0.037047,
     "end_time": "2024-05-22T10:36:09.594986",
     "exception": false,
     "start_time": "2024-05-22T10:36:09.557939",
     "status": "completed"
    },
    "tags": []
   },
   "source": [
    "*The data is highly positively skewed*"
   ]
  },
  {
   "cell_type": "code",
   "execution_count": 16,
   "id": "51ffab1e",
   "metadata": {
    "execution": {
     "iopub.execute_input": "2024-05-22T10:36:09.686195Z",
     "iopub.status.busy": "2024-05-22T10:36:09.684788Z",
     "iopub.status.idle": "2024-05-22T10:36:09.923037Z",
     "shell.execute_reply": "2024-05-22T10:36:09.921843Z"
    },
    "papermill": {
     "duration": 0.286237,
     "end_time": "2024-05-22T10:36:09.925780",
     "exception": false,
     "start_time": "2024-05-22T10:36:09.639543",
     "status": "completed"
    },
    "tags": []
   },
   "outputs": [
    {
     "data": {
      "text/plain": [
       "<Axes: >"
      ]
     },
     "execution_count": 16,
     "metadata": {},
     "output_type": "execute_result"
    },
    {
     "data": {
      "image/png": "[encoded data removed]",
      "text/plain": [
       "<Figure size 640x480 with 1 Axes>"
      ]
     },
     "metadata": {},
     "output_type": "display_data"
    }
   ],
   "source": [
    "#Detecting outliers using boxplot\n",
    "\n",
    "df['Fare'].plot(kind = 'box')"
   ]
  },
  {
   "cell_type": "code",
   "execution_count": 17,
   "id": "8e0a503e",
   "metadata": {
    "execution": {
     "iopub.execute_input": "2024-05-22T10:36:10.000659Z",
     "iopub.status.busy": "2024-05-22T10:36:10.000254Z",
     "iopub.status.idle": "2024-05-22T10:36:10.017943Z",
     "shell.execute_reply": "2024-05-22T10:36:10.016984Z"
    },
    "papermill": {
     "duration": 0.058056,
     "end_time": "2024-05-22T10:36:10.020367",
     "exception": false,
     "start_time": "2024-05-22T10:36:09.962311",
     "status": "completed"
    },
    "tags": []
   },
   "outputs": [
    {
     "data": {
      "text/html": [
       "<div>\n",
       "<style scoped>\n",
       "    .dataframe tbody tr th:only-of-type {\n",
       "        vertical-align: middle;\n",
       "    }\n",
       "\n",
       "    .dataframe tbody tr th {\n",
       "        vertical-align: top;\n",
       "    }\n",
       "\n",
       "    .dataframe thead th {\n",
       "        text-align: right;\n",
       "    }\n",
       "</style>\n",
       "<table border=\"1\" class=\"dataframe\">\n",
       "  <thead>\n",
       "    <tr style=\"text-align: right;\">\n",
       "      <th></th>\n",
       "      <th>PassengerId</th>\n",
       "      <th>Survived</th>\n",
       "      <th>Pclass</th>\n",
       "      <th>Name</th>\n",
       "      <th>Sex</th>\n",
       "      <th>Age</th>\n",
       "      <th>SibSp</th>\n",
       "      <th>Parch</th>\n",
       "      <th>Ticket</th>\n",
       "      <th>Fare</th>\n",
       "      <th>Cabin</th>\n",
       "      <th>Embarked</th>\n",
       "    </tr>\n",
       "  </thead>\n",
       "  <tbody>\n",
       "    <tr>\n",
       "      <th>258</th>\n",
       "      <td>259</td>\n",
       "      <td>1</td>\n",
       "      <td>1</td>\n",
       "      <td>Ward, Miss. Anna</td>\n",
       "      <td>female</td>\n",
       "      <td>35.0</td>\n",
       "      <td>0</td>\n",
       "      <td>0</td>\n",
       "      <td>PC 17755</td>\n",
       "      <td>512.3292</td>\n",
       "      <td>NaN</td>\n",
       "      <td>C</td>\n",
       "    </tr>\n",
       "    <tr>\n",
       "      <th>679</th>\n",
       "      <td>680</td>\n",
       "      <td>1</td>\n",
       "      <td>1</td>\n",
       "      <td>Cardeza, Mr. Thomas Drake Martinez</td>\n",
       "      <td>male</td>\n",
       "      <td>36.0</td>\n",
       "      <td>0</td>\n",
       "      <td>1</td>\n",
       "      <td>PC 17755</td>\n",
       "      <td>512.3292</td>\n",
       "      <td>B51 B53 B55</td>\n",
       "      <td>C</td>\n",
       "    </tr>\n",
       "    <tr>\n",
       "      <th>737</th>\n",
       "      <td>738</td>\n",
       "      <td>1</td>\n",
       "      <td>1</td>\n",
       "      <td>Lesurer, Mr. Gustave J</td>\n",
       "      <td>male</td>\n",
       "      <td>35.0</td>\n",
       "      <td>0</td>\n",
       "      <td>0</td>\n",
       "      <td>PC 17755</td>\n",
       "      <td>512.3292</td>\n",
       "      <td>B101</td>\n",
       "      <td>C</td>\n",
       "    </tr>\n",
       "  </tbody>\n",
       "</table>\n",
       "</div>"
      ],
      "text/plain": [
       "     PassengerId  Survived  Pclass                                Name  \\\n",
       "258          259         1       1                    Ward, Miss. Anna   \n",
       "679          680         1       1  Cardeza, Mr. Thomas Drake Martinez   \n",
       "737          738         1       1              Lesurer, Mr. Gustave J   \n",
       "\n",
       "        Sex   Age  SibSp  Parch    Ticket      Fare        Cabin Embarked  \n",
       "258  female  35.0      0      0  PC 17755  512.3292          NaN        C  \n",
       "679    male  36.0      0      1  PC 17755  512.3292  B51 B53 B55        C  \n",
       "737    male  35.0      0      0  PC 17755  512.3292         B101        C  "
      ]
     },
     "execution_count": 17,
     "metadata": {},
     "output_type": "execute_result"
    }
   ],
   "source": [
    "#Are outliers a part of the data?\n",
    "\n",
    "df[df['Fare']> 300]"
   ]
  },
  {
   "cell_type": "markdown",
   "id": "efe8877c",
   "metadata": {
    "papermill": {
     "duration": 0.036535,
     "end_time": "2024-05-22T10:36:10.095158",
     "exception": false,
     "start_time": "2024-05-22T10:36:10.058623",
     "status": "completed"
    },
    "tags": []
   },
   "source": [
    "*Three passengers have fare greater than 300, but their ticket is the same. This means that in the fare column, the whole family's accumulated fare is given, i.e. individual fare of the passengers are not given*"
   ]
  },
  {
   "cell_type": "code",
   "execution_count": 18,
   "id": "299dbebc",
   "metadata": {
    "execution": {
     "iopub.execute_input": "2024-05-22T10:36:10.170355Z",
     "iopub.status.busy": "2024-05-22T10:36:10.169456Z",
     "iopub.status.idle": "2024-05-22T10:36:10.177261Z",
     "shell.execute_reply": "2024-05-22T10:36:10.176374Z"
    },
    "papermill": {
     "duration": 0.048373,
     "end_time": "2024-05-22T10:36:10.179487",
     "exception": false,
     "start_time": "2024-05-22T10:36:10.131114",
     "status": "completed"
    },
    "tags": []
   },
   "outputs": [
    {
     "data": {
      "text/plain": [
       "0"
      ]
     },
     "execution_count": 18,
     "metadata": {},
     "output_type": "execute_result"
    }
   ],
   "source": [
    "#Missing values\n",
    "\n",
    "df['Fare'].isnull().sum()"
   ]
  },
  {
   "cell_type": "markdown",
   "id": "1e460b78",
   "metadata": {
    "papermill": {
     "duration": 0.036807,
     "end_time": "2024-05-22T10:36:10.253294",
     "exception": false,
     "start_time": "2024-05-22T10:36:10.216487",
     "status": "completed"
    },
    "tags": []
   },
   "source": [
    "# Univariate Analysis on Cateogircal Column"
   ]
  },
  {
   "cell_type": "markdown",
   "id": "9a89b281",
   "metadata": {
    "papermill": {
     "duration": 0.035872,
     "end_time": "2024-05-22T10:36:10.326950",
     "exception": false,
     "start_time": "2024-05-22T10:36:10.291078",
     "status": "completed"
    },
    "tags": []
   },
   "source": [
    "### Survived\n",
    "\n",
    "***Conclusions***\n",
    "\n",
    "- Out of 891 passengers, 549 passengers died and 342 survived\n",
    "- The accident can be termed as \"severe\" as more than half of the passengers died "
   ]
  },
  {
   "cell_type": "code",
   "execution_count": 19,
   "id": "e3741965",
   "metadata": {
    "execution": {
     "iopub.execute_input": "2024-05-22T10:36:10.402379Z",
     "iopub.status.busy": "2024-05-22T10:36:10.401478Z",
     "iopub.status.idle": "2024-05-22T10:36:10.409766Z",
     "shell.execute_reply": "2024-05-22T10:36:10.408467Z"
    },
    "papermill": {
     "duration": 0.049269,
     "end_time": "2024-05-22T10:36:10.413256",
     "exception": false,
     "start_time": "2024-05-22T10:36:10.363987",
     "status": "completed"
    },
    "tags": []
   },
   "outputs": [
    {
     "data": {
      "text/plain": [
       "(891,)"
      ]
     },
     "execution_count": 19,
     "metadata": {},
     "output_type": "execute_result"
    }
   ],
   "source": [
    "df['Survived'].shape"
   ]
  },
  {
   "cell_type": "code",
   "execution_count": 20,
   "id": "d6d2f8ce",
   "metadata": {
    "execution": {
     "iopub.execute_input": "2024-05-22T10:36:10.490786Z",
     "iopub.status.busy": "2024-05-22T10:36:10.490217Z",
     "iopub.status.idle": "2024-05-22T10:36:10.504562Z",
     "shell.execute_reply": "2024-05-22T10:36:10.503406Z"
    },
    "papermill": {
     "duration": 0.055957,
     "end_time": "2024-05-22T10:36:10.506909",
     "exception": false,
     "start_time": "2024-05-22T10:36:10.450952",
     "status": "completed"
    },
    "tags": []
   },
   "outputs": [
    {
     "data": {
      "text/plain": [
       "Survived\n",
       "0    549\n",
       "1    342\n",
       "Name: count, dtype: int64"
      ]
     },
     "execution_count": 20,
     "metadata": {},
     "output_type": "execute_result"
    }
   ],
   "source": [
    "df['Survived'].value_counts()"
   ]
  },
  {
   "cell_type": "markdown",
   "id": "6f888044",
   "metadata": {
    "papermill": {
     "duration": 0.036693,
     "end_time": "2024-05-22T10:36:10.581243",
     "exception": false,
     "start_time": "2024-05-22T10:36:10.544550",
     "status": "completed"
    },
    "tags": []
   },
   "source": [
    "*Only 342 survived*"
   ]
  },
  {
   "cell_type": "code",
   "execution_count": 21,
   "id": "793737dd",
   "metadata": {
    "execution": {
     "iopub.execute_input": "2024-05-22T10:36:10.659213Z",
     "iopub.status.busy": "2024-05-22T10:36:10.658534Z",
     "iopub.status.idle": "2024-05-22T10:36:10.901863Z",
     "shell.execute_reply": "2024-05-22T10:36:10.900594Z"
    },
    "papermill": {
     "duration": 0.286326,
     "end_time": "2024-05-22T10:36:10.904442",
     "exception": false,
     "start_time": "2024-05-22T10:36:10.618116",
     "status": "completed"
    },
    "tags": []
   },
   "outputs": [
    {
     "data": {
      "text/plain": [
       "<Axes: xlabel='Survived'>"
      ]
     },
     "execution_count": 21,
     "metadata": {},
     "output_type": "execute_result"
    },
    {
     "data": {
      "image/png": "[encoded data removed]",
      "text/plain": [
       "<Figure size 640x480 with 1 Axes>"
      ]
     },
     "metadata": {},
     "output_type": "display_data"
    }
   ],
   "source": [
    "#Visualizing the people who survived or died'\n",
    "df['Survived'].value_counts().plot(kind = \"bar\")"
   ]
  },
  {
   "cell_type": "code",
   "execution_count": 22,
   "id": "2cc830e3",
   "metadata": {
    "execution": {
     "iopub.execute_input": "2024-05-22T10:36:10.983099Z",
     "iopub.status.busy": "2024-05-22T10:36:10.982677Z",
     "iopub.status.idle": "2024-05-22T10:36:11.137823Z",
     "shell.execute_reply": "2024-05-22T10:36:11.135966Z"
    },
    "papermill": {
     "duration": 0.198475,
     "end_time": "2024-05-22T10:36:11.140495",
     "exception": false,
     "start_time": "2024-05-22T10:36:10.942020",
     "status": "completed"
    },
    "tags": []
   },
   "outputs": [
    {
     "data": {
      "text/plain": [
       "<Axes: ylabel='count'>"
      ]
     },
     "execution_count": 22,
     "metadata": {},
     "output_type": "execute_result"
    },
    {
     "data": {
      "image/png": "[encoded data removed]",
      "text/plain": [
       "<Figure size 640x480 with 1 Axes>"
      ]
     },
     "metadata": {},
     "output_type": "display_data"
    }
   ],
   "source": [
    "#Percentage of people who survived and died\n",
    "df['Survived'].value_counts().plot(kind = \"pie\", autopct = \"%0.1f%%\")"
   ]
  },
  {
   "cell_type": "markdown",
   "id": "290b8848",
   "metadata": {
    "papermill": {
     "duration": 0.037059,
     "end_time": "2024-05-22T10:36:11.250685",
     "exception": false,
     "start_time": "2024-05-22T10:36:11.213626",
     "status": "completed"
    },
    "tags": []
   },
   "source": [
    "*more than 50% of the passengers dies hence we can conclude that it was a deadly accident*"
   ]
  },
  {
   "cell_type": "code",
   "execution_count": 23,
   "id": "a7273063",
   "metadata": {
    "execution": {
     "iopub.execute_input": "2024-05-22T10:36:11.328158Z",
     "iopub.status.busy": "2024-05-22T10:36:11.327709Z",
     "iopub.status.idle": "2024-05-22T10:36:11.335618Z",
     "shell.execute_reply": "2024-05-22T10:36:11.334731Z"
    },
    "papermill": {
     "duration": 0.049799,
     "end_time": "2024-05-22T10:36:11.338334",
     "exception": false,
     "start_time": "2024-05-22T10:36:11.288535",
     "status": "completed"
    },
    "tags": []
   },
   "outputs": [
    {
     "data": {
      "text/plain": [
       "0"
      ]
     },
     "execution_count": 23,
     "metadata": {},
     "output_type": "execute_result"
    }
   ],
   "source": [
    "df['Survived'].isnull().sum()"
   ]
  },
  {
   "cell_type": "markdown",
   "id": "b0b3fbf6",
   "metadata": {
    "papermill": {
     "duration": 0.039082,
     "end_time": "2024-05-22T10:36:11.416372",
     "exception": false,
     "start_time": "2024-05-22T10:36:11.377290",
     "status": "completed"
    },
    "tags": []
   },
   "source": [
    "### PClass - Passnger class\n",
    "\n",
    "***Conclusions***\n",
    "\n",
    "- 491 passengers are travelling in the first class which is the maximum.\n",
    "- Interestingly, 1st class has the second second highest number of passengers as opposed to the 2nd class which has the least number of passengers travelling"
   ]
  },
  {
   "cell_type": "code",
   "execution_count": 24,
   "id": "539d3136",
   "metadata": {
    "execution": {
     "iopub.execute_input": "2024-05-22T10:36:11.494575Z",
     "iopub.status.busy": "2024-05-22T10:36:11.493292Z",
     "iopub.status.idle": "2024-05-22T10:36:11.500202Z",
     "shell.execute_reply": "2024-05-22T10:36:11.499235Z"
    },
    "papermill": {
     "duration": 0.048081,
     "end_time": "2024-05-22T10:36:11.502497",
     "exception": false,
     "start_time": "2024-05-22T10:36:11.454416",
     "status": "completed"
    },
    "tags": []
   },
   "outputs": [
    {
     "data": {
      "text/plain": [
       "(891,)"
      ]
     },
     "execution_count": 24,
     "metadata": {},
     "output_type": "execute_result"
    }
   ],
   "source": [
    "df['Pclass'].shape"
   ]
  },
  {
   "cell_type": "code",
   "execution_count": 25,
   "id": "d29156d0",
   "metadata": {
    "execution": {
     "iopub.execute_input": "2024-05-22T10:36:11.584497Z",
     "iopub.status.busy": "2024-05-22T10:36:11.583201Z",
     "iopub.status.idle": "2024-05-22T10:36:11.592967Z",
     "shell.execute_reply": "2024-05-22T10:36:11.591655Z"
    },
    "papermill": {
     "duration": 0.052554,
     "end_time": "2024-05-22T10:36:11.595427",
     "exception": false,
     "start_time": "2024-05-22T10:36:11.542873",
     "status": "completed"
    },
    "tags": []
   },
   "outputs": [
    {
     "data": {
      "text/plain": [
       "Pclass\n",
       "3    491\n",
       "1    216\n",
       "2    184\n",
       "Name: count, dtype: int64"
      ]
     },
     "execution_count": 25,
     "metadata": {},
     "output_type": "execute_result"
    }
   ],
   "source": [
    "df['Pclass'].value_counts()"
   ]
  },
  {
   "cell_type": "markdown",
   "id": "ab0ceddf",
   "metadata": {
    "papermill": {
     "duration": 0.038824,
     "end_time": "2024-05-22T10:36:11.675436",
     "exception": false,
     "start_time": "2024-05-22T10:36:11.636612",
     "status": "completed"
    },
    "tags": []
   },
   "source": [
    "*Maximum passengers are from the third class*"
   ]
  },
  {
   "cell_type": "code",
   "execution_count": 26,
   "id": "28b3a84a",
   "metadata": {
    "execution": {
     "iopub.execute_input": "2024-05-22T10:36:11.755770Z",
     "iopub.status.busy": "2024-05-22T10:36:11.755389Z",
     "iopub.status.idle": "2024-05-22T10:36:12.002070Z",
     "shell.execute_reply": "2024-05-22T10:36:12.000137Z"
    },
    "papermill": {
     "duration": 0.290714,
     "end_time": "2024-05-22T10:36:12.005147",
     "exception": false,
     "start_time": "2024-05-22T10:36:11.714433",
     "status": "completed"
    },
    "tags": []
   },
   "outputs": [
    {
     "data": {
      "text/plain": [
       "<Axes: xlabel='Pclass'>"
      ]
     },
     "execution_count": 26,
     "metadata": {},
     "output_type": "execute_result"
    },
    {
     "data": {
      "image/png": "[encoded data removed]",
      "text/plain": [
       "<Figure size 640x480 with 1 Axes>"
      ]
     },
     "metadata": {},
     "output_type": "display_data"
    }
   ],
   "source": [
    "#visualizing the number of passengers from each class\n",
    "\n",
    "df['Pclass'].value_counts().plot(kind = \"bar\")"
   ]
  },
  {
   "cell_type": "code",
   "execution_count": 27,
   "id": "51f32057",
   "metadata": {
    "execution": {
     "iopub.execute_input": "2024-05-22T10:36:12.087266Z",
     "iopub.status.busy": "2024-05-22T10:36:12.086853Z",
     "iopub.status.idle": "2024-05-22T10:36:12.247674Z",
     "shell.execute_reply": "2024-05-22T10:36:12.245963Z"
    },
    "papermill": {
     "duration": 0.204228,
     "end_time": "2024-05-22T10:36:12.250569",
     "exception": false,
     "start_time": "2024-05-22T10:36:12.046341",
     "status": "completed"
    },
    "tags": []
   },
   "outputs": [
    {
     "data": {
      "text/plain": [
       "<Axes: ylabel='count'>"
      ]
     },
     "execution_count": 27,
     "metadata": {},
     "output_type": "execute_result"
    },
    {
     "data": {
      "image/png": "[encoded data removed]",
      "text/plain": [
       "<Figure size 640x480 with 1 Axes>"
      ]
     },
     "metadata": {},
     "output_type": "display_data"
    }
   ],
   "source": [
    "df['Pclass'].value_counts().plot(kind = \"pie\", autopct = \"%0.1f%%\")"
   ]
  },
  {
   "cell_type": "markdown",
   "id": "e5cfeb3d",
   "metadata": {
    "papermill": {
     "duration": 0.039555,
     "end_time": "2024-05-22T10:36:12.332495",
     "exception": false,
     "start_time": "2024-05-22T10:36:12.292940",
     "status": "completed"
    },
    "tags": []
   },
   "source": [
    "### Sex\n",
    "\n",
    "***Conclusions***\n",
    "\n",
    "- Male passengers are more than the female passengers"
   ]
  },
  {
   "cell_type": "code",
   "execution_count": 28,
   "id": "6757ee53",
   "metadata": {
    "execution": {
     "iopub.execute_input": "2024-05-22T10:36:12.420549Z",
     "iopub.status.busy": "2024-05-22T10:36:12.420107Z",
     "iopub.status.idle": "2024-05-22T10:36:12.431174Z",
     "shell.execute_reply": "2024-05-22T10:36:12.429940Z"
    },
    "papermill": {
     "duration": 0.058159,
     "end_time": "2024-05-22T10:36:12.434783",
     "exception": false,
     "start_time": "2024-05-22T10:36:12.376624",
     "status": "completed"
    },
    "tags": []
   },
   "outputs": [
    {
     "data": {
      "text/plain": [
       "Sex\n",
       "male      577\n",
       "female    314\n",
       "Name: count, dtype: int64"
      ]
     },
     "execution_count": 28,
     "metadata": {},
     "output_type": "execute_result"
    }
   ],
   "source": [
    "df['Sex'].value_counts()"
   ]
  },
  {
   "cell_type": "code",
   "execution_count": 29,
   "id": "5ee012ac",
   "metadata": {
    "execution": {
     "iopub.execute_input": "2024-05-22T10:36:12.524435Z",
     "iopub.status.busy": "2024-05-22T10:36:12.523713Z",
     "iopub.status.idle": "2024-05-22T10:36:12.769044Z",
     "shell.execute_reply": "2024-05-22T10:36:12.767192Z"
    },
    "papermill": {
     "duration": 0.294171,
     "end_time": "2024-05-22T10:36:12.771818",
     "exception": false,
     "start_time": "2024-05-22T10:36:12.477647",
     "status": "completed"
    },
    "tags": []
   },
   "outputs": [
    {
     "data": {
      "text/plain": [
       "<Axes: xlabel='Sex'>"
      ]
     },
     "execution_count": 29,
     "metadata": {},
     "output_type": "execute_result"
    },
    {
     "data": {
      "image/png": "[encoded data removed]",
      "text/plain": [
       "<Figure size 640x480 with 1 Axes>"
      ]
     },
     "metadata": {},
     "output_type": "display_data"
    }
   ],
   "source": [
    "df['Sex'].value_counts().plot(kind = \"bar\")"
   ]
  },
  {
   "cell_type": "code",
   "execution_count": 30,
   "id": "8dcf302b",
   "metadata": {
    "execution": {
     "iopub.execute_input": "2024-05-22T10:36:12.861220Z",
     "iopub.status.busy": "2024-05-22T10:36:12.859753Z",
     "iopub.status.idle": "2024-05-22T10:36:13.020371Z",
     "shell.execute_reply": "2024-05-22T10:36:13.018495Z"
    },
    "papermill": {
     "duration": 0.209896,
     "end_time": "2024-05-22T10:36:13.024713",
     "exception": false,
     "start_time": "2024-05-22T10:36:12.814817",
     "status": "completed"
    },
    "tags": []
   },
   "outputs": [
    {
     "data": {
      "text/plain": [
       "<Axes: ylabel='count'>"
      ]
     },
     "execution_count": 30,
     "metadata": {},
     "output_type": "execute_result"
    },
    {
     "data": {
      "image/png": "[encoded data removed]",
      "text/plain": [
       "<Figure size 640x480 with 1 Axes>"
      ]
     },
     "metadata": {},
     "output_type": "display_data"
    }
   ],
   "source": [
    "df['Sex'].value_counts().plot(kind = \"pie\", autopct = \"%0.1f%%\")"
   ]
  },
  {
   "cell_type": "markdown",
   "id": "f5c7d466",
   "metadata": {
    "papermill": {
     "duration": 0.04011,
     "end_time": "2024-05-22T10:36:13.138086",
     "exception": false,
     "start_time": "2024-05-22T10:36:13.097976",
     "status": "completed"
    },
    "tags": []
   },
   "source": [
    "### SibSP - siblings and spouse\n",
    "\n",
    "***Conclusions***\n",
    "\n",
    "- most passengers are travelling alone"
   ]
  },
  {
   "cell_type": "code",
   "execution_count": 31,
   "id": "e0db2e33",
   "metadata": {
    "execution": {
     "iopub.execute_input": "2024-05-22T10:36:13.222653Z",
     "iopub.status.busy": "2024-05-22T10:36:13.221640Z",
     "iopub.status.idle": "2024-05-22T10:36:13.230718Z",
     "shell.execute_reply": "2024-05-22T10:36:13.229837Z"
    },
    "papermill": {
     "duration": 0.054391,
     "end_time": "2024-05-22T10:36:13.233112",
     "exception": false,
     "start_time": "2024-05-22T10:36:13.178721",
     "status": "completed"
    },
    "tags": []
   },
   "outputs": [
    {
     "data": {
      "text/plain": [
       "SibSp\n",
       "0    608\n",
       "1    209\n",
       "2     28\n",
       "4     18\n",
       "3     16\n",
       "8      7\n",
       "5      5\n",
       "Name: count, dtype: int64"
      ]
     },
     "execution_count": 31,
     "metadata": {},
     "output_type": "execute_result"
    }
   ],
   "source": [
    "df[\"SibSp\"].value_counts()"
   ]
  },
  {
   "cell_type": "code",
   "execution_count": 32,
   "id": "d1f629db",
   "metadata": {
    "execution": {
     "iopub.execute_input": "2024-05-22T10:36:13.317713Z",
     "iopub.status.busy": "2024-05-22T10:36:13.316770Z",
     "iopub.status.idle": "2024-05-22T10:36:13.608549Z",
     "shell.execute_reply": "2024-05-22T10:36:13.607402Z"
    },
    "papermill": {
     "duration": 0.336712,
     "end_time": "2024-05-22T10:36:13.611248",
     "exception": false,
     "start_time": "2024-05-22T10:36:13.274536",
     "status": "completed"
    },
    "tags": []
   },
   "outputs": [
    {
     "data": {
      "text/plain": [
       "<Axes: xlabel='SibSp'>"
      ]
     },
     "execution_count": 32,
     "metadata": {},
     "output_type": "execute_result"
    },
    {
     "data": {
      "image/png": "[encoded data removed]",
      "text/plain": [
       "<Figure size 640x480 with 1 Axes>"
      ]
     },
     "metadata": {},
     "output_type": "display_data"
    }
   ],
   "source": [
    "df[\"SibSp\"].value_counts().plot(kind = \"bar\")"
   ]
  },
  {
   "cell_type": "code",
   "execution_count": 33,
   "id": "c8fecb21",
   "metadata": {
    "execution": {
     "iopub.execute_input": "2024-05-22T10:36:13.698755Z",
     "iopub.status.busy": "2024-05-22T10:36:13.698356Z",
     "iopub.status.idle": "2024-05-22T10:36:13.707344Z",
     "shell.execute_reply": "2024-05-22T10:36:13.705962Z"
    },
    "papermill": {
     "duration": 0.054785,
     "end_time": "2024-05-22T10:36:13.709814",
     "exception": false,
     "start_time": "2024-05-22T10:36:13.655029",
     "status": "completed"
    },
    "tags": []
   },
   "outputs": [
    {
     "data": {
      "text/plain": [
       "0"
      ]
     },
     "execution_count": 33,
     "metadata": {},
     "output_type": "execute_result"
    }
   ],
   "source": [
    "df[\"SibSp\"].isnull().sum()"
   ]
  },
  {
   "cell_type": "markdown",
   "id": "5dd62a04",
   "metadata": {
    "papermill": {
     "duration": 0.043432,
     "end_time": "2024-05-22T10:36:13.796087",
     "exception": false,
     "start_time": "2024-05-22T10:36:13.752655",
     "status": "completed"
    },
    "tags": []
   },
   "source": [
    "### Parch - Parents and children\n",
    "\n",
    "***Conclusions***\n",
    "\n",
    "- most passengers are travelling alone\n",
    "- Parch and SibSp can be merged together to form a new columns called \"family_size\"\n",
    "- We can also create a new column for people who are travelling alone to get more insights"
   ]
  },
  {
   "cell_type": "code",
   "execution_count": 34,
   "id": "9570a416",
   "metadata": {
    "execution": {
     "iopub.execute_input": "2024-05-22T10:36:13.883109Z",
     "iopub.status.busy": "2024-05-22T10:36:13.882691Z",
     "iopub.status.idle": "2024-05-22T10:36:13.892316Z",
     "shell.execute_reply": "2024-05-22T10:36:13.891137Z"
    },
    "papermill": {
     "duration": 0.055347,
     "end_time": "2024-05-22T10:36:13.895014",
     "exception": false,
     "start_time": "2024-05-22T10:36:13.839667",
     "status": "completed"
    },
    "tags": []
   },
   "outputs": [
    {
     "data": {
      "text/plain": [
       "Parch\n",
       "0    678\n",
       "1    118\n",
       "2     80\n",
       "5      5\n",
       "3      5\n",
       "4      4\n",
       "6      1\n",
       "Name: count, dtype: int64"
      ]
     },
     "execution_count": 34,
     "metadata": {},
     "output_type": "execute_result"
    }
   ],
   "source": [
    "df[\"Parch\"].value_counts()"
   ]
  },
  {
   "cell_type": "code",
   "execution_count": 35,
   "id": "36309f33",
   "metadata": {
    "execution": {
     "iopub.execute_input": "2024-05-22T10:36:13.984667Z",
     "iopub.status.busy": "2024-05-22T10:36:13.984280Z",
     "iopub.status.idle": "2024-05-22T10:36:14.277669Z",
     "shell.execute_reply": "2024-05-22T10:36:14.276242Z"
    },
    "papermill": {
     "duration": 0.339623,
     "end_time": "2024-05-22T10:36:14.280388",
     "exception": false,
     "start_time": "2024-05-22T10:36:13.940765",
     "status": "completed"
    },
    "tags": []
   },
   "outputs": [
    {
     "data": {
      "text/plain": [
       "<Axes: xlabel='Parch'>"
      ]
     },
     "execution_count": 35,
     "metadata": {},
     "output_type": "execute_result"
    },
    {
     "data": {
      "image/png": "[encoded data removed]",
      "text/plain": [
       "<Figure size 640x480 with 1 Axes>"
      ]
     },
     "metadata": {},
     "output_type": "display_data"
    }
   ],
   "source": [
    "df[\"Parch\"].value_counts().plot(kind = \"bar\")"
   ]
  },
  {
   "cell_type": "code",
   "execution_count": 36,
   "id": "047898d9",
   "metadata": {
    "execution": {
     "iopub.execute_input": "2024-05-22T10:36:14.368900Z",
     "iopub.status.busy": "2024-05-22T10:36:14.368522Z",
     "iopub.status.idle": "2024-05-22T10:36:14.376913Z",
     "shell.execute_reply": "2024-05-22T10:36:14.375574Z"
    },
    "papermill": {
     "duration": 0.055176,
     "end_time": "2024-05-22T10:36:14.379976",
     "exception": false,
     "start_time": "2024-05-22T10:36:14.324800",
     "status": "completed"
    },
    "tags": []
   },
   "outputs": [
    {
     "data": {
      "text/plain": [
       "0"
      ]
     },
     "execution_count": 36,
     "metadata": {},
     "output_type": "execute_result"
    }
   ],
   "source": [
    "df[\"Parch\"].isnull().sum()"
   ]
  },
  {
   "cell_type": "markdown",
   "id": "9254f73d",
   "metadata": {
    "papermill": {
     "duration": 0.0433,
     "end_time": "2024-05-22T10:36:14.466587",
     "exception": false,
     "start_time": "2024-05-22T10:36:14.423287",
     "status": "completed"
    },
    "tags": []
   },
   "source": [
    "### Embarked\n",
    "\n",
    "* S - South Hampton (the beginning of the voyage)\n",
    "* C - Cherbourg\n",
    "* Q - Queenstown (last stop before the accident)\n",
    "\n",
    "***Conclusions***\n",
    "\n",
    "- most passengers are travelling alone\n",
    "- Parch and SibSp can be merged together to form a new columns called \"family_size\"\n",
    "- We can also create a new column for people who are travelling alone to get more insights"
   ]
  },
  {
   "cell_type": "code",
   "execution_count": 37,
   "id": "18114494",
   "metadata": {
    "execution": {
     "iopub.execute_input": "2024-05-22T10:36:14.556959Z",
     "iopub.status.busy": "2024-05-22T10:36:14.556586Z",
     "iopub.status.idle": "2024-05-22T10:36:14.566842Z",
     "shell.execute_reply": "2024-05-22T10:36:14.565121Z"
    },
    "papermill": {
     "duration": 0.058104,
     "end_time": "2024-05-22T10:36:14.569653",
     "exception": false,
     "start_time": "2024-05-22T10:36:14.511549",
     "status": "completed"
    },
    "tags": []
   },
   "outputs": [
    {
     "data": {
      "text/plain": [
       "Embarked\n",
       "S    644\n",
       "C    168\n",
       "Q     77\n",
       "Name: count, dtype: int64"
      ]
     },
     "execution_count": 37,
     "metadata": {},
     "output_type": "execute_result"
    }
   ],
   "source": [
    "df['Embarked'].value_counts()"
   ]
  },
  {
   "cell_type": "markdown",
   "id": "f75f0e0b",
   "metadata": {
    "papermill": {
     "duration": 0.044033,
     "end_time": "2024-05-22T10:36:14.655888",
     "exception": false,
     "start_time": "2024-05-22T10:36:14.611855",
     "status": "completed"
    },
    "tags": []
   },
   "source": [
    "*Most passengers aboarded the ship at the first stop*"
   ]
  },
  {
   "cell_type": "code",
   "execution_count": 38,
   "id": "012f7fbf",
   "metadata": {
    "execution": {
     "iopub.execute_input": "2024-05-22T10:36:14.744296Z",
     "iopub.status.busy": "2024-05-22T10:36:14.743858Z",
     "iopub.status.idle": "2024-05-22T10:36:14.991710Z",
     "shell.execute_reply": "2024-05-22T10:36:14.990102Z"
    },
    "papermill": {
     "duration": 0.295936,
     "end_time": "2024-05-22T10:36:14.994533",
     "exception": false,
     "start_time": "2024-05-22T10:36:14.698597",
     "status": "completed"
    },
    "tags": []
   },
   "outputs": [
    {
     "data": {
      "text/plain": [
       "<Axes: xlabel='Embarked'>"
      ]
     },
     "execution_count": 38,
     "metadata": {},
     "output_type": "execute_result"
    },
    {
     "data": {
      "image/png": "[encoded data removed]",
      "text/plain": [
       "<Figure size 640x480 with 1 Axes>"
      ]
     },
     "metadata": {},
     "output_type": "display_data"
    }
   ],
   "source": [
    "df['Embarked'].value_counts().plot(kind = \"bar\")"
   ]
  },
  {
   "cell_type": "code",
   "execution_count": 39,
   "id": "3610dca2",
   "metadata": {
    "execution": {
     "iopub.execute_input": "2024-05-22T10:36:15.081995Z",
     "iopub.status.busy": "2024-05-22T10:36:15.081158Z",
     "iopub.status.idle": "2024-05-22T10:36:15.233898Z",
     "shell.execute_reply": "2024-05-22T10:36:15.232289Z"
    },
    "papermill": {
     "duration": 0.201473,
     "end_time": "2024-05-22T10:36:15.238095",
     "exception": false,
     "start_time": "2024-05-22T10:36:15.036622",
     "status": "completed"
    },
    "tags": []
   },
   "outputs": [
    {
     "data": {
      "text/plain": [
       "<Axes: ylabel='count'>"
      ]
     },
     "execution_count": 39,
     "metadata": {},
     "output_type": "execute_result"
    },
    {
     "data": {
      "image/png": "[encoded data removed]",
      "text/plain": [
       "<Figure size 640x480 with 1 Axes>"
      ]
     },
     "metadata": {},
     "output_type": "display_data"
    }
   ],
   "source": [
    "df['Embarked'].value_counts().plot(kind = \"pie\", autopct = \"%0.1f%%\")"
   ]
  },
  {
   "cell_type": "markdown",
   "id": "f1bd42c7",
   "metadata": {
    "papermill": {
     "duration": 0.045196,
     "end_time": "2024-05-22T10:36:15.356578",
     "exception": false,
     "start_time": "2024-05-22T10:36:15.311382",
     "status": "completed"
    },
    "tags": []
   },
   "source": [
    "# Bivariate Analysis "
   ]
  },
  {
   "cell_type": "markdown",
   "id": "824688b0",
   "metadata": {
    "papermill": {
     "duration": 0.043508,
     "end_time": "2024-05-22T10:36:15.443856",
     "exception": false,
     "start_time": "2024-05-22T10:36:15.400348",
     "status": "completed"
    },
    "tags": []
   },
   "source": [
    "### Survived vs Pclass (cat vs cat)\n",
    "\n",
    "***Conclusions***\n",
    "\n",
    "- Safest class was the first class \n",
    "- The most dangerous class was the third class"
   ]
  },
  {
   "cell_type": "code",
   "execution_count": 40,
   "id": "555155ed",
   "metadata": {
    "execution": {
     "iopub.execute_input": "2024-05-22T10:36:15.534281Z",
     "iopub.status.busy": "2024-05-22T10:36:15.533147Z",
     "iopub.status.idle": "2024-05-22T10:36:15.560617Z",
     "shell.execute_reply": "2024-05-22T10:36:15.559491Z"
    },
    "papermill": {
     "duration": 0.074884,
     "end_time": "2024-05-22T10:36:15.563076",
     "exception": false,
     "start_time": "2024-05-22T10:36:15.488192",
     "status": "completed"
    },
    "tags": []
   },
   "outputs": [
    {
     "data": {
      "text/html": [
       "<div>\n",
       "<style scoped>\n",
       "    .dataframe tbody tr th:only-of-type {\n",
       "        vertical-align: middle;\n",
       "    }\n",
       "\n",
       "    .dataframe tbody tr th {\n",
       "        vertical-align: top;\n",
       "    }\n",
       "\n",
       "    .dataframe thead th {\n",
       "        text-align: right;\n",
       "    }\n",
       "</style>\n",
       "<table border=\"1\" class=\"dataframe\">\n",
       "  <thead>\n",
       "    <tr style=\"text-align: right;\">\n",
       "      <th>Pclass</th>\n",
       "      <th>1</th>\n",
       "      <th>2</th>\n",
       "      <th>3</th>\n",
       "    </tr>\n",
       "    <tr>\n",
       "      <th>Survived</th>\n",
       "      <th></th>\n",
       "      <th></th>\n",
       "      <th></th>\n",
       "    </tr>\n",
       "  </thead>\n",
       "  <tbody>\n",
       "    <tr>\n",
       "      <th>0</th>\n",
       "      <td>80</td>\n",
       "      <td>97</td>\n",
       "      <td>372</td>\n",
       "    </tr>\n",
       "    <tr>\n",
       "      <th>1</th>\n",
       "      <td>136</td>\n",
       "      <td>87</td>\n",
       "      <td>119</td>\n",
       "    </tr>\n",
       "  </tbody>\n",
       "</table>\n",
       "</div>"
      ],
      "text/plain": [
       "Pclass      1   2    3\n",
       "Survived              \n",
       "0          80  97  372\n",
       "1         136  87  119"
      ]
     },
     "execution_count": 40,
     "metadata": {},
     "output_type": "execute_result"
    }
   ],
   "source": [
    "#Contingency table\n",
    "\n",
    "pd.crosstab(df[\"Survived\"], df['Pclass'])"
   ]
  },
  {
   "cell_type": "markdown",
   "id": "4de57071",
   "metadata": {
    "papermill": {
     "duration": 0.045675,
     "end_time": "2024-05-22T10:36:15.653705",
     "exception": false,
     "start_time": "2024-05-22T10:36:15.608030",
     "status": "completed"
    },
    "tags": []
   },
   "source": [
    "*Most people who died belonged to the third class*"
   ]
  },
  {
   "cell_type": "code",
   "execution_count": 41,
   "id": "c3826398",
   "metadata": {
    "execution": {
     "iopub.execute_input": "2024-05-22T10:36:15.744746Z",
     "iopub.status.busy": "2024-05-22T10:36:15.743519Z",
     "iopub.status.idle": "2024-05-22T10:36:15.764123Z",
     "shell.execute_reply": "2024-05-22T10:36:15.762938Z"
    },
    "papermill": {
     "duration": 0.069474,
     "end_time": "2024-05-22T10:36:15.766872",
     "exception": false,
     "start_time": "2024-05-22T10:36:15.697398",
     "status": "completed"
    },
    "tags": []
   },
   "outputs": [
    {
     "data": {
      "text/html": [
       "<div>\n",
       "<style scoped>\n",
       "    .dataframe tbody tr th:only-of-type {\n",
       "        vertical-align: middle;\n",
       "    }\n",
       "\n",
       "    .dataframe tbody tr th {\n",
       "        vertical-align: top;\n",
       "    }\n",
       "\n",
       "    .dataframe thead th {\n",
       "        text-align: right;\n",
       "    }\n",
       "</style>\n",
       "<table border=\"1\" class=\"dataframe\">\n",
       "  <thead>\n",
       "    <tr style=\"text-align: right;\">\n",
       "      <th>Pclass</th>\n",
       "      <th>1</th>\n",
       "      <th>2</th>\n",
       "      <th>3</th>\n",
       "    </tr>\n",
       "    <tr>\n",
       "      <th>Survived</th>\n",
       "      <th></th>\n",
       "      <th></th>\n",
       "      <th></th>\n",
       "    </tr>\n",
       "  </thead>\n",
       "  <tbody>\n",
       "    <tr>\n",
       "      <th>0</th>\n",
       "      <td>37.037037</td>\n",
       "      <td>52.717391</td>\n",
       "      <td>75.763747</td>\n",
       "    </tr>\n",
       "    <tr>\n",
       "      <th>1</th>\n",
       "      <td>62.962963</td>\n",
       "      <td>47.282609</td>\n",
       "      <td>24.236253</td>\n",
       "    </tr>\n",
       "  </tbody>\n",
       "</table>\n",
       "</div>"
      ],
      "text/plain": [
       "Pclass            1          2          3\n",
       "Survived                                 \n",
       "0         37.037037  52.717391  75.763747\n",
       "1         62.962963  47.282609  24.236253"
      ]
     },
     "execution_count": 41,
     "metadata": {},
     "output_type": "execute_result"
    }
   ],
   "source": [
    "#Contingency table in percentage\n",
    "\n",
    "pd.crosstab(df[\"Survived\"], df['Pclass'], normalize = \"columns\")*100"
   ]
  },
  {
   "cell_type": "code",
   "execution_count": 42,
   "id": "4a73ca9a",
   "metadata": {
    "execution": {
     "iopub.execute_input": "2024-05-22T10:36:15.860327Z",
     "iopub.status.busy": "2024-05-22T10:36:15.859182Z",
     "iopub.status.idle": "2024-05-22T10:36:16.184923Z",
     "shell.execute_reply": "2024-05-22T10:36:16.183871Z"
    },
    "papermill": {
     "duration": 0.374222,
     "end_time": "2024-05-22T10:36:16.187582",
     "exception": false,
     "start_time": "2024-05-22T10:36:15.813360",
     "status": "completed"
    },
    "tags": []
   },
   "outputs": [
    {
     "data": {
      "text/plain": [
       "<Axes: xlabel='Pclass', ylabel='Survived'>"
      ]
     },
     "execution_count": 42,
     "metadata": {},
     "output_type": "execute_result"
    },
    {
     "data": {
      "image/png": "[encoded data removed]",
      "text/plain": [
       "<Figure size 640x480 with 2 Axes>"
      ]
     },
     "metadata": {},
     "output_type": "display_data"
    }
   ],
   "source": [
    "#Visualizing the contingency table\n",
    "\n",
    "sns.heatmap(pd.crosstab(df[\"Survived\"], df['Pclass'], normalize = \"columns\")*100)"
   ]
  },
  {
   "cell_type": "markdown",
   "id": "6a6f7818",
   "metadata": {
    "papermill": {
     "duration": 0.043191,
     "end_time": "2024-05-22T10:36:16.275771",
     "exception": false,
     "start_time": "2024-05-22T10:36:16.232580",
     "status": "completed"
    },
    "tags": []
   },
   "source": [
    "### Survived vs Sex (cat vs cat)\n",
    "\n",
    "***Conclusions***\n",
    "\n",
    "- Females were given more priority than males as only 25% of the female passengers died as compared to the males (81%)"
   ]
  },
  {
   "cell_type": "code",
   "execution_count": 43,
   "id": "285abdf5",
   "metadata": {
    "execution": {
     "iopub.execute_input": "2024-05-22T10:36:16.367405Z",
     "iopub.status.busy": "2024-05-22T10:36:16.366140Z",
     "iopub.status.idle": "2024-05-22T10:36:16.388921Z",
     "shell.execute_reply": "2024-05-22T10:36:16.387771Z"
    },
    "papermill": {
     "duration": 0.071055,
     "end_time": "2024-05-22T10:36:16.391921",
     "exception": false,
     "start_time": "2024-05-22T10:36:16.320866",
     "status": "completed"
    },
    "tags": []
   },
   "outputs": [
    {
     "data": {
      "text/html": [
       "<div>\n",
       "<style scoped>\n",
       "    .dataframe tbody tr th:only-of-type {\n",
       "        vertical-align: middle;\n",
       "    }\n",
       "\n",
       "    .dataframe tbody tr th {\n",
       "        vertical-align: top;\n",
       "    }\n",
       "\n",
       "    .dataframe thead th {\n",
       "        text-align: right;\n",
       "    }\n",
       "</style>\n",
       "<table border=\"1\" class=\"dataframe\">\n",
       "  <thead>\n",
       "    <tr style=\"text-align: right;\">\n",
       "      <th>Sex</th>\n",
       "      <th>female</th>\n",
       "      <th>male</th>\n",
       "    </tr>\n",
       "    <tr>\n",
       "      <th>Survived</th>\n",
       "      <th></th>\n",
       "      <th></th>\n",
       "    </tr>\n",
       "  </thead>\n",
       "  <tbody>\n",
       "    <tr>\n",
       "      <th>0</th>\n",
       "      <td>25.796178</td>\n",
       "      <td>81.109185</td>\n",
       "    </tr>\n",
       "    <tr>\n",
       "      <th>1</th>\n",
       "      <td>74.203822</td>\n",
       "      <td>18.890815</td>\n",
       "    </tr>\n",
       "  </tbody>\n",
       "</table>\n",
       "</div>"
      ],
      "text/plain": [
       "Sex          female       male\n",
       "Survived                      \n",
       "0         25.796178  81.109185\n",
       "1         74.203822  18.890815"
      ]
     },
     "execution_count": 43,
     "metadata": {},
     "output_type": "execute_result"
    }
   ],
   "source": [
    "pd.crosstab(df[\"Survived\"], df['Sex'], normalize = \"columns\")*100"
   ]
  },
  {
   "cell_type": "markdown",
   "id": "b7c12667",
   "metadata": {
    "papermill": {
     "duration": 0.046285,
     "end_time": "2024-05-22T10:36:16.482532",
     "exception": false,
     "start_time": "2024-05-22T10:36:16.436247",
     "status": "completed"
    },
    "tags": []
   },
   "source": [
    "*81% of the male passengers died*"
   ]
  },
  {
   "cell_type": "code",
   "execution_count": 44,
   "id": "70de5c6a",
   "metadata": {
    "execution": {
     "iopub.execute_input": "2024-05-22T10:36:16.579257Z",
     "iopub.status.busy": "2024-05-22T10:36:16.578847Z",
     "iopub.status.idle": "2024-05-22T10:36:16.903403Z",
     "shell.execute_reply": "2024-05-22T10:36:16.902217Z"
    },
    "papermill": {
     "duration": 0.376783,
     "end_time": "2024-05-22T10:36:16.906075",
     "exception": false,
     "start_time": "2024-05-22T10:36:16.529292",
     "status": "completed"
    },
    "tags": []
   },
   "outputs": [
    {
     "data": {
      "text/plain": [
       "<Axes: xlabel='Sex', ylabel='Survived'>"
      ]
     },
     "execution_count": 44,
     "metadata": {},
     "output_type": "execute_result"
    },
    {
     "data": {
      "image/png": "[encoded data removed]",
      "text/plain": [
       "<Figure size 640x480 with 2 Axes>"
      ]
     },
     "metadata": {},
     "output_type": "display_data"
    }
   ],
   "source": [
    "sns.heatmap(pd.crosstab(df[\"Survived\"], df['Sex'], normalize = \"columns\")*100)"
   ]
  },
  {
   "cell_type": "markdown",
   "id": "38ad22b2",
   "metadata": {
    "papermill": {
     "duration": 0.044912,
     "end_time": "2024-05-22T10:36:16.997775",
     "exception": false,
     "start_time": "2024-05-22T10:36:16.952863",
     "status": "completed"
    },
    "tags": []
   },
   "source": [
    "### Survived vs Embarked (cat vs cat)\n",
    "\n",
    "***Conclusions***\n",
    "\n",
    "- Weirdly, the port from which the passengers aboarded the ship has some relation to their death\n",
    "\n",
    "- Most of the passengers who survived, aboarded the ship at C, this is because most of them are from the first class (derivative conclusion)"
   ]
  },
  {
   "cell_type": "code",
   "execution_count": 45,
   "id": "bec50144",
   "metadata": {
    "execution": {
     "iopub.execute_input": "2024-05-22T10:36:17.092314Z",
     "iopub.status.busy": "2024-05-22T10:36:17.091889Z",
     "iopub.status.idle": "2024-05-22T10:36:17.112096Z",
     "shell.execute_reply": "2024-05-22T10:36:17.110732Z"
    },
    "papermill": {
     "duration": 0.071049,
     "end_time": "2024-05-22T10:36:17.114708",
     "exception": false,
     "start_time": "2024-05-22T10:36:17.043659",
     "status": "completed"
    },
    "tags": []
   },
   "outputs": [
    {
     "data": {
      "text/html": [
       "<div>\n",
       "<style scoped>\n",
       "    .dataframe tbody tr th:only-of-type {\n",
       "        vertical-align: middle;\n",
       "    }\n",
       "\n",
       "    .dataframe tbody tr th {\n",
       "        vertical-align: top;\n",
       "    }\n",
       "\n",
       "    .dataframe thead th {\n",
       "        text-align: right;\n",
       "    }\n",
       "</style>\n",
       "<table border=\"1\" class=\"dataframe\">\n",
       "  <thead>\n",
       "    <tr style=\"text-align: right;\">\n",
       "      <th>Embarked</th>\n",
       "      <th>C</th>\n",
       "      <th>Q</th>\n",
       "      <th>S</th>\n",
       "    </tr>\n",
       "    <tr>\n",
       "      <th>Survived</th>\n",
       "      <th></th>\n",
       "      <th></th>\n",
       "      <th></th>\n",
       "    </tr>\n",
       "  </thead>\n",
       "  <tbody>\n",
       "    <tr>\n",
       "      <th>0</th>\n",
       "      <td>44.642857</td>\n",
       "      <td>61.038961</td>\n",
       "      <td>66.304348</td>\n",
       "    </tr>\n",
       "    <tr>\n",
       "      <th>1</th>\n",
       "      <td>55.357143</td>\n",
       "      <td>38.961039</td>\n",
       "      <td>33.695652</td>\n",
       "    </tr>\n",
       "  </tbody>\n",
       "</table>\n",
       "</div>"
      ],
      "text/plain": [
       "Embarked          C          Q          S\n",
       "Survived                                 \n",
       "0         44.642857  61.038961  66.304348\n",
       "1         55.357143  38.961039  33.695652"
      ]
     },
     "execution_count": 45,
     "metadata": {},
     "output_type": "execute_result"
    }
   ],
   "source": [
    "pd.crosstab(df[\"Survived\"], df['Embarked'], normalize = \"columns\")*100"
   ]
  },
  {
   "cell_type": "markdown",
   "id": "a95240c3",
   "metadata": {
    "papermill": {
     "duration": 0.046546,
     "end_time": "2024-05-22T10:36:17.207423",
     "exception": false,
     "start_time": "2024-05-22T10:36:17.160877",
     "status": "completed"
    },
    "tags": []
   },
   "source": [
    "*Most of the passengers who died embarked from South Hampton*"
   ]
  },
  {
   "cell_type": "code",
   "execution_count": 46,
   "id": "fabe934e",
   "metadata": {
    "execution": {
     "iopub.execute_input": "2024-05-22T10:36:17.301547Z",
     "iopub.status.busy": "2024-05-22T10:36:17.300435Z",
     "iopub.status.idle": "2024-05-22T10:36:17.634653Z",
     "shell.execute_reply": "2024-05-22T10:36:17.632941Z"
    },
    "papermill": {
     "duration": 0.384227,
     "end_time": "2024-05-22T10:36:17.637208",
     "exception": false,
     "start_time": "2024-05-22T10:36:17.252981",
     "status": "completed"
    },
    "tags": []
   },
   "outputs": [
    {
     "data": {
      "text/plain": [
       "<Axes: xlabel='Embarked', ylabel='Survived'>"
      ]
     },
     "execution_count": 46,
     "metadata": {},
     "output_type": "execute_result"
    },
    {
     "data": {
      "image/png": "[encoded data removed]",
      "text/plain": [
       "<Figure size 640x480 with 2 Axes>"
      ]
     },
     "metadata": {},
     "output_type": "display_data"
    }
   ],
   "source": [
    "sns.heatmap(pd.crosstab(df[\"Survived\"], df['Embarked'], normalize = \"columns\")*100)"
   ]
  },
  {
   "cell_type": "code",
   "execution_count": 47,
   "id": "509aef5b",
   "metadata": {
    "execution": {
     "iopub.execute_input": "2024-05-22T10:36:17.731841Z",
     "iopub.status.busy": "2024-05-22T10:36:17.730673Z",
     "iopub.status.idle": "2024-05-22T10:36:17.751620Z",
     "shell.execute_reply": "2024-05-22T10:36:17.750720Z"
    },
    "papermill": {
     "duration": 0.070204,
     "end_time": "2024-05-22T10:36:17.753995",
     "exception": false,
     "start_time": "2024-05-22T10:36:17.683791",
     "status": "completed"
    },
    "tags": []
   },
   "outputs": [
    {
     "data": {
      "text/html": [
       "<div>\n",
       "<style scoped>\n",
       "    .dataframe tbody tr th:only-of-type {\n",
       "        vertical-align: middle;\n",
       "    }\n",
       "\n",
       "    .dataframe tbody tr th {\n",
       "        vertical-align: top;\n",
       "    }\n",
       "\n",
       "    .dataframe thead th {\n",
       "        text-align: right;\n",
       "    }\n",
       "</style>\n",
       "<table border=\"1\" class=\"dataframe\">\n",
       "  <thead>\n",
       "    <tr style=\"text-align: right;\">\n",
       "      <th>Embarked</th>\n",
       "      <th>C</th>\n",
       "      <th>Q</th>\n",
       "      <th>S</th>\n",
       "    </tr>\n",
       "    <tr>\n",
       "      <th>Sex</th>\n",
       "      <th></th>\n",
       "      <th></th>\n",
       "      <th></th>\n",
       "    </tr>\n",
       "  </thead>\n",
       "  <tbody>\n",
       "    <tr>\n",
       "      <th>female</th>\n",
       "      <td>43.452381</td>\n",
       "      <td>46.753247</td>\n",
       "      <td>31.521739</td>\n",
       "    </tr>\n",
       "    <tr>\n",
       "      <th>male</th>\n",
       "      <td>56.547619</td>\n",
       "      <td>53.246753</td>\n",
       "      <td>68.478261</td>\n",
       "    </tr>\n",
       "  </tbody>\n",
       "</table>\n",
       "</div>"
      ],
      "text/plain": [
       "Embarked          C          Q          S\n",
       "Sex                                      \n",
       "female    43.452381  46.753247  31.521739\n",
       "male      56.547619  53.246753  68.478261"
      ]
     },
     "execution_count": 47,
     "metadata": {},
     "output_type": "execute_result"
    }
   ],
   "source": [
    "pd.crosstab(df[\"Sex\"], df['Embarked'], normalize = \"columns\")*100"
   ]
  },
  {
   "cell_type": "markdown",
   "id": "bc21d680",
   "metadata": {
    "papermill": {
     "duration": 0.047229,
     "end_time": "2024-05-22T10:36:17.847031",
     "exception": false,
     "start_time": "2024-05-22T10:36:17.799802",
     "status": "completed"
    },
    "tags": []
   },
   "source": [
    "*Our assumption that most of the passengers from C are females is rejected here*"
   ]
  },
  {
   "cell_type": "code",
   "execution_count": 48,
   "id": "ee41832a",
   "metadata": {
    "execution": {
     "iopub.execute_input": "2024-05-22T10:36:17.943975Z",
     "iopub.status.busy": "2024-05-22T10:36:17.942636Z",
     "iopub.status.idle": "2024-05-22T10:36:17.963363Z",
     "shell.execute_reply": "2024-05-22T10:36:17.962425Z"
    },
    "papermill": {
     "duration": 0.072493,
     "end_time": "2024-05-22T10:36:17.965774",
     "exception": false,
     "start_time": "2024-05-22T10:36:17.893281",
     "status": "completed"
    },
    "tags": []
   },
   "outputs": [
    {
     "data": {
      "text/html": [
       "<div>\n",
       "<style scoped>\n",
       "    .dataframe tbody tr th:only-of-type {\n",
       "        vertical-align: middle;\n",
       "    }\n",
       "\n",
       "    .dataframe tbody tr th {\n",
       "        vertical-align: top;\n",
       "    }\n",
       "\n",
       "    .dataframe thead th {\n",
       "        text-align: right;\n",
       "    }\n",
       "</style>\n",
       "<table border=\"1\" class=\"dataframe\">\n",
       "  <thead>\n",
       "    <tr style=\"text-align: right;\">\n",
       "      <th>Embarked</th>\n",
       "      <th>C</th>\n",
       "      <th>Q</th>\n",
       "      <th>S</th>\n",
       "    </tr>\n",
       "    <tr>\n",
       "      <th>Pclass</th>\n",
       "      <th></th>\n",
       "      <th></th>\n",
       "      <th></th>\n",
       "    </tr>\n",
       "  </thead>\n",
       "  <tbody>\n",
       "    <tr>\n",
       "      <th>1</th>\n",
       "      <td>50.595238</td>\n",
       "      <td>2.597403</td>\n",
       "      <td>19.720497</td>\n",
       "    </tr>\n",
       "    <tr>\n",
       "      <th>2</th>\n",
       "      <td>10.119048</td>\n",
       "      <td>3.896104</td>\n",
       "      <td>25.465839</td>\n",
       "    </tr>\n",
       "    <tr>\n",
       "      <th>3</th>\n",
       "      <td>39.285714</td>\n",
       "      <td>93.506494</td>\n",
       "      <td>54.813665</td>\n",
       "    </tr>\n",
       "  </tbody>\n",
       "</table>\n",
       "</div>"
      ],
      "text/plain": [
       "Embarked          C          Q          S\n",
       "Pclass                                   \n",
       "1         50.595238   2.597403  19.720497\n",
       "2         10.119048   3.896104  25.465839\n",
       "3         39.285714  93.506494  54.813665"
      ]
     },
     "execution_count": 48,
     "metadata": {},
     "output_type": "execute_result"
    }
   ],
   "source": [
    "pd.crosstab(df[\"Pclass\"], df['Embarked'], normalize = \"columns\")*100"
   ]
  },
  {
   "cell_type": "markdown",
   "id": "00e6bc36",
   "metadata": {
    "papermill": {
     "duration": 0.047234,
     "end_time": "2024-05-22T10:36:18.060664",
     "exception": false,
     "start_time": "2024-05-22T10:36:18.013430",
     "status": "completed"
    },
    "tags": []
   },
   "source": [
    "*Clearly most of the passengers who aboarded the ship from C belong to the first class and hence are more likely to survive*"
   ]
  },
  {
   "cell_type": "markdown",
   "id": "0bec854c",
   "metadata": {
    "papermill": {
     "duration": 0.045872,
     "end_time": "2024-05-22T10:36:18.152779",
     "exception": false,
     "start_time": "2024-05-22T10:36:18.106907",
     "status": "completed"
    },
    "tags": []
   },
   "source": [
    "### Survived vs Age (cat vs numerical)\n",
    "\n",
    "***Conclusions***\n",
    "\n",
    "- Age is a very important variable \n",
    "- Children are more likely to survive whereas older people are more likely to die"
   ]
  },
  {
   "cell_type": "code",
   "execution_count": 49,
   "id": "bf4f5e1e",
   "metadata": {
    "execution": {
     "iopub.execute_input": "2024-05-22T10:36:18.246130Z",
     "iopub.status.busy": "2024-05-22T10:36:18.245282Z",
     "iopub.status.idle": "2024-05-22T10:36:18.801262Z",
     "shell.execute_reply": "2024-05-22T10:36:18.800133Z"
    },
    "papermill": {
     "duration": 0.605371,
     "end_time": "2024-05-22T10:36:18.803961",
     "exception": false,
     "start_time": "2024-05-22T10:36:18.198590",
     "status": "completed"
    },
    "tags": []
   },
   "outputs": [
    {
     "data": {
      "image/png": "[encoded data removed]",
      "text/plain": [
       "<Figure size 640x480 with 1 Axes>"
      ]
     },
     "metadata": {},
     "output_type": "display_data"
    }
   ],
   "source": [
    "df[df['Survived'] == 1][\"Age\"].plot(kind = 'kde', label = \"Survived\")   #passengers who survived\n",
    "\n",
    "df[df['Survived'] == 0][\"Age\"].plot(kind = 'kde', label = \"Not survived\")    #passengers who survived\n",
    "\n",
    "plt.legend()\n",
    "plt.show()"
   ]
  },
  {
   "cell_type": "markdown",
   "id": "96971cf0",
   "metadata": {
    "papermill": {
     "duration": 0.04756,
     "end_time": "2024-05-22T10:36:18.900692",
     "exception": false,
     "start_time": "2024-05-22T10:36:18.853132",
     "status": "completed"
    },
    "tags": []
   },
   "source": [
    "*Passengers of the age group 0-5 (children) are more likely to survive than die (blue curve is dominating)*\n",
    "\n",
    "*Passengers of the age group 60-80 (elders) are more likely to die than survive*"
   ]
  },
  {
   "cell_type": "markdown",
   "id": "ab24003c",
   "metadata": {
    "papermill": {
     "duration": 0.056485,
     "end_time": "2024-05-22T10:36:19.004953",
     "exception": false,
     "start_time": "2024-05-22T10:36:18.948468",
     "status": "completed"
    },
    "tags": []
   },
   "source": [
    "# Feature Engineering"
   ]
  },
  {
   "cell_type": "markdown",
   "id": "efd49839",
   "metadata": {
    "papermill": {
     "duration": 0.047585,
     "end_time": "2024-05-22T10:36:19.109255",
     "exception": false,
     "start_time": "2024-05-22T10:36:19.061670",
     "status": "completed"
    },
    "tags": []
   },
   "source": [
    "### Fare\n",
    "- Ideally, we should have individual fare"
   ]
  },
  {
   "cell_type": "code",
   "execution_count": 50,
   "id": "a73e5434",
   "metadata": {
    "execution": {
     "iopub.execute_input": "2024-05-22T10:36:19.206727Z",
     "iopub.status.busy": "2024-05-22T10:36:19.206344Z",
     "iopub.status.idle": "2024-05-22T10:36:19.217000Z",
     "shell.execute_reply": "2024-05-22T10:36:19.215567Z"
    },
    "papermill": {
     "duration": 0.061799,
     "end_time": "2024-05-22T10:36:19.219655",
     "exception": false,
     "start_time": "2024-05-22T10:36:19.157856",
     "status": "completed"
    },
    "tags": []
   },
   "outputs": [
    {
     "data": {
      "text/plain": [
       "SibSp\n",
       "0    608\n",
       "1    209\n",
       "2     28\n",
       "4     18\n",
       "3     16\n",
       "8      7\n",
       "5      5\n",
       "Name: count, dtype: int64"
      ]
     },
     "execution_count": 50,
     "metadata": {},
     "output_type": "execute_result"
    }
   ],
   "source": [
    "df['SibSp'].value_counts()"
   ]
  },
  {
   "cell_type": "markdown",
   "id": "fce145e2",
   "metadata": {
    "papermill": {
     "duration": 0.047235,
     "end_time": "2024-05-22T10:36:19.313675",
     "exception": false,
     "start_time": "2024-05-22T10:36:19.266440",
     "status": "completed"
    },
    "tags": []
   },
   "source": [
    "*We can take the family which is travelling with the most amount of people*"
   ]
  },
  {
   "cell_type": "code",
   "execution_count": 51,
   "id": "ecdd931d",
   "metadata": {
    "execution": {
     "iopub.execute_input": "2024-05-22T10:36:19.411019Z",
     "iopub.status.busy": "2024-05-22T10:36:19.410625Z",
     "iopub.status.idle": "2024-05-22T10:36:19.432489Z",
     "shell.execute_reply": "2024-05-22T10:36:19.430825Z"
    },
    "papermill": {
     "duration": 0.073882,
     "end_time": "2024-05-22T10:36:19.435093",
     "exception": false,
     "start_time": "2024-05-22T10:36:19.361211",
     "status": "completed"
    },
    "tags": []
   },
   "outputs": [
    {
     "data": {
      "text/html": [
       "<div>\n",
       "<style scoped>\n",
       "    .dataframe tbody tr th:only-of-type {\n",
       "        vertical-align: middle;\n",
       "    }\n",
       "\n",
       "    .dataframe tbody tr th {\n",
       "        vertical-align: top;\n",
       "    }\n",
       "\n",
       "    .dataframe thead th {\n",
       "        text-align: right;\n",
       "    }\n",
       "</style>\n",
       "<table border=\"1\" class=\"dataframe\">\n",
       "  <thead>\n",
       "    <tr style=\"text-align: right;\">\n",
       "      <th></th>\n",
       "      <th>PassengerId</th>\n",
       "      <th>Survived</th>\n",
       "      <th>Pclass</th>\n",
       "      <th>Name</th>\n",
       "      <th>Sex</th>\n",
       "      <th>Age</th>\n",
       "      <th>SibSp</th>\n",
       "      <th>Parch</th>\n",
       "      <th>Ticket</th>\n",
       "      <th>Fare</th>\n",
       "      <th>Cabin</th>\n",
       "      <th>Embarked</th>\n",
       "    </tr>\n",
       "  </thead>\n",
       "  <tbody>\n",
       "    <tr>\n",
       "      <th>159</th>\n",
       "      <td>160</td>\n",
       "      <td>0</td>\n",
       "      <td>3</td>\n",
       "      <td>Sage, Master. Thomas Henry</td>\n",
       "      <td>male</td>\n",
       "      <td>NaN</td>\n",
       "      <td>8</td>\n",
       "      <td>2</td>\n",
       "      <td>CA. 2343</td>\n",
       "      <td>69.55</td>\n",
       "      <td>NaN</td>\n",
       "      <td>S</td>\n",
       "    </tr>\n",
       "    <tr>\n",
       "      <th>180</th>\n",
       "      <td>181</td>\n",
       "      <td>0</td>\n",
       "      <td>3</td>\n",
       "      <td>Sage, Miss. Constance Gladys</td>\n",
       "      <td>female</td>\n",
       "      <td>NaN</td>\n",
       "      <td>8</td>\n",
       "      <td>2</td>\n",
       "      <td>CA. 2343</td>\n",
       "      <td>69.55</td>\n",
       "      <td>NaN</td>\n",
       "      <td>S</td>\n",
       "    </tr>\n",
       "    <tr>\n",
       "      <th>201</th>\n",
       "      <td>202</td>\n",
       "      <td>0</td>\n",
       "      <td>3</td>\n",
       "      <td>Sage, Mr. Frederick</td>\n",
       "      <td>male</td>\n",
       "      <td>NaN</td>\n",
       "      <td>8</td>\n",
       "      <td>2</td>\n",
       "      <td>CA. 2343</td>\n",
       "      <td>69.55</td>\n",
       "      <td>NaN</td>\n",
       "      <td>S</td>\n",
       "    </tr>\n",
       "    <tr>\n",
       "      <th>324</th>\n",
       "      <td>325</td>\n",
       "      <td>0</td>\n",
       "      <td>3</td>\n",
       "      <td>Sage, Mr. George John Jr</td>\n",
       "      <td>male</td>\n",
       "      <td>NaN</td>\n",
       "      <td>8</td>\n",
       "      <td>2</td>\n",
       "      <td>CA. 2343</td>\n",
       "      <td>69.55</td>\n",
       "      <td>NaN</td>\n",
       "      <td>S</td>\n",
       "    </tr>\n",
       "    <tr>\n",
       "      <th>792</th>\n",
       "      <td>793</td>\n",
       "      <td>0</td>\n",
       "      <td>3</td>\n",
       "      <td>Sage, Miss. Stella Anna</td>\n",
       "      <td>female</td>\n",
       "      <td>NaN</td>\n",
       "      <td>8</td>\n",
       "      <td>2</td>\n",
       "      <td>CA. 2343</td>\n",
       "      <td>69.55</td>\n",
       "      <td>NaN</td>\n",
       "      <td>S</td>\n",
       "    </tr>\n",
       "    <tr>\n",
       "      <th>846</th>\n",
       "      <td>847</td>\n",
       "      <td>0</td>\n",
       "      <td>3</td>\n",
       "      <td>Sage, Mr. Douglas Bullen</td>\n",
       "      <td>male</td>\n",
       "      <td>NaN</td>\n",
       "      <td>8</td>\n",
       "      <td>2</td>\n",
       "      <td>CA. 2343</td>\n",
       "      <td>69.55</td>\n",
       "      <td>NaN</td>\n",
       "      <td>S</td>\n",
       "    </tr>\n",
       "    <tr>\n",
       "      <th>863</th>\n",
       "      <td>864</td>\n",
       "      <td>0</td>\n",
       "      <td>3</td>\n",
       "      <td>Sage, Miss. Dorothy Edith \"Dolly\"</td>\n",
       "      <td>female</td>\n",
       "      <td>NaN</td>\n",
       "      <td>8</td>\n",
       "      <td>2</td>\n",
       "      <td>CA. 2343</td>\n",
       "      <td>69.55</td>\n",
       "      <td>NaN</td>\n",
       "      <td>S</td>\n",
       "    </tr>\n",
       "  </tbody>\n",
       "</table>\n",
       "</div>"
      ],
      "text/plain": [
       "     PassengerId  Survived  Pclass                               Name     Sex  \\\n",
       "159          160         0       3         Sage, Master. Thomas Henry    male   \n",
       "180          181         0       3       Sage, Miss. Constance Gladys  female   \n",
       "201          202         0       3                Sage, Mr. Frederick    male   \n",
       "324          325         0       3           Sage, Mr. George John Jr    male   \n",
       "792          793         0       3            Sage, Miss. Stella Anna  female   \n",
       "846          847         0       3           Sage, Mr. Douglas Bullen    male   \n",
       "863          864         0       3  Sage, Miss. Dorothy Edith \"Dolly\"  female   \n",
       "\n",
       "     Age  SibSp  Parch    Ticket   Fare Cabin Embarked  \n",
       "159  NaN      8      2  CA. 2343  69.55   NaN        S  \n",
       "180  NaN      8      2  CA. 2343  69.55   NaN        S  \n",
       "201  NaN      8      2  CA. 2343  69.55   NaN        S  \n",
       "324  NaN      8      2  CA. 2343  69.55   NaN        S  \n",
       "792  NaN      8      2  CA. 2343  69.55   NaN        S  \n",
       "846  NaN      8      2  CA. 2343  69.55   NaN        S  \n",
       "863  NaN      8      2  CA. 2343  69.55   NaN        S  "
      ]
     },
     "execution_count": 51,
     "metadata": {},
     "output_type": "execute_result"
    }
   ],
   "source": [
    "df[df['SibSp'] == 8]"
   ]
  },
  {
   "cell_type": "markdown",
   "id": "fdabad37",
   "metadata": {
    "papermill": {
     "duration": 0.048841,
     "end_time": "2024-05-22T10:36:19.531973",
     "exception": false,
     "start_time": "2024-05-22T10:36:19.483132",
     "status": "completed"
    },
    "tags": []
   },
   "source": [
    "*These individuals belong to the same family because their ticket no., Last name is the same*\n",
    "\n",
    "*There should be 11 members (8+2) but we have only 7 members. The rest of them should be in the test dataset or are missing*"
   ]
  },
  {
   "cell_type": "code",
   "execution_count": 52,
   "id": "f5a25f9d",
   "metadata": {
    "execution": {
     "iopub.execute_input": "2024-05-22T10:36:19.631962Z",
     "iopub.status.busy": "2024-05-22T10:36:19.631531Z",
     "iopub.status.idle": "2024-05-22T10:36:19.646997Z",
     "shell.execute_reply": "2024-05-22T10:36:19.646061Z"
    },
    "papermill": {
     "duration": 0.067896,
     "end_time": "2024-05-22T10:36:19.649623",
     "exception": false,
     "start_time": "2024-05-22T10:36:19.581727",
     "status": "completed"
    },
    "tags": []
   },
   "outputs": [],
   "source": [
    "df1 = pd.read_csv(\"/kaggle/input/titanic/test.csv\")"
   ]
  },
  {
   "cell_type": "code",
   "execution_count": 53,
   "id": "922a438b",
   "metadata": {
    "execution": {
     "iopub.execute_input": "2024-05-22T10:36:19.746629Z",
     "iopub.status.busy": "2024-05-22T10:36:19.746250Z",
     "iopub.status.idle": "2024-05-22T10:36:19.764328Z",
     "shell.execute_reply": "2024-05-22T10:36:19.763072Z"
    },
    "papermill": {
     "duration": 0.069015,
     "end_time": "2024-05-22T10:36:19.766556",
     "exception": false,
     "start_time": "2024-05-22T10:36:19.697541",
     "status": "completed"
    },
    "tags": []
   },
   "outputs": [
    {
     "data": {
      "text/html": [
       "<div>\n",
       "<style scoped>\n",
       "    .dataframe tbody tr th:only-of-type {\n",
       "        vertical-align: middle;\n",
       "    }\n",
       "\n",
       "    .dataframe tbody tr th {\n",
       "        vertical-align: top;\n",
       "    }\n",
       "\n",
       "    .dataframe thead th {\n",
       "        text-align: right;\n",
       "    }\n",
       "</style>\n",
       "<table border=\"1\" class=\"dataframe\">\n",
       "  <thead>\n",
       "    <tr style=\"text-align: right;\">\n",
       "      <th></th>\n",
       "      <th>PassengerId</th>\n",
       "      <th>Pclass</th>\n",
       "      <th>Name</th>\n",
       "      <th>Sex</th>\n",
       "      <th>Age</th>\n",
       "      <th>SibSp</th>\n",
       "      <th>Parch</th>\n",
       "      <th>Ticket</th>\n",
       "      <th>Fare</th>\n",
       "      <th>Cabin</th>\n",
       "      <th>Embarked</th>\n",
       "    </tr>\n",
       "  </thead>\n",
       "  <tbody>\n",
       "    <tr>\n",
       "      <th>188</th>\n",
       "      <td>1080</td>\n",
       "      <td>3</td>\n",
       "      <td>Sage, Miss. Ada</td>\n",
       "      <td>female</td>\n",
       "      <td>NaN</td>\n",
       "      <td>8</td>\n",
       "      <td>2</td>\n",
       "      <td>CA. 2343</td>\n",
       "      <td>69.55</td>\n",
       "      <td>NaN</td>\n",
       "      <td>S</td>\n",
       "    </tr>\n",
       "    <tr>\n",
       "      <th>342</th>\n",
       "      <td>1234</td>\n",
       "      <td>3</td>\n",
       "      <td>Sage, Mr. John George</td>\n",
       "      <td>male</td>\n",
       "      <td>NaN</td>\n",
       "      <td>1</td>\n",
       "      <td>9</td>\n",
       "      <td>CA. 2343</td>\n",
       "      <td>69.55</td>\n",
       "      <td>NaN</td>\n",
       "      <td>S</td>\n",
       "    </tr>\n",
       "    <tr>\n",
       "      <th>360</th>\n",
       "      <td>1252</td>\n",
       "      <td>3</td>\n",
       "      <td>Sage, Master. William Henry</td>\n",
       "      <td>male</td>\n",
       "      <td>14.5</td>\n",
       "      <td>8</td>\n",
       "      <td>2</td>\n",
       "      <td>CA. 2343</td>\n",
       "      <td>69.55</td>\n",
       "      <td>NaN</td>\n",
       "      <td>S</td>\n",
       "    </tr>\n",
       "    <tr>\n",
       "      <th>365</th>\n",
       "      <td>1257</td>\n",
       "      <td>3</td>\n",
       "      <td>Sage, Mrs. John (Annie Bullen)</td>\n",
       "      <td>female</td>\n",
       "      <td>NaN</td>\n",
       "      <td>1</td>\n",
       "      <td>9</td>\n",
       "      <td>CA. 2343</td>\n",
       "      <td>69.55</td>\n",
       "      <td>NaN</td>\n",
       "      <td>S</td>\n",
       "    </tr>\n",
       "  </tbody>\n",
       "</table>\n",
       "</div>"
      ],
      "text/plain": [
       "     PassengerId  Pclass                            Name     Sex   Age  SibSp  \\\n",
       "188         1080       3                 Sage, Miss. Ada  female   NaN      8   \n",
       "342         1234       3           Sage, Mr. John George    male   NaN      1   \n",
       "360         1252       3     Sage, Master. William Henry    male  14.5      8   \n",
       "365         1257       3  Sage, Mrs. John (Annie Bullen)  female   NaN      1   \n",
       "\n",
       "     Parch    Ticket   Fare Cabin Embarked  \n",
       "188      2  CA. 2343  69.55   NaN        S  \n",
       "342      9  CA. 2343  69.55   NaN        S  \n",
       "360      2  CA. 2343  69.55   NaN        S  \n",
       "365      9  CA. 2343  69.55   NaN        S  "
      ]
     },
     "execution_count": 53,
     "metadata": {},
     "output_type": "execute_result"
    }
   ],
   "source": [
    "df1[df1['Ticket'] == \"CA. 2343\"]"
   ]
  },
  {
   "cell_type": "code",
   "execution_count": 54,
   "id": "721768ce",
   "metadata": {
    "execution": {
     "iopub.execute_input": "2024-05-22T10:36:19.866353Z",
     "iopub.status.busy": "2024-05-22T10:36:19.865329Z",
     "iopub.status.idle": "2024-05-22T10:36:19.872393Z",
     "shell.execute_reply": "2024-05-22T10:36:19.871457Z"
    },
    "papermill": {
     "duration": 0.05998,
     "end_time": "2024-05-22T10:36:19.874972",
     "exception": false,
     "start_time": "2024-05-22T10:36:19.814992",
     "status": "completed"
    },
    "tags": []
   },
   "outputs": [],
   "source": [
    "#combining test and train data\n",
    "\n",
    "df = pd.concat([df,df1])"
   ]
  },
  {
   "cell_type": "code",
   "execution_count": 55,
   "id": "e935e584",
   "metadata": {
    "execution": {
     "iopub.execute_input": "2024-05-22T10:36:19.975549Z",
     "iopub.status.busy": "2024-05-22T10:36:19.974676Z",
     "iopub.status.idle": "2024-05-22T10:36:19.997646Z",
     "shell.execute_reply": "2024-05-22T10:36:19.996727Z"
    },
    "papermill": {
     "duration": 0.075734,
     "end_time": "2024-05-22T10:36:20.000314",
     "exception": false,
     "start_time": "2024-05-22T10:36:19.924580",
     "status": "completed"
    },
    "tags": []
   },
   "outputs": [
    {
     "data": {
      "text/html": [
       "<div>\n",
       "<style scoped>\n",
       "    .dataframe tbody tr th:only-of-type {\n",
       "        vertical-align: middle;\n",
       "    }\n",
       "\n",
       "    .dataframe tbody tr th {\n",
       "        vertical-align: top;\n",
       "    }\n",
       "\n",
       "    .dataframe thead th {\n",
       "        text-align: right;\n",
       "    }\n",
       "</style>\n",
       "<table border=\"1\" class=\"dataframe\">\n",
       "  <thead>\n",
       "    <tr style=\"text-align: right;\">\n",
       "      <th></th>\n",
       "      <th>PassengerId</th>\n",
       "      <th>Survived</th>\n",
       "      <th>Pclass</th>\n",
       "      <th>Name</th>\n",
       "      <th>Sex</th>\n",
       "      <th>Age</th>\n",
       "      <th>SibSp</th>\n",
       "      <th>Parch</th>\n",
       "      <th>Ticket</th>\n",
       "      <th>Fare</th>\n",
       "      <th>Cabin</th>\n",
       "      <th>Embarked</th>\n",
       "    </tr>\n",
       "  </thead>\n",
       "  <tbody>\n",
       "    <tr>\n",
       "      <th>159</th>\n",
       "      <td>160</td>\n",
       "      <td>0.0</td>\n",
       "      <td>3</td>\n",
       "      <td>Sage, Master. Thomas Henry</td>\n",
       "      <td>male</td>\n",
       "      <td>NaN</td>\n",
       "      <td>8</td>\n",
       "      <td>2</td>\n",
       "      <td>CA. 2343</td>\n",
       "      <td>69.55</td>\n",
       "      <td>NaN</td>\n",
       "      <td>S</td>\n",
       "    </tr>\n",
       "    <tr>\n",
       "      <th>180</th>\n",
       "      <td>181</td>\n",
       "      <td>0.0</td>\n",
       "      <td>3</td>\n",
       "      <td>Sage, Miss. Constance Gladys</td>\n",
       "      <td>female</td>\n",
       "      <td>NaN</td>\n",
       "      <td>8</td>\n",
       "      <td>2</td>\n",
       "      <td>CA. 2343</td>\n",
       "      <td>69.55</td>\n",
       "      <td>NaN</td>\n",
       "      <td>S</td>\n",
       "    </tr>\n",
       "    <tr>\n",
       "      <th>201</th>\n",
       "      <td>202</td>\n",
       "      <td>0.0</td>\n",
       "      <td>3</td>\n",
       "      <td>Sage, Mr. Frederick</td>\n",
       "      <td>male</td>\n",
       "      <td>NaN</td>\n",
       "      <td>8</td>\n",
       "      <td>2</td>\n",
       "      <td>CA. 2343</td>\n",
       "      <td>69.55</td>\n",
       "      <td>NaN</td>\n",
       "      <td>S</td>\n",
       "    </tr>\n",
       "    <tr>\n",
       "      <th>324</th>\n",
       "      <td>325</td>\n",
       "      <td>0.0</td>\n",
       "      <td>3</td>\n",
       "      <td>Sage, Mr. George John Jr</td>\n",
       "      <td>male</td>\n",
       "      <td>NaN</td>\n",
       "      <td>8</td>\n",
       "      <td>2</td>\n",
       "      <td>CA. 2343</td>\n",
       "      <td>69.55</td>\n",
       "      <td>NaN</td>\n",
       "      <td>S</td>\n",
       "    </tr>\n",
       "    <tr>\n",
       "      <th>792</th>\n",
       "      <td>793</td>\n",
       "      <td>0.0</td>\n",
       "      <td>3</td>\n",
       "      <td>Sage, Miss. Stella Anna</td>\n",
       "      <td>female</td>\n",
       "      <td>NaN</td>\n",
       "      <td>8</td>\n",
       "      <td>2</td>\n",
       "      <td>CA. 2343</td>\n",
       "      <td>69.55</td>\n",
       "      <td>NaN</td>\n",
       "      <td>S</td>\n",
       "    </tr>\n",
       "    <tr>\n",
       "      <th>846</th>\n",
       "      <td>847</td>\n",
       "      <td>0.0</td>\n",
       "      <td>3</td>\n",
       "      <td>Sage, Mr. Douglas Bullen</td>\n",
       "      <td>male</td>\n",
       "      <td>NaN</td>\n",
       "      <td>8</td>\n",
       "      <td>2</td>\n",
       "      <td>CA. 2343</td>\n",
       "      <td>69.55</td>\n",
       "      <td>NaN</td>\n",
       "      <td>S</td>\n",
       "    </tr>\n",
       "    <tr>\n",
       "      <th>863</th>\n",
       "      <td>864</td>\n",
       "      <td>0.0</td>\n",
       "      <td>3</td>\n",
       "      <td>Sage, Miss. Dorothy Edith \"Dolly\"</td>\n",
       "      <td>female</td>\n",
       "      <td>NaN</td>\n",
       "      <td>8</td>\n",
       "      <td>2</td>\n",
       "      <td>CA. 2343</td>\n",
       "      <td>69.55</td>\n",
       "      <td>NaN</td>\n",
       "      <td>S</td>\n",
       "    </tr>\n",
       "    <tr>\n",
       "      <th>188</th>\n",
       "      <td>1080</td>\n",
       "      <td>NaN</td>\n",
       "      <td>3</td>\n",
       "      <td>Sage, Miss. Ada</td>\n",
       "      <td>female</td>\n",
       "      <td>NaN</td>\n",
       "      <td>8</td>\n",
       "      <td>2</td>\n",
       "      <td>CA. 2343</td>\n",
       "      <td>69.55</td>\n",
       "      <td>NaN</td>\n",
       "      <td>S</td>\n",
       "    </tr>\n",
       "    <tr>\n",
       "      <th>342</th>\n",
       "      <td>1234</td>\n",
       "      <td>NaN</td>\n",
       "      <td>3</td>\n",
       "      <td>Sage, Mr. John George</td>\n",
       "      <td>male</td>\n",
       "      <td>NaN</td>\n",
       "      <td>1</td>\n",
       "      <td>9</td>\n",
       "      <td>CA. 2343</td>\n",
       "      <td>69.55</td>\n",
       "      <td>NaN</td>\n",
       "      <td>S</td>\n",
       "    </tr>\n",
       "    <tr>\n",
       "      <th>360</th>\n",
       "      <td>1252</td>\n",
       "      <td>NaN</td>\n",
       "      <td>3</td>\n",
       "      <td>Sage, Master. William Henry</td>\n",
       "      <td>male</td>\n",
       "      <td>14.5</td>\n",
       "      <td>8</td>\n",
       "      <td>2</td>\n",
       "      <td>CA. 2343</td>\n",
       "      <td>69.55</td>\n",
       "      <td>NaN</td>\n",
       "      <td>S</td>\n",
       "    </tr>\n",
       "    <tr>\n",
       "      <th>365</th>\n",
       "      <td>1257</td>\n",
       "      <td>NaN</td>\n",
       "      <td>3</td>\n",
       "      <td>Sage, Mrs. John (Annie Bullen)</td>\n",
       "      <td>female</td>\n",
       "      <td>NaN</td>\n",
       "      <td>1</td>\n",
       "      <td>9</td>\n",
       "      <td>CA. 2343</td>\n",
       "      <td>69.55</td>\n",
       "      <td>NaN</td>\n",
       "      <td>S</td>\n",
       "    </tr>\n",
       "  </tbody>\n",
       "</table>\n",
       "</div>"
      ],
      "text/plain": [
       "     PassengerId  Survived  Pclass                               Name     Sex  \\\n",
       "159          160       0.0       3         Sage, Master. Thomas Henry    male   \n",
       "180          181       0.0       3       Sage, Miss. Constance Gladys  female   \n",
       "201          202       0.0       3                Sage, Mr. Frederick    male   \n",
       "324          325       0.0       3           Sage, Mr. George John Jr    male   \n",
       "792          793       0.0       3            Sage, Miss. Stella Anna  female   \n",
       "846          847       0.0       3           Sage, Mr. Douglas Bullen    male   \n",
       "863          864       0.0       3  Sage, Miss. Dorothy Edith \"Dolly\"  female   \n",
       "188         1080       NaN       3                    Sage, Miss. Ada  female   \n",
       "342         1234       NaN       3              Sage, Mr. John George    male   \n",
       "360         1252       NaN       3        Sage, Master. William Henry    male   \n",
       "365         1257       NaN       3     Sage, Mrs. John (Annie Bullen)  female   \n",
       "\n",
       "      Age  SibSp  Parch    Ticket   Fare Cabin Embarked  \n",
       "159   NaN      8      2  CA. 2343  69.55   NaN        S  \n",
       "180   NaN      8      2  CA. 2343  69.55   NaN        S  \n",
       "201   NaN      8      2  CA. 2343  69.55   NaN        S  \n",
       "324   NaN      8      2  CA. 2343  69.55   NaN        S  \n",
       "792   NaN      8      2  CA. 2343  69.55   NaN        S  \n",
       "846   NaN      8      2  CA. 2343  69.55   NaN        S  \n",
       "863   NaN      8      2  CA. 2343  69.55   NaN        S  \n",
       "188   NaN      8      2  CA. 2343  69.55   NaN        S  \n",
       "342   NaN      1      9  CA. 2343  69.55   NaN        S  \n",
       "360  14.5      8      2  CA. 2343  69.55   NaN        S  \n",
       "365   NaN      1      9  CA. 2343  69.55   NaN        S  "
      ]
     },
     "execution_count": 55,
     "metadata": {},
     "output_type": "execute_result"
    }
   ],
   "source": [
    "df[df['Ticket'] == \"CA. 2343\"]"
   ]
  },
  {
   "cell_type": "code",
   "execution_count": 56,
   "id": "70f9bcf5",
   "metadata": {
    "execution": {
     "iopub.execute_input": "2024-05-22T10:36:20.099668Z",
     "iopub.status.busy": "2024-05-22T10:36:20.099256Z",
     "iopub.status.idle": "2024-05-22T10:36:20.107269Z",
     "shell.execute_reply": "2024-05-22T10:36:20.105843Z"
    },
    "papermill": {
     "duration": 0.059326,
     "end_time": "2024-05-22T10:36:20.109847",
     "exception": false,
     "start_time": "2024-05-22T10:36:20.050521",
     "status": "completed"
    },
    "tags": []
   },
   "outputs": [],
   "source": [
    "#Creating a new column \"individual fare\" by dividing the fare with the number of members\n",
    "\n",
    "df['Individual_fare'] = df['Fare']/(df['SibSp']+df['Parch']+1)"
   ]
  },
  {
   "cell_type": "code",
   "execution_count": 57,
   "id": "4ea2dece",
   "metadata": {
    "execution": {
     "iopub.execute_input": "2024-05-22T10:36:20.216227Z",
     "iopub.status.busy": "2024-05-22T10:36:20.215152Z",
     "iopub.status.idle": "2024-05-22T10:36:20.447199Z",
     "shell.execute_reply": "2024-05-22T10:36:20.445960Z"
    },
    "papermill": {
     "duration": 0.2887,
     "end_time": "2024-05-22T10:36:20.450242",
     "exception": false,
     "start_time": "2024-05-22T10:36:20.161542",
     "status": "completed"
    },
    "tags": []
   },
   "outputs": [
    {
     "data": {
      "text/plain": [
       "<Axes: >"
      ]
     },
     "execution_count": 57,
     "metadata": {},
     "output_type": "execute_result"
    },
    {
     "data": {
      "image/png": "[encoded data removed]",
      "text/plain": [
       "<Figure size 640x480 with 1 Axes>"
      ]
     },
     "metadata": {},
     "output_type": "display_data"
    }
   ],
   "source": [
    "df['Individual_fare'].plot(kind = \"box\")"
   ]
  },
  {
   "cell_type": "code",
   "execution_count": 58,
   "id": "2464d58c",
   "metadata": {
    "execution": {
     "iopub.execute_input": "2024-05-22T10:36:20.550690Z",
     "iopub.status.busy": "2024-05-22T10:36:20.550290Z",
     "iopub.status.idle": "2024-05-22T10:36:20.571073Z",
     "shell.execute_reply": "2024-05-22T10:36:20.569737Z"
    },
    "papermill": {
     "duration": 0.074897,
     "end_time": "2024-05-22T10:36:20.573657",
     "exception": false,
     "start_time": "2024-05-22T10:36:20.498760",
     "status": "completed"
    },
    "tags": []
   },
   "outputs": [
    {
     "data": {
      "text/html": [
       "<div>\n",
       "<style scoped>\n",
       "    .dataframe tbody tr th:only-of-type {\n",
       "        vertical-align: middle;\n",
       "    }\n",
       "\n",
       "    .dataframe tbody tr th {\n",
       "        vertical-align: top;\n",
       "    }\n",
       "\n",
       "    .dataframe thead th {\n",
       "        text-align: right;\n",
       "    }\n",
       "</style>\n",
       "<table border=\"1\" class=\"dataframe\">\n",
       "  <thead>\n",
       "    <tr style=\"text-align: right;\">\n",
       "      <th></th>\n",
       "      <th>Individual_fare</th>\n",
       "      <th>Fare</th>\n",
       "    </tr>\n",
       "  </thead>\n",
       "  <tbody>\n",
       "    <tr>\n",
       "      <th>count</th>\n",
       "      <td>1308.000000</td>\n",
       "      <td>1308.000000</td>\n",
       "    </tr>\n",
       "    <tr>\n",
       "      <th>mean</th>\n",
       "      <td>20.518215</td>\n",
       "      <td>33.295479</td>\n",
       "    </tr>\n",
       "    <tr>\n",
       "      <th>std</th>\n",
       "      <td>35.774337</td>\n",
       "      <td>51.758668</td>\n",
       "    </tr>\n",
       "    <tr>\n",
       "      <th>min</th>\n",
       "      <td>0.000000</td>\n",
       "      <td>0.000000</td>\n",
       "    </tr>\n",
       "    <tr>\n",
       "      <th>25%</th>\n",
       "      <td>7.452767</td>\n",
       "      <td>7.895800</td>\n",
       "    </tr>\n",
       "    <tr>\n",
       "      <th>50%</th>\n",
       "      <td>8.512483</td>\n",
       "      <td>14.454200</td>\n",
       "    </tr>\n",
       "    <tr>\n",
       "      <th>75%</th>\n",
       "      <td>24.237500</td>\n",
       "      <td>31.275000</td>\n",
       "    </tr>\n",
       "    <tr>\n",
       "      <th>max</th>\n",
       "      <td>512.329200</td>\n",
       "      <td>512.329200</td>\n",
       "    </tr>\n",
       "  </tbody>\n",
       "</table>\n",
       "</div>"
      ],
      "text/plain": [
       "       Individual_fare         Fare\n",
       "count      1308.000000  1308.000000\n",
       "mean         20.518215    33.295479\n",
       "std          35.774337    51.758668\n",
       "min           0.000000     0.000000\n",
       "25%           7.452767     7.895800\n",
       "50%           8.512483    14.454200\n",
       "75%          24.237500    31.275000\n",
       "max         512.329200   512.329200"
      ]
     },
     "execution_count": 58,
     "metadata": {},
     "output_type": "execute_result"
    }
   ],
   "source": [
    "df[['Individual_fare', 'Fare']].describe()"
   ]
  },
  {
   "cell_type": "markdown",
   "id": "f7aa3a26",
   "metadata": {
    "papermill": {
     "duration": 0.049135,
     "end_time": "2024-05-22T10:36:20.671380",
     "exception": false,
     "start_time": "2024-05-22T10:36:20.622245",
     "status": "completed"
    },
    "tags": []
   },
   "source": [
    "*A passenger has actually paid 512 dollars*"
   ]
  },
  {
   "cell_type": "markdown",
   "id": "81900ae6",
   "metadata": {
    "papermill": {
     "duration": 0.048709,
     "end_time": "2024-05-22T10:36:20.772872",
     "exception": false,
     "start_time": "2024-05-22T10:36:20.724163",
     "status": "completed"
    },
    "tags": []
   },
   "source": [
    "### Sibsp and Parch\n",
    "- we can combine the two variables to get the family size\n",
    "- Family type:\n",
    "* 1 : Alone\n",
    "* 2-4 : Small family\n",
    "* more than 5 : large family"
   ]
  },
  {
   "cell_type": "code",
   "execution_count": 59,
   "id": "98dcf548",
   "metadata": {
    "execution": {
     "iopub.execute_input": "2024-05-22T10:36:20.873606Z",
     "iopub.status.busy": "2024-05-22T10:36:20.872454Z",
     "iopub.status.idle": "2024-05-22T10:36:20.878986Z",
     "shell.execute_reply": "2024-05-22T10:36:20.878156Z"
    },
    "papermill": {
     "duration": 0.058514,
     "end_time": "2024-05-22T10:36:20.881397",
     "exception": false,
     "start_time": "2024-05-22T10:36:20.822883",
     "status": "completed"
    },
    "tags": []
   },
   "outputs": [],
   "source": [
    "df['Family_size'] = df[\"SibSp\"]+df['Parch']+1"
   ]
  },
  {
   "cell_type": "code",
   "execution_count": 60,
   "id": "bf467a9c",
   "metadata": {
    "execution": {
     "iopub.execute_input": "2024-05-22T10:36:20.982233Z",
     "iopub.status.busy": "2024-05-22T10:36:20.981584Z",
     "iopub.status.idle": "2024-05-22T10:36:20.987594Z",
     "shell.execute_reply": "2024-05-22T10:36:20.986092Z"
    },
    "papermill": {
     "duration": 0.060979,
     "end_time": "2024-05-22T10:36:20.990213",
     "exception": false,
     "start_time": "2024-05-22T10:36:20.929234",
     "status": "completed"
    },
    "tags": []
   },
   "outputs": [],
   "source": [
    "#creating a new variable \"family type\"\n",
    "\n",
    "def transform_family_size (num):\n",
    "    if num == 1 : \n",
    "        return \"alone\"\n",
    "    elif num>2 and num < 5:\n",
    "        return \"small\"\n",
    "    else:\n",
    "        return \"large\""
   ]
  },
  {
   "cell_type": "code",
   "execution_count": 61,
   "id": "49abc8ff",
   "metadata": {
    "execution": {
     "iopub.execute_input": "2024-05-22T10:36:21.092072Z",
     "iopub.status.busy": "2024-05-22T10:36:21.091387Z",
     "iopub.status.idle": "2024-05-22T10:36:21.097406Z",
     "shell.execute_reply": "2024-05-22T10:36:21.096297Z"
    },
    "papermill": {
     "duration": 0.060521,
     "end_time": "2024-05-22T10:36:21.099914",
     "exception": false,
     "start_time": "2024-05-22T10:36:21.039393",
     "status": "completed"
    },
    "tags": []
   },
   "outputs": [],
   "source": [
    "#calling the function\n",
    "\n",
    "df[\"family_type\"] = df['Family_size'].apply(transform_family_size)"
   ]
  },
  {
   "cell_type": "code",
   "execution_count": 62,
   "id": "f6ab06f0",
   "metadata": {
    "execution": {
     "iopub.execute_input": "2024-05-22T10:36:21.202212Z",
     "iopub.status.busy": "2024-05-22T10:36:21.201395Z",
     "iopub.status.idle": "2024-05-22T10:36:21.221358Z",
     "shell.execute_reply": "2024-05-22T10:36:21.220078Z"
    },
    "papermill": {
     "duration": 0.073741,
     "end_time": "2024-05-22T10:36:21.223965",
     "exception": false,
     "start_time": "2024-05-22T10:36:21.150224",
     "status": "completed"
    },
    "tags": []
   },
   "outputs": [
    {
     "data": {
      "text/html": [
       "<div>\n",
       "<style scoped>\n",
       "    .dataframe tbody tr th:only-of-type {\n",
       "        vertical-align: middle;\n",
       "    }\n",
       "\n",
       "    .dataframe tbody tr th {\n",
       "        vertical-align: top;\n",
       "    }\n",
       "\n",
       "    .dataframe thead th {\n",
       "        text-align: right;\n",
       "    }\n",
       "</style>\n",
       "<table border=\"1\" class=\"dataframe\">\n",
       "  <thead>\n",
       "    <tr style=\"text-align: right;\">\n",
       "      <th>family_type</th>\n",
       "      <th>alone</th>\n",
       "      <th>large</th>\n",
       "      <th>small</th>\n",
       "    </tr>\n",
       "    <tr>\n",
       "      <th>Survived</th>\n",
       "      <th></th>\n",
       "      <th></th>\n",
       "      <th></th>\n",
       "    </tr>\n",
       "  </thead>\n",
       "  <tbody>\n",
       "    <tr>\n",
       "      <th>0.0</th>\n",
       "      <td>69.646182</td>\n",
       "      <td>55.605381</td>\n",
       "      <td>38.931298</td>\n",
       "    </tr>\n",
       "    <tr>\n",
       "      <th>1.0</th>\n",
       "      <td>30.353818</td>\n",
       "      <td>44.394619</td>\n",
       "      <td>61.068702</td>\n",
       "    </tr>\n",
       "  </tbody>\n",
       "</table>\n",
       "</div>"
      ],
      "text/plain": [
       "family_type      alone      large      small\n",
       "Survived                                    \n",
       "0.0          69.646182  55.605381  38.931298\n",
       "1.0          30.353818  44.394619  61.068702"
      ]
     },
     "execution_count": 62,
     "metadata": {},
     "output_type": "execute_result"
    }
   ],
   "source": [
    "#Contingency table\n",
    "\n",
    "pd.crosstab(df['Survived'], df['family_type'], normalize = \"columns\")*100"
   ]
  },
  {
   "cell_type": "markdown",
   "id": "5c4584b7",
   "metadata": {
    "papermill": {
     "duration": 0.048906,
     "end_time": "2024-05-22T10:36:21.322242",
     "exception": false,
     "start_time": "2024-05-22T10:36:21.273336",
     "status": "completed"
    },
    "tags": []
   },
   "source": [
    "*If the passenger is travelling alone, then he/she has the highest chance of dying*\n",
    "\n",
    "*In case of a small family, there is 61% chance of survivng*"
   ]
  },
  {
   "cell_type": "markdown",
   "id": "466e751e",
   "metadata": {
    "papermill": {
     "duration": 0.049971,
     "end_time": "2024-05-22T10:36:21.422418",
     "exception": false,
     "start_time": "2024-05-22T10:36:21.372447",
     "status": "completed"
    },
    "tags": []
   },
   "source": [
    "### Name"
   ]
  },
  {
   "cell_type": "code",
   "execution_count": 63,
   "id": "b1008fd8",
   "metadata": {
    "execution": {
     "iopub.execute_input": "2024-05-22T10:36:21.521508Z",
     "iopub.status.busy": "2024-05-22T10:36:21.521099Z",
     "iopub.status.idle": "2024-05-22T10:36:21.531567Z",
     "shell.execute_reply": "2024-05-22T10:36:21.530112Z"
    },
    "papermill": {
     "duration": 0.063588,
     "end_time": "2024-05-22T10:36:21.534605",
     "exception": false,
     "start_time": "2024-05-22T10:36:21.471017",
     "status": "completed"
    },
    "tags": []
   },
   "outputs": [],
   "source": [
    "#extracting the last name\n",
    "\n",
    "df['surname'] = df['Name'].str.split(\",\").str.get(0)"
   ]
  },
  {
   "cell_type": "code",
   "execution_count": 64,
   "id": "2fec6a1a",
   "metadata": {
    "execution": {
     "iopub.execute_input": "2024-05-22T10:36:21.636205Z",
     "iopub.status.busy": "2024-05-22T10:36:21.635472Z",
     "iopub.status.idle": "2024-05-22T10:36:21.648291Z",
     "shell.execute_reply": "2024-05-22T10:36:21.647379Z"
    },
    "papermill": {
     "duration": 0.066565,
     "end_time": "2024-05-22T10:36:21.650880",
     "exception": false,
     "start_time": "2024-05-22T10:36:21.584315",
     "status": "completed"
    },
    "tags": []
   },
   "outputs": [],
   "source": [
    "#title \n",
    "\n",
    "df['title'] = df['Name'].str.split(',').str.get(1).str.strip().str.split(' ').str.get(0)"
   ]
  },
  {
   "cell_type": "code",
   "execution_count": 65,
   "id": "410d2b86",
   "metadata": {
    "execution": {
     "iopub.execute_input": "2024-05-22T10:36:21.752005Z",
     "iopub.status.busy": "2024-05-22T10:36:21.751250Z",
     "iopub.status.idle": "2024-05-22T10:36:21.760647Z",
     "shell.execute_reply": "2024-05-22T10:36:21.759405Z"
    },
    "papermill": {
     "duration": 0.063023,
     "end_time": "2024-05-22T10:36:21.763346",
     "exception": false,
     "start_time": "2024-05-22T10:36:21.700323",
     "status": "completed"
    },
    "tags": []
   },
   "outputs": [
    {
     "data": {
      "text/plain": [
       "title\n",
       "Mr.          757\n",
       "Miss.        260\n",
       "Mrs.         197\n",
       "Master.       61\n",
       "Rev.           8\n",
       "Dr.            8\n",
       "Col.           4\n",
       "Mlle.          2\n",
       "Major.         2\n",
       "Ms.            2\n",
       "Lady.          1\n",
       "Sir.           1\n",
       "Mme.           1\n",
       "Don.           1\n",
       "Capt.          1\n",
       "the            1\n",
       "Jonkheer.      1\n",
       "Dona.          1\n",
       "Name: count, dtype: int64"
      ]
     },
     "execution_count": 65,
     "metadata": {},
     "output_type": "execute_result"
    }
   ],
   "source": [
    "#extracting the title\n",
    "df['title'].value_counts()"
   ]
  },
  {
   "cell_type": "code",
   "execution_count": 66,
   "id": "16f59f42",
   "metadata": {
    "execution": {
     "iopub.execute_input": "2024-05-22T10:36:21.864339Z",
     "iopub.status.busy": "2024-05-22T10:36:21.863952Z",
     "iopub.status.idle": "2024-05-22T10:36:21.879064Z",
     "shell.execute_reply": "2024-05-22T10:36:21.877742Z"
    },
    "papermill": {
     "duration": 0.068733,
     "end_time": "2024-05-22T10:36:21.881688",
     "exception": false,
     "start_time": "2024-05-22T10:36:21.812955",
     "status": "completed"
    },
    "tags": []
   },
   "outputs": [],
   "source": [
    "#Cleaning \"Title\"\n",
    "# We can combine the extra title and replace it with \"other\"\n",
    "df['title'] = df['title'].str.replace('Rev.','other')\n",
    "df['title'] = df['title'].str.replace('Dr.','other')\n",
    "df['title'] = df['title'].str.replace('Col.','other')\n",
    "df['title'] = df['title'].str.replace('Major.','other')\n",
    "df['title'] = df['title'].str.replace('Capt.','other')\n",
    "df['title'] = df['title'].str.replace('Jonkheer.','other')"
   ]
  },
  {
   "cell_type": "code",
   "execution_count": 67,
   "id": "4f0f4c73",
   "metadata": {
    "execution": {
     "iopub.execute_input": "2024-05-22T10:36:21.987709Z",
     "iopub.status.busy": "2024-05-22T10:36:21.986881Z",
     "iopub.status.idle": "2024-05-22T10:36:21.997731Z",
     "shell.execute_reply": "2024-05-22T10:36:21.996558Z"
    },
    "papermill": {
     "duration": 0.068254,
     "end_time": "2024-05-22T10:36:22.000363",
     "exception": false,
     "start_time": "2024-05-22T10:36:21.932109",
     "status": "completed"
    },
    "tags": []
   },
   "outputs": [
    {
     "data": {
      "text/plain": [
       "title\n",
       "Mr.        757\n",
       "Miss.      260\n",
       "Mrs.       197\n",
       "Master.     61\n",
       "other       24\n",
       "Ms.          2\n",
       "Mlle.        2\n",
       "Don.         1\n",
       "Mme.         1\n",
       "Lady.        1\n",
       "Sir.         1\n",
       "the          1\n",
       "Dona.        1\n",
       "Name: count, dtype: int64"
      ]
     },
     "execution_count": 67,
     "metadata": {},
     "output_type": "execute_result"
    }
   ],
   "source": [
    "df.title.value_counts()"
   ]
  },
  {
   "cell_type": "code",
   "execution_count": 68,
   "id": "d1c76b9b",
   "metadata": {
    "execution": {
     "iopub.execute_input": "2024-05-22T10:36:22.102095Z",
     "iopub.status.busy": "2024-05-22T10:36:22.101660Z",
     "iopub.status.idle": "2024-05-22T10:36:22.109736Z",
     "shell.execute_reply": "2024-05-22T10:36:22.108740Z"
    },
    "papermill": {
     "duration": 0.06143,
     "end_time": "2024-05-22T10:36:22.112085",
     "exception": false,
     "start_time": "2024-05-22T10:36:22.050655",
     "status": "completed"
    },
    "tags": []
   },
   "outputs": [],
   "source": [
    "#does title affect the survival rate?\n",
    "\n",
    "temp_df = df[df['title'].isin(['Mr.','Miss.','Mrs.','Master.','ootherr'])]"
   ]
  },
  {
   "cell_type": "code",
   "execution_count": 69,
   "id": "4ab6cf9c",
   "metadata": {
    "execution": {
     "iopub.execute_input": "2024-05-22T10:36:22.215854Z",
     "iopub.status.busy": "2024-05-22T10:36:22.214553Z",
     "iopub.status.idle": "2024-05-22T10:36:22.237528Z",
     "shell.execute_reply": "2024-05-22T10:36:22.236370Z"
    },
    "papermill": {
     "duration": 0.077356,
     "end_time": "2024-05-22T10:36:22.240171",
     "exception": false,
     "start_time": "2024-05-22T10:36:22.162815",
     "status": "completed"
    },
    "tags": []
   },
   "outputs": [
    {
     "data": {
      "text/html": [
       "<div>\n",
       "<style scoped>\n",
       "    .dataframe tbody tr th:only-of-type {\n",
       "        vertical-align: middle;\n",
       "    }\n",
       "\n",
       "    .dataframe tbody tr th {\n",
       "        vertical-align: top;\n",
       "    }\n",
       "\n",
       "    .dataframe thead th {\n",
       "        text-align: right;\n",
       "    }\n",
       "</style>\n",
       "<table border=\"1\" class=\"dataframe\">\n",
       "  <thead>\n",
       "    <tr style=\"text-align: right;\">\n",
       "      <th>title</th>\n",
       "      <th>Master.</th>\n",
       "      <th>Miss.</th>\n",
       "      <th>Mr.</th>\n",
       "      <th>Mrs.</th>\n",
       "    </tr>\n",
       "    <tr>\n",
       "      <th>Survived</th>\n",
       "      <th></th>\n",
       "      <th></th>\n",
       "      <th></th>\n",
       "      <th></th>\n",
       "    </tr>\n",
       "  </thead>\n",
       "  <tbody>\n",
       "    <tr>\n",
       "      <th>0.0</th>\n",
       "      <td>42.5</td>\n",
       "      <td>30.21978</td>\n",
       "      <td>84.332689</td>\n",
       "      <td>20.8</td>\n",
       "    </tr>\n",
       "    <tr>\n",
       "      <th>1.0</th>\n",
       "      <td>57.5</td>\n",
       "      <td>69.78022</td>\n",
       "      <td>15.667311</td>\n",
       "      <td>79.2</td>\n",
       "    </tr>\n",
       "  </tbody>\n",
       "</table>\n",
       "</div>"
      ],
      "text/plain": [
       "title     Master.     Miss.        Mr.  Mrs.\n",
       "Survived                                    \n",
       "0.0          42.5  30.21978  84.332689  20.8\n",
       "1.0          57.5  69.78022  15.667311  79.2"
      ]
     },
     "execution_count": 69,
     "metadata": {},
     "output_type": "execute_result"
    }
   ],
   "source": [
    "pd.crosstab(temp_df['Survived'],temp_df['title'],normalize='columns')*100"
   ]
  },
  {
   "cell_type": "markdown",
   "id": "e48a65be",
   "metadata": {
    "papermill": {
     "duration": 0.05229,
     "end_time": "2024-05-22T10:36:22.342881",
     "exception": false,
     "start_time": "2024-05-22T10:36:22.290591",
     "status": "completed"
    },
    "tags": []
   },
   "source": [
    "\"Mr\" has the highest chance of dying\n",
    "\n",
    "\"Miss\" has the highest chance of surviving"
   ]
  },
  {
   "cell_type": "markdown",
   "id": "7494e394",
   "metadata": {
    "papermill": {
     "duration": 0.053176,
     "end_time": "2024-05-22T10:36:22.448130",
     "exception": false,
     "start_time": "2024-05-22T10:36:22.394954",
     "status": "completed"
    },
    "tags": []
   },
   "source": [
    "### Cabin\n",
    "\n",
    "*We can analyze the cabin by extracting the initial letter because that signifies the deck on which the passenger stays in. The deck can help us understand which passenger has higher chance of survival*\n",
    "\n",
    "\n",
    "- A deck : First class lounge\n",
    "- B deck : dining facilities to first class passengers\n",
    "- C deck : Third class rooms\n",
    "- D deck : public room for first and second class (dining, saloon etc)\n",
    "- E deck : third class and seamen, cooks etc\n",
    "- F deck : second and third class\n",
    "- G deck : squash court. letters and parcels were stored here"
   ]
  },
  {
   "cell_type": "code",
   "execution_count": 70,
   "id": "dbbf107b",
   "metadata": {
    "execution": {
     "iopub.execute_input": "2024-05-22T10:36:22.552565Z",
     "iopub.status.busy": "2024-05-22T10:36:22.551143Z",
     "iopub.status.idle": "2024-05-22T10:36:22.560690Z",
     "shell.execute_reply": "2024-05-22T10:36:22.559835Z"
    },
    "papermill": {
     "duration": 0.064125,
     "end_time": "2024-05-22T10:36:22.563040",
     "exception": false,
     "start_time": "2024-05-22T10:36:22.498915",
     "status": "completed"
    },
    "tags": []
   },
   "outputs": [
    {
     "data": {
      "text/plain": [
       "Cabin\n",
       "C23 C25 C27        6\n",
       "G6                 5\n",
       "B57 B59 B63 B66    5\n",
       "C22 C26            4\n",
       "F33                4\n",
       "                  ..\n",
       "A14                1\n",
       "E63                1\n",
       "E12                1\n",
       "E38                1\n",
       "C105               1\n",
       "Name: count, Length: 186, dtype: int64"
      ]
     },
     "execution_count": 70,
     "metadata": {},
     "output_type": "execute_result"
    }
   ],
   "source": [
    "df['Cabin'].value_counts()"
   ]
  },
  {
   "cell_type": "code",
   "execution_count": 71,
   "id": "2adca6f6",
   "metadata": {
    "execution": {
     "iopub.execute_input": "2024-05-22T10:36:22.665612Z",
     "iopub.status.busy": "2024-05-22T10:36:22.664744Z",
     "iopub.status.idle": "2024-05-22T10:36:22.670587Z",
     "shell.execute_reply": "2024-05-22T10:36:22.669604Z"
    },
    "papermill": {
     "duration": 0.060006,
     "end_time": "2024-05-22T10:36:22.673076",
     "exception": false,
     "start_time": "2024-05-22T10:36:22.613070",
     "status": "completed"
    },
    "tags": []
   },
   "outputs": [],
   "source": [
    "#Replacing the missing values with M\n",
    "\n",
    "df['Cabin'] = df['Cabin'].fillna(\"M\")"
   ]
  },
  {
   "cell_type": "code",
   "execution_count": 72,
   "id": "09706a93",
   "metadata": {
    "execution": {
     "iopub.execute_input": "2024-05-22T10:36:22.775294Z",
     "iopub.status.busy": "2024-05-22T10:36:22.774654Z",
     "iopub.status.idle": "2024-05-22T10:36:22.784253Z",
     "shell.execute_reply": "2024-05-22T10:36:22.783171Z"
    },
    "papermill": {
     "duration": 0.063604,
     "end_time": "2024-05-22T10:36:22.786596",
     "exception": false,
     "start_time": "2024-05-22T10:36:22.722992",
     "status": "completed"
    },
    "tags": []
   },
   "outputs": [
    {
     "data": {
      "text/plain": [
       "Cabin\n",
       "M                  1014\n",
       "C23 C25 C27           6\n",
       "B57 B59 B63 B66       5\n",
       "G6                    5\n",
       "F33                   4\n",
       "                   ... \n",
       "A14                   1\n",
       "E63                   1\n",
       "E12                   1\n",
       "E38                   1\n",
       "C105                  1\n",
       "Name: count, Length: 187, dtype: int64"
      ]
     },
     "execution_count": 72,
     "metadata": {},
     "output_type": "execute_result"
    }
   ],
   "source": [
    "df['Cabin'].value_counts()"
   ]
  },
  {
   "cell_type": "code",
   "execution_count": 73,
   "id": "268818f1",
   "metadata": {
    "execution": {
     "iopub.execute_input": "2024-05-22T10:36:22.891231Z",
     "iopub.status.busy": "2024-05-22T10:36:22.890602Z",
     "iopub.status.idle": "2024-05-22T10:36:22.896810Z",
     "shell.execute_reply": "2024-05-22T10:36:22.895875Z"
    },
    "papermill": {
     "duration": 0.060154,
     "end_time": "2024-05-22T10:36:22.899126",
     "exception": false,
     "start_time": "2024-05-22T10:36:22.838972",
     "status": "completed"
    },
    "tags": []
   },
   "outputs": [],
   "source": [
    "#creating a new variable to extract deck info\n",
    "\n",
    "df['Deck'] = df['Cabin'].str[0]"
   ]
  },
  {
   "cell_type": "code",
   "execution_count": 74,
   "id": "57d46be6",
   "metadata": {
    "execution": {
     "iopub.execute_input": "2024-05-22T10:36:23.002112Z",
     "iopub.status.busy": "2024-05-22T10:36:23.001667Z",
     "iopub.status.idle": "2024-05-22T10:36:23.010688Z",
     "shell.execute_reply": "2024-05-22T10:36:23.009643Z"
    },
    "papermill": {
     "duration": 0.063497,
     "end_time": "2024-05-22T10:36:23.013006",
     "exception": false,
     "start_time": "2024-05-22T10:36:22.949509",
     "status": "completed"
    },
    "tags": []
   },
   "outputs": [
    {
     "data": {
      "text/plain": [
       "Deck\n",
       "M    1014\n",
       "C      94\n",
       "B      65\n",
       "D      46\n",
       "E      41\n",
       "A      22\n",
       "F      21\n",
       "G       5\n",
       "T       1\n",
       "Name: count, dtype: int64"
      ]
     },
     "execution_count": 74,
     "metadata": {},
     "output_type": "execute_result"
    }
   ],
   "source": [
    "df['Deck'].value_counts()"
   ]
  },
  {
   "cell_type": "code",
   "execution_count": 75,
   "id": "0853e6ba",
   "metadata": {
    "execution": {
     "iopub.execute_input": "2024-05-22T10:36:23.179910Z",
     "iopub.status.busy": "2024-05-22T10:36:23.179203Z",
     "iopub.status.idle": "2024-05-22T10:36:23.198928Z",
     "shell.execute_reply": "2024-05-22T10:36:23.196932Z"
    },
    "papermill": {
     "duration": 0.075374,
     "end_time": "2024-05-22T10:36:23.201548",
     "exception": false,
     "start_time": "2024-05-22T10:36:23.126174",
     "status": "completed"
    },
    "tags": []
   },
   "outputs": [
    {
     "data": {
      "text/html": [
       "<div>\n",
       "<style scoped>\n",
       "    .dataframe tbody tr th:only-of-type {\n",
       "        vertical-align: middle;\n",
       "    }\n",
       "\n",
       "    .dataframe tbody tr th {\n",
       "        vertical-align: top;\n",
       "    }\n",
       "\n",
       "    .dataframe thead th {\n",
       "        text-align: right;\n",
       "    }\n",
       "</style>\n",
       "<table border=\"1\" class=\"dataframe\">\n",
       "  <thead>\n",
       "    <tr style=\"text-align: right;\">\n",
       "      <th>Pclass</th>\n",
       "      <th>1</th>\n",
       "      <th>2</th>\n",
       "      <th>3</th>\n",
       "    </tr>\n",
       "    <tr>\n",
       "      <th>Deck</th>\n",
       "      <th></th>\n",
       "      <th></th>\n",
       "      <th></th>\n",
       "    </tr>\n",
       "  </thead>\n",
       "  <tbody>\n",
       "    <tr>\n",
       "      <th>A</th>\n",
       "      <td>22</td>\n",
       "      <td>0</td>\n",
       "      <td>0</td>\n",
       "    </tr>\n",
       "    <tr>\n",
       "      <th>B</th>\n",
       "      <td>65</td>\n",
       "      <td>0</td>\n",
       "      <td>0</td>\n",
       "    </tr>\n",
       "    <tr>\n",
       "      <th>C</th>\n",
       "      <td>94</td>\n",
       "      <td>0</td>\n",
       "      <td>0</td>\n",
       "    </tr>\n",
       "    <tr>\n",
       "      <th>D</th>\n",
       "      <td>40</td>\n",
       "      <td>6</td>\n",
       "      <td>0</td>\n",
       "    </tr>\n",
       "    <tr>\n",
       "      <th>E</th>\n",
       "      <td>34</td>\n",
       "      <td>4</td>\n",
       "      <td>3</td>\n",
       "    </tr>\n",
       "    <tr>\n",
       "      <th>F</th>\n",
       "      <td>0</td>\n",
       "      <td>13</td>\n",
       "      <td>8</td>\n",
       "    </tr>\n",
       "    <tr>\n",
       "      <th>G</th>\n",
       "      <td>0</td>\n",
       "      <td>0</td>\n",
       "      <td>5</td>\n",
       "    </tr>\n",
       "    <tr>\n",
       "      <th>M</th>\n",
       "      <td>67</td>\n",
       "      <td>254</td>\n",
       "      <td>693</td>\n",
       "    </tr>\n",
       "    <tr>\n",
       "      <th>T</th>\n",
       "      <td>1</td>\n",
       "      <td>0</td>\n",
       "      <td>0</td>\n",
       "    </tr>\n",
       "  </tbody>\n",
       "</table>\n",
       "</div>"
      ],
      "text/plain": [
       "Pclass   1    2    3\n",
       "Deck                \n",
       "A       22    0    0\n",
       "B       65    0    0\n",
       "C       94    0    0\n",
       "D       40    6    0\n",
       "E       34    4    3\n",
       "F        0   13    8\n",
       "G        0    0    5\n",
       "M       67  254  693\n",
       "T        1    0    0"
      ]
     },
     "execution_count": 75,
     "metadata": {},
     "output_type": "execute_result"
    }
   ],
   "source": [
    "pd.crosstab(df['Deck'], df['Pclass'])"
   ]
  },
  {
   "cell_type": "code",
   "execution_count": 76,
   "id": "a3dd8daa",
   "metadata": {
    "execution": {
     "iopub.execute_input": "2024-05-22T10:36:23.305710Z",
     "iopub.status.busy": "2024-05-22T10:36:23.304970Z",
     "iopub.status.idle": "2024-05-22T10:36:23.682037Z",
     "shell.execute_reply": "2024-05-22T10:36:23.681142Z"
    },
    "papermill": {
     "duration": 0.430885,
     "end_time": "2024-05-22T10:36:23.684528",
     "exception": false,
     "start_time": "2024-05-22T10:36:23.253643",
     "status": "completed"
    },
    "tags": []
   },
   "outputs": [
    {
     "data": {
      "text/plain": [
       "<Axes: xlabel='Deck'>"
      ]
     },
     "execution_count": 76,
     "metadata": {},
     "output_type": "execute_result"
    },
    {
     "data": {
      "image/png": "[encoded data removed]",
      "text/plain": [
       "<Figure size 640x480 with 1 Axes>"
      ]
     },
     "metadata": {},
     "output_type": "display_data"
    }
   ],
   "source": [
    "pd.crosstab(df['Deck'],df['Survived'],normalize='index').plot(kind='bar',stacked=True)"
   ]
  },
  {
   "cell_type": "markdown",
   "id": "5a918cd6",
   "metadata": {
    "papermill": {
     "duration": 0.051723,
     "end_time": "2024-05-22T10:36:23.787300",
     "exception": false,
     "start_time": "2024-05-22T10:36:23.735577",
     "status": "completed"
    },
    "tags": []
   },
   "source": []
  },
  {
   "cell_type": "code",
   "execution_count": null,
   "id": "2d919c8b",
   "metadata": {
    "papermill": {
     "duration": 0.053337,
     "end_time": "2024-05-22T10:36:23.894726",
     "exception": false,
     "start_time": "2024-05-22T10:36:23.841389",
     "status": "completed"
    },
    "tags": []
   },
   "outputs": [],
   "source": []
  }
 ],
 "metadata": {
  "kaggle": {
   "accelerator": "none",
   "dataSources": [
    {
     "databundleVersionId": 26502,
     "sourceId": 3136,
     "sourceType": "competition"
    }
   ],
   "dockerImageVersionId": 30698,
   "isGpuEnabled": false,
   "isInternetEnabled": true,
   "language": "python",
   "sourceType": "notebook"
  },
  "kernelspec": {
   "display_name": "Python 3",
   "language": "python",
   "name": "python3"
  },
  "language_info": {
   "codemirror_mode": {
    "name": "ipython",
    "version": 3
   },
   "file_extension": ".py",
   "mimetype": "text/x-python",
   "name": "python",
   "nbconvert_exporter": "python",
   "pygments_lexer": "ipython3",
   "version": "3.10.13"
  },
  "papermill": {
   "default_parameters": {},
   "duration": 24.615321,
   "end_time": "2024-05-22T10:36:24.677436",
   "environment_variables": {},
   "exception": null,
   "input_path": "__notebook__.ipynb",
   "output_path": "__notebook__.ipynb",
   "parameters": {},
   "start_time": "2024-05-22T10:36:00.062115",
   "version": "2.5.0"
  }
 },
 "nbformat": 4,
 "nbformat_minor": 5
}
